{
 "cells": [
  {
   "cell_type": "markdown",
   "metadata": {},
   "source": "**Question** : Write a program that accepts a sentence and calculates the number of letters and\nDigits using isdigit() and isalpha() functions.\n"
  },
  {
   "cell_type": "markdown",
   "metadata": {},
   "source": "**Level** : Easy\n"
  },
  {
   "cell_type": "markdown",
   "metadata": {},
   "source": "**Input Format** : alphanumeric string\n"
  },
  {
   "cell_type": "markdown",
   "metadata": {},
   "source": "**Output Format** : Number of letters and digits"
  },
  {
   "cell_type": "markdown",
   "metadata": {},
   "source": "**Sample Input** : hello world!123\n"
  },
  {
   "cell_type": "markdown",
   "metadata": {},
   "source": "**Sample Output** :\n    \nLetters 10\n\nDigits 3\n"
  },
  {
   "cell_type": "code",
   "execution_count": 1,
   "metadata": {},
   "outputs": [
    {
     "name": "stdout",
     "output_type": "stream",
     "text": "Input a string'hello world!123'\n('Letters', 10)\n('Digits', 3)\n"
    }
   ],
   "source": "s = input(\"Input a string\")\nd=l=0\nfor c in s:\n    if c.isdigit():\n        d=d+1\n    elif c.isalpha():\n        l=l+1\n    else:\n        pass\nprint(\"Letters\", l)\nprint(\"Digits\", d)"
  },
  {
   "cell_type": "code",
   "execution_count": null,
   "metadata": {},
   "outputs": [],
   "source": ""
  }
 ],
 "metadata": {
  "kernelspec": {
   "display_name": "Python 3",
   "language": "python",
   "name": "python3"
  },
  "language_info": {
   "codemirror_mode": {
    "name": "ipython",
    "version": 2
   },
   "file_extension": ".py",
   "mimetype": "text/x-python",
   "name": "python",
   "nbconvert_exporter": "python",
   "pygments_lexer": "ipython2",
   "version": "2.7.15+"
  }
 },
 "nbformat": 4,
 "nbformat_minor": 4
}

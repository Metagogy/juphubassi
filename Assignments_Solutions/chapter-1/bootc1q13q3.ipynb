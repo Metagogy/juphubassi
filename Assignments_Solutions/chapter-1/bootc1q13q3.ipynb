{
 "cells": [
  {
   "cell_type": "markdown",
   "metadata": {},
   "source": "**Question** : Write a program that accepts a fixed sentence and calculates the number of uppercase letters and lowercase letters without using isupper() and islower() function.\n"
  },
  {
   "cell_type": "markdown",
   "metadata": {},
   "source": "**Level** : Easy\n"
  },
  {
   "cell_type": "markdown",
   "metadata": {},
   "source": "**Input Format** : sentence as input"
  },
  {
   "cell_type": "markdown",
   "metadata": {},
   "source": "**Output Format** : Calculates uppercase and lowercase letters\n"
  },
  {
   "cell_type": "markdown",
   "metadata": {},
   "source": "**Sample Input** : AI Educator is GOOD website to Learn\n"
  },
  {
   "cell_type": "markdown",
   "metadata": {},
   "source": "**Sample Output** :\n    \nLower case characters:  22\n    \nUpper case characters:  8\n"
  },
  {
   "cell_type": "code",
   "execution_count": 1,
   "metadata": {},
   "outputs": [
    {
     "name": "stdout",
     "output_type": "stream",
     "text": "('Lower case characters: ', 22)\n('Upper case characters: ', 8)\n"
    }
   ],
   "source": "\ns = \"AI Educator is GOOD website to Learn\"\nl,u = 0,0\nfor i in s: \n    if (i>='a' and i<='z'): \n        l=l+1                  \n    if (i>='A' and i<='Z'): \n        u=u+1               \nprint('Lower case characters: ',l) \nprint('Upper case characters: ',u)\n"
  },
  {
   "cell_type": "code",
   "execution_count": null,
   "metadata": {},
   "outputs": [],
   "source": ""
  }
 ],
 "metadata": {
  "kernelspec": {
   "display_name": "Python 3",
   "language": "python",
   "name": "python3"
  },
  "language_info": {
   "codemirror_mode": {
    "name": "ipython",
    "version": 2
   },
   "file_extension": ".py",
   "mimetype": "text/x-python",
   "name": "python",
   "nbconvert_exporter": "python",
   "pygments_lexer": "ipython2",
   "version": "2.7.15+"
  }
 },
 "nbformat": 4,
 "nbformat_minor": 4
}

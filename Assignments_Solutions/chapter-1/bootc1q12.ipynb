{
 "cells": [
  {
   "cell_type": "markdown",
   "metadata": {},
   "source": "**Question :** Write a program to print the id values of list elements?"
  },
  {
   "cell_type": "markdown",
   "metadata": {},
   "source": "**Level :** Easy"
  },
  {
   "cell_type": "markdown",
   "metadata": {},
   "source": "**Input format:** List"
  },
  {
   "cell_type": "markdown",
   "metadata": {},
   "source": "**Output format:** Id values"
  },
  {
   "cell_type": "markdown",
   "metadata": {},
   "source": "**Sample Input :** 0 1 2"
  },
  {
   "cell_type": "markdown",
   "metadata": {},
   "source": "**Sample Output :**\n\nid number of 0 is 1641211808\n\nid number of 1 is 1641211824\n\nid number of 2 is 1641211840"
  },
  {
   "cell_type": "code",
   "execution_count": 1,
   "metadata": {},
   "outputs": [
    {
     "name": "stdout",
     "output_type": "stream",
     "text": "'0 1 2'\nid number of 0 is 93978967692752\nid number of 1 is 93978967692728\nid number of 2 is 93978967692704\n"
    }
   ],
   "source": "\na=list(input().split())\n\nfor i in range(len(a)):\n    print(\"id number of {} is {}\".format(i,id(i)))\n\n"
  }
 ],
 "metadata": {
  "kernelspec": {
   "display_name": "Python 3",
   "language": "python",
   "name": "python3"
  },
  "language_info": {
   "codemirror_mode": {
    "name": "ipython",
    "version": 2
   },
   "file_extension": ".py",
   "mimetype": "text/x-python",
   "name": "python",
   "nbconvert_exporter": "python",
   "pygments_lexer": "ipython2",
   "version": "2.7.15+"
  }
 },
 "nbformat": 4,
 "nbformat_minor": 4
}

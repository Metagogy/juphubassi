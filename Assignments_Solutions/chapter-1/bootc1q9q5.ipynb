{
 "cells": [
  {
   "cell_type": "markdown",
   "metadata": {},
   "source": "**Question** : Explain the difference between division and floor division?"
  },
  {
   "cell_type": "markdown",
   "metadata": {},
   "source": "**Level** : Easy"
  },
  {
   "cell_type": "markdown",
   "metadata": {},
   "source": "The former is floating point division, and the latter is floor division, sometimes also called integer division. ... Regardless of the future import, 5.0 // 2 will return 2.0 since that's the floor division result of the operation.\ndivision (/) returns a float and acts as regular math division\nfloor (//) returns the divisible part as integer without the remainder\n\n5/2 = 2.5\n5//2 = 2 (remainder 1)\n"
  },
  {
   "cell_type": "code",
   "execution_count": null,
   "metadata": {},
   "outputs": [],
   "source": ""
  }
 ],
 "metadata": {
  "kernelspec": {
   "display_name": "Python 3",
   "language": "python",
   "name": "python3"
  },
  "language_info": {
   "codemirror_mode": {
    "name": "ipython",
    "version": 2
   },
   "file_extension": ".py",
   "mimetype": "text/x-python",
   "name": "python",
   "nbconvert_exporter": "python",
   "pygments_lexer": "ipython2",
   "version": "2.7.15+"
  }
 },
 "nbformat": 4,
 "nbformat_minor": 4
}

{
 "cells": [
  {
   "cell_type": "markdown",
   "metadata": {},
   "source": "**Question** : Write a program that accepts sequences of lines as input and prints the lines after making all characters in the sentence lowered by using comparison operators. \n"
  },
  {
   "cell_type": "markdown",
   "metadata": {},
   "source": "**Level** : Easy\n"
  },
  {
   "cell_type": "markdown",
   "metadata": {},
   "source": "**Input format** : sequences of lines as input and prints the lines after making all characters in the sentence lowered.\n"
  },
  {
   "cell_type": "markdown",
   "metadata": {},
   "source": "**Output format** : Strings\n"
  },
  {
   "cell_type": "markdown",
   "metadata": {},
   "source": "**Sample Input** :\n    \nHELLO WORLD\n"
  },
  {
   "cell_type": "markdown",
   "metadata": {},
   "source": "**Sample Output** : \n    \nhello world\n"
  },
  {
   "cell_type": "code",
   "execution_count": 1,
   "metadata": {},
   "outputs": [
    {
     "name": "stdout",
     "output_type": "stream",
     "text": "Please Enter your Own String : 'HELLO WORLD'\n('\\nOriginal String in Uppercase  =  ', 'HELLO WORLD')\n('The Given String in Lowercase =  ', 'hello world')\n"
    }
   ],
   "source": "\nstring = input(\"Please Enter your Own String : \")\nstring1 = ''\ni = 0\nwhile(i < len(string)): \n    if(string[i] >= 'A' and string[i] <= 'Z'):\n        string1 = string1 + chr((ord(string[i]) + 32))\n    else:\n        string1 = string1 + string[i]\n    i = i + 1\nprint(\"\\nOriginal String in Uppercase  =  \", string)\nprint(\"The Given String in Lowercase =  \", string1)\n"
  },
  {
   "cell_type": "code",
   "execution_count": null,
   "metadata": {},
   "outputs": [],
   "source": ""
  }
 ],
 "metadata": {
  "kernelspec": {
   "display_name": "Python 3",
   "language": "python",
   "name": "python3"
  },
  "language_info": {
   "codemirror_mode": {
    "name": "ipython",
    "version": 2
   },
   "file_extension": ".py",
   "mimetype": "text/x-python",
   "name": "python",
   "nbconvert_exporter": "python",
   "pygments_lexer": "ipython2",
   "version": "2.7.15+"
  }
 },
 "nbformat": 4,
 "nbformat_minor": 4
}

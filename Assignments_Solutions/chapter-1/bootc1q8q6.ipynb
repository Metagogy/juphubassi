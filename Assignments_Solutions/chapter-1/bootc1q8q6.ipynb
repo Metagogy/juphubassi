{
 "cells": [
  {
   "cell_type": "markdown",
   "metadata": {},
   "source": "**Question** : Write a python function that takes a number as input and returns the square of the number as output, and also print the function explanation using doc string?"
  },
  {
   "cell_type": "markdown",
   "metadata": {},
   "source": "**Level** : Medium"
  },
  {
   "cell_type": "markdown",
   "metadata": {},
   "source": "**Input format** : Integer"
  },
  {
   "cell_type": "markdown",
   "metadata": {},
   "source": "**Output format** : String and Integer"
  },
  {
   "cell_type": "markdown",
   "metadata": {},
   "source": "**Sample Input** : '5'"
  },
  {
   "cell_type": "markdown",
   "metadata": {},
   "source": "**Sample Output** : this function returns \n    \n        the square of any given\n        \n        number \n        \n25"
  },
  {
   "cell_type": "code",
   "execution_count": 1,
   "metadata": {},
   "outputs": [
    {
     "name": "stdout",
     "output_type": "stream",
     "text": "'5'\n this function returns \n        the square of any given\n        number \n"
    },
    {
     "data": {
      "text/plain": "25"
     },
     "execution_count": 1,
     "metadata": {},
     "output_type": "execute_result"
    }
   ],
   "source": "\nn = int(input())\ndef squared(n):\n    ''' this function returns \n        the square of any given\n        number '''\n    return n**2\n\nprint(squared.__doc__)\nsquared(n)\n\n\n"
  },
  {
   "cell_type": "code",
   "execution_count": null,
   "metadata": {},
   "outputs": [],
   "source": ""
  }
 ],
 "metadata": {
  "kernelspec": {
   "display_name": "Python 3",
   "language": "python",
   "name": "python3"
  },
  "language_info": {
   "codemirror_mode": {
    "name": "ipython",
    "version": 2
   },
   "file_extension": ".py",
   "mimetype": "text/x-python",
   "name": "python",
   "nbconvert_exporter": "python",
   "pygments_lexer": "ipython2",
   "version": "2.7.15+"
  }
 },
 "nbformat": 4,
 "nbformat_minor": 4
}

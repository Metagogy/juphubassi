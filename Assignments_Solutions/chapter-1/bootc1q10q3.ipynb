{
 "cells": [
  {
   "cell_type": "markdown",
   "metadata": {},
   "source": "**Question** : Write a program to display as follows if the input is 5 6 then the output should be \n5 6\n\nis: False\n    \nis not: True\n"
  },
  {
   "cell_type": "markdown",
   "metadata": {},
   "source": "**Level** : Easy\n"
  },
  {
   "cell_type": "markdown",
   "metadata": {},
   "source": "**input format** :\n    \ninteger,integer\n"
  },
  {
   "cell_type": "markdown",
   "metadata": {},
   "source": "**output format** :\n    \nboolean \n"
  },
  {
   "cell_type": "markdown",
   "metadata": {},
   "source": "**Sample input** :\n    \n5 6\n"
  },
  {
   "cell_type": "markdown",
   "metadata": {},
   "source": "**Sample output** :\nis: False\n    \nis not: True\n"
  },
  {
   "cell_type": "code",
   "execution_count": 1,
   "metadata": {},
   "outputs": [
    {
     "name": "stdout",
     "output_type": "stream",
     "text": "'5 6'\n('is:', False)\n('is not:', True)\n"
    }
   ],
   "source": "\na,b=[int(x) for x in input().split()]\nprint(\"is:\",a is b)\nprint(\"is not:\",a is not b)\n"
  },
  {
   "cell_type": "code",
   "execution_count": null,
   "metadata": {},
   "outputs": [],
   "source": ""
  }
 ],
 "metadata": {
  "kernelspec": {
   "display_name": "Python 3",
   "language": "python",
   "name": "python3"
  },
  "language_info": {
   "codemirror_mode": {
    "name": "ipython",
    "version": 2
   },
   "file_extension": ".py",
   "mimetype": "text/x-python",
   "name": "python",
   "nbconvert_exporter": "python",
   "pygments_lexer": "ipython2",
   "version": "2.7.15+"
  }
 },
 "nbformat": 4,
 "nbformat_minor": 4
}

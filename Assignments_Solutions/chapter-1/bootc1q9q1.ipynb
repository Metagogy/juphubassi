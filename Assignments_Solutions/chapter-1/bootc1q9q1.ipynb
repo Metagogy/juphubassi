{
 "cells": [
  {
   "cell_type": "markdown",
   "metadata": {},
   "source": "**Question** : Write a python program that takes two integers as standard input and prints the sum of the two integers as output?\n"
  },
  {
   "cell_type": "markdown",
   "metadata": {},
   "source": "**Level** : Easy"
  },
  {
   "cell_type": "markdown",
   "metadata": {},
   "source": "**Input format** : Integers"
  },
  {
   "cell_type": "markdown",
   "metadata": {},
   "source": "**Output format**: Integer"
  },
  {
   "cell_type": "markdown",
   "metadata": {},
   "source": "**Sample Input** : '3'\n    \n'5'"
  },
  {
   "cell_type": "markdown",
   "metadata": {},
   "source": "**Sample Output** : 8"
  },
  {
   "cell_type": "code",
   "execution_count": 1,
   "metadata": {},
   "outputs": [
    {
     "name": "stdout",
     "output_type": "stream",
     "text": "'3'\n'5'\n8\n"
    }
   ],
   "source": "a = int(input())\nb = int(input())\nprint(a + b)\n"
  },
  {
   "cell_type": "code",
   "execution_count": null,
   "metadata": {},
   "outputs": [],
   "source": ""
  }
 ],
 "metadata": {
  "kernelspec": {
   "display_name": "Python 3",
   "language": "python",
   "name": "python3"
  },
  "language_info": {
   "codemirror_mode": {
    "name": "ipython",
    "version": 2
   },
   "file_extension": ".py",
   "mimetype": "text/x-python",
   "name": "python",
   "nbconvert_exporter": "python",
   "pygments_lexer": "ipython2",
   "version": "2.7.15+"
  }
 },
 "nbformat": 4,
 "nbformat_minor": 4
}

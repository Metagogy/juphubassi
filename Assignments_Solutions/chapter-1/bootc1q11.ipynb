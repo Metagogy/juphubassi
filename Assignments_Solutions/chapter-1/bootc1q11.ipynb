{
 "cells": [
  {
   "cell_type": "markdown",
   "metadata": {},
   "source": "**Question :** Write a program to declare a variable inside the function i.e., create a local variable.?"
  },
  {
   "cell_type": "markdown",
   "metadata": {},
   "source": "**Level :** Easy"
  },
  {
   "cell_type": "markdown",
   "metadata": {},
   "source": "**Input format:**    Any datatype"
  },
  {
   "cell_type": "markdown",
   "metadata": {},
   "source": "**Output format:**   same value of input"
  },
  {
   "cell_type": "markdown",
   "metadata": {},
   "source": "**Sample Input :**  local"
  },
  {
   "cell_type": "markdown",
   "metadata": {},
   "source": "**Sample Output :**  local"
  },
  {
   "cell_type": "code",
   "execution_count": 1,
   "metadata": {},
   "outputs": [
    {
     "name": "stdout",
     "output_type": "stream",
     "text": "'local'\nlocal\n"
    }
   ],
   "source": "\ndef local_var():\n    s = input()\n    print(s)\n\nlocal_var()\n\n"
  },
  {
   "cell_type": "code",
   "execution_count": null,
   "metadata": {},
   "outputs": [],
   "source": ""
  }
 ],
 "metadata": {
  "kernelspec": {
   "display_name": "Python 3",
   "language": "python",
   "name": "python3"
  },
  "language_info": {
   "codemirror_mode": {
    "name": "ipython",
    "version": 2
   },
   "file_extension": ".py",
   "mimetype": "text/x-python",
   "name": "python",
   "nbconvert_exporter": "python",
   "pygments_lexer": "ipython2",
   "version": "2.7.15+"
  }
 },
 "nbformat": 4,
 "nbformat_minor": 4
}

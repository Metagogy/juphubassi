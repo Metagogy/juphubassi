{
 "cells": [
  {
   "cell_type": "markdown",
   "metadata": {},
   "source": "**Question :** Write a program which can compute the factorial of a given number."
  },
  {
   "cell_type": "markdown",
   "metadata": {},
   "source": "**Level :** Easy"
  },
  {
   "cell_type": "markdown",
   "metadata": {},
   "source": "**Input Format:** An integer value as input"
  },
  {
   "cell_type": "markdown",
   "metadata": {},
   "source": "**Output Format:** Factorial of a given input"
  },
  {
   "cell_type": "markdown",
   "metadata": {},
   "source": "**Sample Input:** 8"
  },
  {
   "cell_type": "markdown",
   "metadata": {},
   "source": "**Sample Output:** 40320"
  },
  {
   "cell_type": "code",
   "execution_count": 1,
   "metadata": {},
   "outputs": [
    {
     "name": "stdout",
     "output_type": "stream",
     "text": "'8'\n40320\n"
    }
   ],
   "source": "\nn = int(input()) #input() function takes input as string type\n#int() converts it to integer type\nfact = 1\nfor i in range(1,n+1):\n   fact = fact * i\n\nprint(fact)\n\n"
  }
 ],
 "metadata": {
  "kernelspec": {
   "display_name": "Python 3",
   "language": "python",
   "name": "python3"
  },
  "language_info": {
   "codemirror_mode": {
    "name": "ipython",
    "version": 2
   },
   "file_extension": ".py",
   "mimetype": "text/x-python",
   "name": "python",
   "nbconvert_exporter": "python",
   "pygments_lexer": "ipython2",
   "version": "2.7.15+"
  }
 },
 "nbformat": 4,
 "nbformat_minor": 4
}

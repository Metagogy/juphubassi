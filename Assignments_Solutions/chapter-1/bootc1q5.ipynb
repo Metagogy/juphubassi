{
 "cells": [
  {
   "cell_type": "markdown",
   "metadata": {},
   "source": "**Question :**  write a program which gives the square of a number and square root of a number"
  },
  {
   "cell_type": "markdown",
   "metadata": {},
   "source": "**Level : Easy**"
  },
  {
   "cell_type": "markdown",
   "metadata": {},
   "source": "**input format:**\ninteger"
  },
  {
   "cell_type": "markdown",
   "metadata": {},
   "source": "**output format:**\ninteger or float"
  },
  {
   "cell_type": "markdown",
   "metadata": {},
   "source": "**sample input :**\n\n16"
  },
  {
   "cell_type": "markdown",
   "metadata": {},
   "source": "**sample output :**\n\n4\n\n256"
  },
  {
   "cell_type": "code",
   "execution_count": 1,
   "metadata": {},
   "outputs": [
    {
     "name": "stdout",
     "output_type": "stream",
     "text": "'16'\n256\n4.0\n"
    }
   ],
   "source": "n=int(input())\nprint(n**2)\nprint(n**0.5)\n"
  },
  {
   "cell_type": "code",
   "execution_count": null,
   "metadata": {},
   "outputs": [],
   "source": ""
  },
  {
   "cell_type": "code",
   "execution_count": null,
   "metadata": {},
   "outputs": [],
   "source": ""
  }
 ],
 "metadata": {
  "kernelspec": {
   "display_name": "Python 3",
   "language": "python",
   "name": "python3"
  },
  "language_info": {
   "codemirror_mode": {
    "name": "ipython",
    "version": 2
   },
   "file_extension": ".py",
   "mimetype": "text/x-python",
   "name": "python",
   "nbconvert_exporter": "python",
   "pygments_lexer": "ipython2",
   "version": "2.7.15+"
  }
 },
 "nbformat": 4,
 "nbformat_minor": 4
}

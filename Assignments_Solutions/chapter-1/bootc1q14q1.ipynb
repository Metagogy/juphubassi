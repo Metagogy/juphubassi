{
 "cells": [
  {
   "cell_type": "markdown",
   "metadata": {},
   "source": "**Question** : Write a code that prints the integers from 1 to n. But for multiples of seven print \"Super\" instead of the number, and for the multiples of nine print \"Discount\". For numbers which are multiples of both seven and nine print \"SuperDiscount\".\n"
  },
  {
   "cell_type": "markdown",
   "metadata": {},
   "source": "**Level** : Easy\n"
  },
  {
   "cell_type": "markdown",
   "metadata": {},
   "source": "**Input Format** : An integer that represents the upper limit.\n"
  },
  {
   "cell_type": "markdown",
   "metadata": {},
   "source": "**Output Format** : The corresponding output displayed."
  },
  {
   "cell_type": "markdown",
   "metadata": {},
   "source": "**Sample Input** :\n    \n10\n"
  },
  {
   "cell_type": "markdown",
   "metadata": {},
   "source": "**Sample Output** :\n    \nSuper\n\n1\n\n2\n\n3\n\n4\n\n5\n\n6\n\nDiscount\n\n8\n\nSuperDiscount\n"
  },
  {
   "cell_type": "code",
   "execution_count": 1,
   "metadata": {},
   "outputs": [
    {
     "name": "stdout",
     "output_type": "stream",
     "text": "'10'\nSuper\n1\n2\n3\n4\n5\n6\nDiscount\n8\nSuperDiscount\n"
    }
   ],
   "source": "\nn=int(input())\nfor num in range(n):\n    if num % 7 == 0 and num % 9 == 0:\n         print(\"Super\")\n    elif num % 7 == 0:\n         print(\"Discount\")\n    elif num % 9 == 0:\n         print(\"SuperDiscount\")\n    else:\n         print(num)\n"
  },
  {
   "cell_type": "code",
   "execution_count": null,
   "metadata": {},
   "outputs": [],
   "source": ""
  }
 ],
 "metadata": {
  "kernelspec": {
   "display_name": "Python 3",
   "language": "python",
   "name": "python3"
  },
  "language_info": {
   "codemirror_mode": {
    "name": "ipython",
    "version": 2
   },
   "file_extension": ".py",
   "mimetype": "text/x-python",
   "name": "python",
   "nbconvert_exporter": "python",
   "pygments_lexer": "ipython2",
   "version": "2.7.15+"
  }
 },
 "nbformat": 4,
 "nbformat_minor": 4
}

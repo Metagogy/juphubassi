{
 "cells": [
  {
   "cell_type": "markdown",
   "metadata": {},
   "source": "**Question** : Write a program that accepts a fixed sentence and calculates the number of uppercase letters and lowercase letters using isupper() and islower() function inside the user defined function.\n"
  },
  {
   "cell_type": "markdown",
   "metadata": {},
   "source": "**Level** : Easy\n"
  },
  {
   "cell_type": "markdown",
   "metadata": {},
   "source": "**Input Format** : sentence as input\n"
  },
  {
   "cell_type": "markdown",
   "metadata": {},
   "source": "**Output Format** : Calculates uppercase and lowercase letters\n"
  },
  {
   "cell_type": "markdown",
   "metadata": {},
   "source": "**Sample Input** : string('This WORLD Is FuLL oF MiSEries and WIsheS')\n"
  },
  {
   "cell_type": "markdown",
   "metadata": {},
   "source": "**Sample Output** :\n    \n('Original String : ', 'This WORLD Is FuLL oF MiSEries and WIsheS')\n\n('No. of Uppercase characters : ', 17)\n\n('No. of Lowercase Characters : ', 17)\n"
  },
  {
   "cell_type": "code",
   "execution_count": 7,
   "metadata": {},
   "outputs": [
    {
     "name": "stdout",
     "output_type": "stream",
     "text": "('Original String : ', 'This WORLD Is FuLL oF MiSEries and WIsheS')\n('No. of Uppercase characters : ', 17)\n('No. of Lowercase Characters : ', 17)\n"
    }
   ],
   "source": "\ndef string(s):\n    d={\"UPPER_CASE\":0, \"LOWER_CASE\":0}\n    for c in s:\n        if c.isupper():\n           d[\"UPPER_CASE\"]+=1\n        elif c.islower():\n           d[\"LOWER_CASE\"]+=1\n        else:\n           pass\n    print (\"Original String : \", s)\n    print (\"No. of Uppercase characters : \", d[\"UPPER_CASE\"])\n    print (\"No. of Lowercase Characters : \", d[\"LOWER_CASE\"])\n\nstring('This WORLD Is FuLL oF MiSEries and WIsheS')\n\n"
  }
 ],
 "metadata": {
  "kernelspec": {
   "display_name": "Python 3",
   "language": "python",
   "name": "python3"
  },
  "language_info": {
   "codemirror_mode": {
    "name": "ipython",
    "version": 2
   },
   "file_extension": ".py",
   "mimetype": "text/x-python",
   "name": "python",
   "nbconvert_exporter": "python",
   "pygments_lexer": "ipython2",
   "version": "2.7.15+"
  }
 },
 "nbformat": 4,
 "nbformat_minor": 4
}

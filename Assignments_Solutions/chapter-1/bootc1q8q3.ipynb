{
 "cells": [
  {
   "cell_type": "markdown",
   "metadata": {},
   "source": "**Question** : Write a simple function that takes a number as input and returns the square of the number as output\n"
  },
  {
   "cell_type": "markdown",
   "metadata": {},
   "source": "**Level** : Medium"
  },
  {
   "cell_type": "markdown",
   "metadata": {},
   "source": "**Input format** :  Integer"
  },
  {
   "cell_type": "markdown",
   "metadata": {},
   "source": "**Output format** : Integer"
  },
  {
   "cell_type": "markdown",
   "metadata": {},
   "source": "**Sample Input** : '4'"
  },
  {
   "cell_type": "markdown",
   "metadata": {},
   "source": "**Sample Output** :  16"
  },
  {
   "cell_type": "code",
   "execution_count": 1,
   "metadata": {},
   "outputs": [
    {
     "name": "stdout",
     "output_type": "stream",
     "text": "'4'\n"
    },
    {
     "data": {
      "text/plain": "16"
     },
     "execution_count": 1,
     "metadata": {},
     "output_type": "execute_result"
    }
   ],
   "source": "n = int(input())\ndef squared(n):\n    return n**2\n\nsquared(n)"
  },
  {
   "cell_type": "code",
   "execution_count": null,
   "metadata": {},
   "outputs": [],
   "source": ""
  }
 ],
 "metadata": {
  "kernelspec": {
   "display_name": "Python 3",
   "language": "python",
   "name": "python3"
  },
  "language_info": {
   "codemirror_mode": {
    "name": "ipython",
    "version": 2
   },
   "file_extension": ".py",
   "mimetype": "text/x-python",
   "name": "python",
   "nbconvert_exporter": "python",
   "pygments_lexer": "ipython2",
   "version": "2.7.15+"
  }
 },
 "nbformat": 4,
 "nbformat_minor": 4
}

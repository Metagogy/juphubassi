{
 "cells": [
  {
   "cell_type": "markdown",
   "metadata": {},
   "source": "**Question** : write a program to swap the given two numbers"
  },
  {
   "cell_type": "markdown",
   "metadata": {},
   "source": "**level:** Easy"
  },
  {
   "cell_type": "markdown",
   "metadata": {},
   "source": "**input format:**\n\nfloat \n\nfloat"
  },
  {
   "cell_type": "markdown",
   "metadata": {},
   "source": "**output format:**\n\nfloat\n\nfloat"
  },
  {
   "cell_type": "markdown",
   "metadata": {},
   "source": "**sample input :**\n\n1.1\n\n1.2"
  },
  {
   "cell_type": "markdown",
   "metadata": {},
   "source": "**sample output :**\n\n1.2\n\n1.1"
  },
  {
   "cell_type": "code",
   "execution_count": 1,
   "metadata": {},
   "outputs": [
    {
     "name": "stdout",
     "output_type": "stream",
     "text": "'1.1'\n'1.2'\n1.2\n1.1\n"
    }
   ],
   "source": "a=float(input())\nb=float(input())\nc=a\na=b\nb=c\nprint(a)\nprint(b)\n"
  },
  {
   "cell_type": "code",
   "execution_count": null,
   "metadata": {},
   "outputs": [],
   "source": ""
  }
 ],
 "metadata": {
  "kernelspec": {
   "display_name": "Python 3",
   "language": "python",
   "name": "python3"
  },
  "language_info": {
   "codemirror_mode": {
    "name": "ipython",
    "version": 2
   },
   "file_extension": ".py",
   "mimetype": "text/x-python",
   "name": "python",
   "nbconvert_exporter": "python",
   "pygments_lexer": "ipython2",
   "version": "2.7.15+"
  }
 },
 "nbformat": 4,
 "nbformat_minor": 4
}

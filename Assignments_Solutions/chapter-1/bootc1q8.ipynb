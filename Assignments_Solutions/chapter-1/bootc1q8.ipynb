{
 "cells": [
  {
   "cell_type": "markdown",
   "metadata": {},
   "source": "**Question** : Print the docstring of multiply function "
  },
  {
   "cell_type": "markdown",
   "metadata": {},
   "source": "**Level** : Medium\n"
  },
  {
   "cell_type": "markdown",
   "metadata": {},
   "source": "**input format** : function\n"
  },
  {
   "cell_type": "markdown",
   "metadata": {},
   "source": "**output format** : string\n"
  },
  {
   "cell_type": "markdown",
   "metadata": {},
   "source": "**sample input** :\n    \ndef multiply(a, b): \n    \n\t\"\"\"Multiplies the value of a and b\"\"\"\n    \n\treturn a*b\n"
  },
  {
   "cell_type": "markdown",
   "metadata": {},
   "source": "**sample output** :\n    \n'Multiplies the value of a and b'\n"
  },
  {
   "cell_type": "code",
   "execution_count": 1,
   "metadata": {},
   "outputs": [
    {
     "name": "stdout",
     "output_type": "stream",
     "text": "Multiplies the value of a and b\n"
    }
   ],
   "source": "\ndef multiply(a, b): \n\t\"\"\"Multiplies the value of a and b\"\"\"\n\treturn a*b \n\t\nprint(multiply.__doc__) \n"
  },
  {
   "cell_type": "code",
   "execution_count": null,
   "metadata": {},
   "outputs": [],
   "source": ""
  }
 ],
 "metadata": {
  "kernelspec": {
   "display_name": "Python 3",
   "language": "python",
   "name": "python3"
  },
  "language_info": {
   "codemirror_mode": {
    "name": "ipython",
    "version": 2
   },
   "file_extension": ".py",
   "mimetype": "text/x-python",
   "name": "python",
   "nbconvert_exporter": "python",
   "pygments_lexer": "ipython2",
   "version": "2.7.15+"
  }
 },
 "nbformat": 4,
 "nbformat_minor": 4
}

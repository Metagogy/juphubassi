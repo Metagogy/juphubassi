{
 "cells": [
  {
   "cell_type": "markdown",
   "metadata": {},
   "source": "**Question :** Write a program that generates a 2-dimensional array."
  },
  {
   "cell_type": "markdown",
   "metadata": {},
   "source": "**Level :** Hard"
  },
  {
   "cell_type": "markdown",
   "metadata": {},
   "source": "**Input Format:** X,Y as input digits"
  },
  {
   "cell_type": "markdown",
   "metadata": {},
   "source": "**Output Format:** 2-dimensional array"
  },
  {
   "cell_type": "markdown",
   "metadata": {},
   "source": "**Sample Input :**\n\n3\n\n5"
  },
  {
   "cell_type": "markdown",
   "metadata": {},
   "source": "**Sample Output :**\n\n [[0, 0, 0, 0, 0], [0, 1, 2, 3, 4], [0, 2, 4, 6, 8]]"
  },
  {
   "cell_type": "code",
   "execution_count": 1,
   "metadata": {},
   "outputs": [
    {
     "name": "stdout",
     "output_type": "stream",
     "text": "'3'\n'5'\n[[0, 0, 0, 0, 0], [0, 1, 2, 3, 4], [0, 2, 4, 6, 8]]\n"
    }
   ],
   "source": "\nx=int(input())\ny=int(input())\nlst = []\n\nfor i in range(x):\n   tmp = []\n   for j in range(y):    \n       tmp.append(i*j)\n   lst.append(tmp)\n  \nprint(lst)\n\n"
  }
 ],
 "metadata": {
  "kernelspec": {
   "display_name": "Python 3",
   "language": "python",
   "name": "python3"
  },
  "language_info": {
   "codemirror_mode": {
    "name": "ipython",
    "version": 2
   },
   "file_extension": ".py",
   "mimetype": "text/x-python",
   "name": "python",
   "nbconvert_exporter": "python",
   "pygments_lexer": "ipython2",
   "version": "2.7.15+"
  }
 },
 "nbformat": 4,
 "nbformat_minor": 4
}

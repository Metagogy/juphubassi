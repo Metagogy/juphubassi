{
 "cells": [
  {
   "cell_type": "markdown",
   "metadata": {},
   "source": "**Question :** Given a number x, determine whether the given number is Armstrong number or not.\n A positive integer of n digits is called an Armstrong number of order n (order is number of digits)."
  },
  {
   "cell_type": "markdown",
   "metadata": {},
   "source": "**Level :** Hard"
  },
  {
   "cell_type": "markdown",
   "metadata": {},
   "source": "**Input Format:** Given number should be displayed"
  },
  {
   "cell_type": "markdown",
   "metadata": {},
   "source": "**Output Format:** Output the Armstrong number."
  },
  {
   "cell_type": "markdown",
   "metadata": {},
   "source": "**Sample Input :** 153"
  },
  {
   "cell_type": "markdown",
   "metadata": {},
   "source": "**Sample Output :** 153 is an Armstrong number."
  },
  {
   "cell_type": "code",
   "execution_count": 1,
   "metadata": {},
   "outputs": [
    {
     "name": "stdout",
     "output_type": "stream",
     "text": "Enter a number: '153'\n(153, 'is an Armstrong number')\n"
    }
   ],
   "source": "num = int(input(\"Enter a number: \"))\nsum = 0\ntemp = num\nwhile temp > 0:\n  digit = temp % 10\n  sum += digit ** 3\n  temp //= 10\nif num == sum:\n  print(num,\"is an Armstrong number\")\nelse:\n  print(num,\"is not an Armstrong number\")\n\n"
  },
  {
   "cell_type": "code",
   "execution_count": null,
   "metadata": {},
   "outputs": [],
   "source": ""
  }
 ],
 "metadata": {
  "kernelspec": {
   "display_name": "Python 3",
   "language": "python",
   "name": "python3"
  },
  "language_info": {
   "codemirror_mode": {
    "name": "ipython",
    "version": 2
   },
   "file_extension": ".py",
   "mimetype": "text/x-python",
   "name": "python",
   "nbconvert_exporter": "python",
   "pygments_lexer": "ipython2",
   "version": "2.7.15+"
  }
 },
 "nbformat": 4,
 "nbformat_minor": 4
}

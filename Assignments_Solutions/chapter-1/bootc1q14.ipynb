{
 "cells": [
  {
   "cell_type": "markdown",
   "metadata": {},
   "source": "**Question** : Write a code that prints the integers from 1 to n. But for multiples of three print\n\"Super\" instead of the number, and for the multiples of five print \"Discount\". For numbers which\nare multiples of both three and five print \"SuperDiscount\".\n"
  },
  {
   "cell_type": "markdown",
   "metadata": {},
   "source": "**Level** : Medium"
  },
  {
   "cell_type": "markdown",
   "metadata": {},
   "source": "**Input Format** : An integer that represents the upper limit."
  },
  {
   "cell_type": "markdown",
   "metadata": {},
   "source": "**Output Format** : The corresponding output displayed."
  },
  {
   "cell_type": "markdown",
   "metadata": {},
   "source": "**Sample Input** :\n    \n5\n"
  },
  {
   "cell_type": "markdown",
   "metadata": {},
   "source": "**Sample Output** :\n    \nSuper\n\n1\n\n2\n\nDiscount\n\n4\n"
  },
  {
   "cell_type": "code",
   "execution_count": 2,
   "metadata": {},
   "outputs": [
    {
     "name": "stdout",
     "output_type": "stream",
     "text": "'5'\nSuper\n1\n2\nDiscount\n4\n"
    }
   ],
   "source": "\nn=int(input())\nfor num in range(n):\n    if num % 3 == 0 and num % 5 == 0:\n         print(\"Super\")\n    elif num % 3 == 0:\n         print(\"Discount\")\n    elif num % 5 == 0:\n         print(\"SuperDiscount\")\n    else:\n         print(num)\n"
  }
 ],
 "metadata": {
  "kernelspec": {
   "display_name": "Python 3",
   "language": "python",
   "name": "python3"
  },
  "language_info": {
   "codemirror_mode": {
    "name": "ipython",
    "version": 2
   },
   "file_extension": ".py",
   "mimetype": "text/x-python",
   "name": "python",
   "nbconvert_exporter": "python",
   "pygments_lexer": "ipython2",
   "version": "2.7.15+"
  }
 },
 "nbformat": 4,
 "nbformat_minor": 4
}

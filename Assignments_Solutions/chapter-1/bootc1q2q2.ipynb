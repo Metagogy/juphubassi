{
 "cells": [
  {
   "cell_type": "markdown",
   "metadata": {},
   "source": "**Question** : write a python program that takes a string \"ML\" as a standard input and display the  string \"ML\" 12 times in a single line\n"
  },
  {
   "cell_type": "markdown",
   "metadata": {},
   "source": "**Level** : Easy"
  },
  {
   "cell_type": "markdown",
   "metadata": {},
   "source": "**input format** :\n    \nstring\n"
  },
  {
   "cell_type": "markdown",
   "metadata": {},
   "source": "**output format** :\n    \nstring\n"
  },
  {
   "cell_type": "markdown",
   "metadata": {},
   "source": "**sample input** :\n    \nML\n"
  },
  {
   "cell_type": "markdown",
   "metadata": {},
   "source": "**sample output** :\n    \nMLMLMLMLMLMLMLMLMLMLMLML\n"
  },
  {
   "cell_type": "code",
   "execution_count": 1,
   "metadata": {},
   "outputs": [
    {
     "name": "stdout",
     "output_type": "stream",
     "text": "'ML'\nMLMLMLMLMLMLMLMLMLMLMLML\n"
    }
   ],
   "source": "\ns=input()\nprint(s*12)\n"
  },
  {
   "cell_type": "code",
   "execution_count": null,
   "metadata": {},
   "outputs": [],
   "source": ""
  }
 ],
 "metadata": {
  "kernelspec": {
   "display_name": "Python 3",
   "language": "python",
   "name": "python3"
  },
  "language_info": {
   "codemirror_mode": {
    "name": "ipython",
    "version": 2
   },
   "file_extension": ".py",
   "mimetype": "text/x-python",
   "name": "python",
   "nbconvert_exporter": "python",
   "pygments_lexer": "ipython2",
   "version": "2.7.15+"
  }
 },
 "nbformat": 4,
 "nbformat_minor": 4
}

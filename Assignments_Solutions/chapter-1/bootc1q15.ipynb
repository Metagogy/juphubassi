{
 "cells": [
  {
   "cell_type": "markdown",
   "metadata": {},
   "source": "**Question :** Write a program that accepts a sentence and calculates the number of letters and digits."
  },
  {
   "cell_type": "markdown",
   "metadata": {},
   "source": "**Level :** Hard"
  },
  {
   "cell_type": "markdown",
   "metadata": {},
   "source": "**Input Format:** alphanumeric string"
  },
  {
   "cell_type": "markdown",
   "metadata": {},
   "source": "**Output Format:** Number of letters and digits"
  },
  {
   "cell_type": "markdown",
   "metadata": {},
   "source": "**Sample Input :** hello world!123"
  },
  {
   "cell_type": "markdown",
   "metadata": {},
   "source": "**Sample Output :**\n\nLETTERS 10\n\nDIGITS 3"
  },
  {
   "cell_type": "code",
   "execution_count": 1,
   "metadata": {},
   "outputs": [
    {
     "name": "stdout",
     "output_type": "stream",
     "text": "'hello world!123'\n('LETTER', 10)\n('DIGIT', 3)\n"
    }
   ],
   "source": "word = input()\nletter,digit = 0,0\nfor i in word:\n    if ('a' <=i and i<='z')  or  ('A' <=i and i<='z'):\n        letter+=1\n    if '0' <=i and i<= '9':\n        digit+=1\nprint(\"LETTER\",letter)\nprint(\"DIGIT\",digit)\n"
  },
  {
   "cell_type": "code",
   "execution_count": null,
   "metadata": {},
   "outputs": [],
   "source": ""
  }
 ],
 "metadata": {
  "kernelspec": {
   "display_name": "Python 3",
   "language": "python",
   "name": "python3"
  },
  "language_info": {
   "codemirror_mode": {
    "name": "ipython",
    "version": 2
   },
   "file_extension": ".py",
   "mimetype": "text/x-python",
   "name": "python",
   "nbconvert_exporter": "python",
   "pygments_lexer": "ipython2",
   "version": "2.7.15+"
  }
 },
 "nbformat": 4,
 "nbformat_minor": 4
}

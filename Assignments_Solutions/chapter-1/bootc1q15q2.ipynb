{
 "cells": [
  {
   "cell_type": "markdown",
   "metadata": {},
   "source": "**Question** : Write a program that accepts a fixed sentence and calculates the number of letters and Digits without using isdigit() and isalpha() functions.\n"
  },
  {
   "cell_type": "markdown",
   "metadata": {},
   "source": "**Level** : Easy"
  },
  {
   "cell_type": "markdown",
   "metadata": {},
   "source": "**Input Format** : Fixed alphanumeric string\n"
  },
  {
   "cell_type": "markdown",
   "metadata": {},
   "source": "**Output Format** : Number of letters and digits"
  },
  {
   "cell_type": "markdown",
   "metadata": {},
   "source": "**Sample Input** : Input a string 123"
  },
  {
   "cell_type": "markdown",
   "metadata": {},
   "source": "**Sample Output** :\n    \nLetters 12\n\nDigits 3\n"
  },
  {
   "cell_type": "code",
   "execution_count": 1,
   "metadata": {},
   "outputs": [
    {
     "name": "stdout",
     "output_type": "stream",
     "text": "('Letters', 12)\n('Digits', 3)\n"
    }
   ],
   "source": "\nword = \"Input a string 123\"\nletter,digit = 0,0\nfor i in word:\n    if ('a' <=i and i<='z')  or  ('A' <=i and i<='z'):\n        letter+=1\n    if '0' <=i and i<= '9':\n        digit+=1\nprint(\"Letters\",letter)\nprint(\"Digits\",digit)\n"
  },
  {
   "cell_type": "code",
   "execution_count": null,
   "metadata": {},
   "outputs": [],
   "source": ""
  }
 ],
 "metadata": {
  "kernelspec": {
   "display_name": "Python 3",
   "language": "python",
   "name": "python3"
  },
  "language_info": {
   "codemirror_mode": {
    "name": "ipython",
    "version": 2
   },
   "file_extension": ".py",
   "mimetype": "text/x-python",
   "name": "python",
   "nbconvert_exporter": "python",
   "pygments_lexer": "ipython2",
   "version": "2.7.15+"
  }
 },
 "nbformat": 4,
 "nbformat_minor": 4
}

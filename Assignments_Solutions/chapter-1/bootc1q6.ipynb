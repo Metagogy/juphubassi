{
 "cells": [
  {
   "cell_type": "markdown",
   "metadata": {},
   "source": "**Question** :  write a python program which takes two strings and print the concatenation of two strings"
  },
  {
   "cell_type": "markdown",
   "metadata": {},
   "source": "**Level** : Easy"
  },
  {
   "cell_type": "markdown",
   "metadata": {},
   "source": "**input format:**\nstring,string"
  },
  {
   "cell_type": "markdown",
   "metadata": {},
   "source": "**output format:**\nstring"
  },
  {
   "cell_type": "markdown",
   "metadata": {},
   "source": "**sample input :**\nhello\n\nhow are you"
  },
  {
   "cell_type": "markdown",
   "metadata": {},
   "source": "**sample output :**\nHellohow are you"
  },
  {
   "cell_type": "code",
   "execution_count": 1,
   "metadata": {},
   "outputs": [
    {
     "name": "stdout",
     "output_type": "stream",
     "text": "'hello'\n'how are you'\nhellohow are you\n"
    }
   ],
   "source": "\ns1=input()\ns2=input()\nprint(s1+s2)\n\n"
  },
  {
   "cell_type": "code",
   "execution_count": null,
   "metadata": {},
   "outputs": [],
   "source": ""
  }
 ],
 "metadata": {
  "kernelspec": {
   "display_name": "Python 3",
   "language": "python",
   "name": "python3"
  },
  "language_info": {
   "codemirror_mode": {
    "name": "ipython",
    "version": 2
   },
   "file_extension": ".py",
   "mimetype": "text/x-python",
   "name": "python",
   "nbconvert_exporter": "python",
   "pygments_lexer": "ipython2",
   "version": "2.7.15+"
  }
 },
 "nbformat": 4,
 "nbformat_minor": 4
}

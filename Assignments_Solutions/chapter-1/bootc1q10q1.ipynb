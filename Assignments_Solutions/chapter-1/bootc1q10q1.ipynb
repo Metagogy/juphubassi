{
 "cells": [
  {
   "cell_type": "markdown",
   "metadata": {},
   "source": "**Question** : Write a program to display as follows if the input is 6 5 then the output should be \n6 5\n+: 11 \n\n-: 1\n\n*: 30\n\n/: 1.2\n\n%: 1\n\n**: 7776\n"
  },
  {
   "cell_type": "markdown",
   "metadata": {},
   "source": "**Level** : Easy\n"
  },
  {
   "cell_type": "markdown",
   "metadata": {},
   "source": "**input format** :\n    \ninteger,integer\n"
  },
  {
   "cell_type": "markdown",
   "metadata": {},
   "source": "**output format** :\n    \nArithmetic values\n"
  },
  {
   "cell_type": "markdown",
   "metadata": {},
   "source": "**Sample input** :\n    \n6 5\n"
  },
  {
   "cell_type": "markdown",
   "metadata": {},
   "source": "**Sample output** :\n    \n+: 11\n    \n-: 1\n    \n*: 30\n    \n/: 1.2\n    \n%: 1\n    \n**: 7776\n"
  },
  {
   "cell_type": "code",
   "execution_count": 2,
   "metadata": {},
   "outputs": [
    {
     "name": "stdout",
     "output_type": "stream",
     "text": "'6 5'\n('+:', 11)\n('-:', 1)\n('*:', 30)\n('/:', 1)\n('%:', 1)\n('**:', 7776)\n"
    }
   ],
   "source": "\na,b=[int(x) for x in input().split()]\nprint(\"+:\",a+b)\nprint(\"-:\",a-b)\nprint(\"*:\",a*b)\nprint(\"/:\",a/b)\nprint(\"%:\",a%b)\nprint(\"**:\",a**b)\n"
  },
  {
   "cell_type": "code",
   "execution_count": null,
   "metadata": {},
   "outputs": [],
   "source": ""
  }
 ],
 "metadata": {
  "kernelspec": {
   "display_name": "Python 3",
   "language": "python",
   "name": "python3"
  },
  "language_info": {
   "codemirror_mode": {
    "name": "ipython",
    "version": 2
   },
   "file_extension": ".py",
   "mimetype": "text/x-python",
   "name": "python",
   "nbconvert_exporter": "python",
   "pygments_lexer": "ipython2",
   "version": "2.7.15+"
  }
 },
 "nbformat": 4,
 "nbformat_minor": 4
}

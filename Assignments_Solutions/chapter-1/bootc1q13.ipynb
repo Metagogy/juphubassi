{
 "cells": [
  {
   "cell_type": "markdown",
   "metadata": {},
   "source": "**Question :** Write a program that accepts a sentence and calculates the number of upper case letters and lowercase letters."
  },
  {
   "cell_type": "markdown",
   "metadata": {},
   "source": "**Level :** Easy"
  },
  {
   "cell_type": "markdown",
   "metadata": {},
   "source": "**Input Format:** sentence as input"
  },
  {
   "cell_type": "markdown",
   "metadata": {},
   "source": "**Output Format:** Calculates uppercase and lowercase letters"
  },
  {
   "cell_type": "markdown",
   "metadata": {},
   "source": "**Sample Input :** Hello world!"
  },
  {
   "cell_type": "markdown",
   "metadata": {},
   "source": "**Sample Output :**\n\nUPPER CASE 1\n\nLOWER CASE 9"
  },
  {
   "cell_type": "code",
   "execution_count": 2,
   "metadata": {},
   "outputs": [
    {
     "name": "stdout",
     "output_type": "stream",
     "text": "'Hello world!'\nUPPER CASE 1\nLOWER CASE 9\n"
    }
   ],
   "source": "word = input()\nupper,lower = 0,0\n\nfor i in word:\n    if 'a' <= i and i<= 'z'  :\n        lower+=1\n\n    if  'A' <= i and i<='Z':\n        upper+=1\n\nprint(\"UPPER CASE {0}\\nLOWER CASE {1}\".format(upper,lower))\n\n"
  },
  {
   "cell_type": "code",
   "execution_count": null,
   "metadata": {},
   "outputs": [],
   "source": ""
  }
 ],
 "metadata": {
  "kernelspec": {
   "display_name": "Python 3",
   "language": "python",
   "name": "python3"
  },
  "language_info": {
   "codemirror_mode": {
    "name": "ipython",
    "version": 2
   },
   "file_extension": ".py",
   "mimetype": "text/x-python",
   "name": "python",
   "nbconvert_exporter": "python",
   "pygments_lexer": "ipython2",
   "version": "2.7.15+"
  }
 },
 "nbformat": 4,
 "nbformat_minor": 4
}

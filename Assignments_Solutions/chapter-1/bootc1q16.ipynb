{
 "cells": [
  {
   "cell_type": "markdown",
   "metadata": {},
   "source": "**Question :** Write a program which finds all integers in a given range which have all even digits."
  },
  {
   "cell_type": "markdown",
   "metadata": {},
   "source": "**Level :** Hard"
  },
  {
   "cell_type": "markdown",
   "metadata": {},
   "source": "**Input Format:** Numbers between m and n (both included)"
  },
  {
   "cell_type": "markdown",
   "metadata": {},
   "source": "**Output Format:** Digits which are even numbers"
  },
  {
   "cell_type": "markdown",
   "metadata": {},
   "source": "**Sample Input :**\n\n50\n\n90"
  },
  {
   "cell_type": "markdown",
   "metadata": {},
   "source": "**Sample Output :**\n\n60,62,64,66,68,80,82,84,86,88"
  },
  {
   "cell_type": "code",
   "execution_count": 1,
   "metadata": {},
   "outputs": [
    {
     "name": "stdout",
     "output_type": "stream",
     "text": "'50'\n'90'\n60,62,64,66,68,80,82,84,86,88\n"
    }
   ],
   "source": "lst = []\nm=int(input())\nn=int(input())\nfor i in range(m,n):\n   flag = 1\n   for j in str(i):          # every integer number i is converted into string\n       if ord(j)%2 != 0:     # ord returns ASCII value and j is every digit of i\n           flag = 0          # flag becomes zero if any odd digit found\n   if flag == 1:\n       lst.append(str(i))    # i is stored in list as string\n\nprint(\",\".join(lst))\n\n"
  },
  {
   "cell_type": "code",
   "execution_count": null,
   "metadata": {},
   "outputs": [],
   "source": ""
  }
 ],
 "metadata": {
  "kernelspec": {
   "display_name": "Python 3",
   "language": "python",
   "name": "python3"
  },
  "language_info": {
   "codemirror_mode": {
    "name": "ipython",
    "version": 2
   },
   "file_extension": ".py",
   "mimetype": "text/x-python",
   "name": "python",
   "nbconvert_exporter": "python",
   "pygments_lexer": "ipython2",
   "version": "2.7.15+"
  }
 },
 "nbformat": 4,
 "nbformat_minor": 4
}

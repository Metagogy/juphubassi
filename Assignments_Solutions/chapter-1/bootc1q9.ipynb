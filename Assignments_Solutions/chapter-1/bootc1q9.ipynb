{
 "cells": [
  {
   "cell_type": "markdown",
   "metadata": {},
   "source": "**Question** : write a program to perform arithmetic operations like addition, subtraction, multiplication, division, floor division, power on given two numbers a and b the output should be \n\n+: 5\n\n-: 1\n\n*: 6\n\n/: 1.5\n\n//: 1\n\n**: 9"
  },
  {
   "cell_type": "markdown",
   "metadata": {},
   "source": "**Level** : Easy"
  },
  {
   "cell_type": "markdown",
   "metadata": {},
   "source": "**input format:**\ninteger,integer"
  },
  {
   "cell_type": "markdown",
   "metadata": {},
   "source": "**output format:**\ninteger/float"
  },
  {
   "cell_type": "markdown",
   "metadata": {},
   "source": "**Sample input :**\n3 2"
  },
  {
   "cell_type": "markdown",
   "metadata": {},
   "source": "**Sample output :**\n\n+: 5\n\n-: 1\n\n*: 6\n\n/: 1.5\n\n//: 1\n\n**: 9"
  },
  {
   "cell_type": "code",
   "execution_count": 5,
   "metadata": {},
   "outputs": [
    {
     "name": "stdout",
     "output_type": "stream",
     "text": "'3 2'\n('+:', 5)\n('-:', 1)\n('*:', 6)\n('/:', 1)\n('//:', 1)\n('**:', 9)\n"
    }
   ],
   "source": "\na,b=[int(x) for x in input().split()]\nprint(\"+:\",a+b)\nprint(\"-:\",a-b)\nprint(\"*:\",a*b)\nprint(\"/:\",a/b)\nprint(\"//:\",a//b)\nprint(\"**:\",a**b)\n\n\n"
  },
  {
   "cell_type": "code",
   "execution_count": null,
   "metadata": {},
   "outputs": [],
   "source": ""
  }
 ],
 "metadata": {
  "kernelspec": {
   "display_name": "Python 3",
   "language": "python",
   "name": "python3"
  },
  "language_info": {
   "codemirror_mode": {
    "name": "ipython",
    "version": 2
   },
   "file_extension": ".py",
   "mimetype": "text/x-python",
   "name": "python",
   "nbconvert_exporter": "python",
   "pygments_lexer": "ipython2",
   "version": "2.7.15+"
  }
 },
 "nbformat": 4,
 "nbformat_minor": 4
}

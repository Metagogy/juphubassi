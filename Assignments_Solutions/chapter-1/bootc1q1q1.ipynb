{
 "cells": [
  {
   "cell_type": "markdown",
   "metadata": {},
   "source": "**Question** : write a python program to print \"Learning is a Journey\"\n"
  },
  {
   "cell_type": "markdown",
   "metadata": {},
   "source": "**Level** : Easy\n"
  },
  {
   "cell_type": "markdown",
   "metadata": {},
   "source": "**input format** :\n    \nString\n"
  },
  {
   "cell_type": "markdown",
   "metadata": {},
   "source": "**output format** :\n    \nstring\n"
  },
  {
   "cell_type": "markdown",
   "metadata": {},
   "source": "**sample input** :\n    \nLearning is a Journey\n"
  },
  {
   "cell_type": "markdown",
   "metadata": {},
   "source": "**sample output** : \n    \nLearning is a Journey\n"
  },
  {
   "cell_type": "code",
   "execution_count": 1,
   "metadata": {},
   "outputs": [
    {
     "name": "stdout",
     "output_type": "stream",
     "text": "Learning is a Journey\n"
    }
   ],
   "source": "print(\"Learning is a Journey\")"
  },
  {
   "cell_type": "code",
   "execution_count": null,
   "metadata": {},
   "outputs": [],
   "source": ""
  }
 ],
 "metadata": {
  "kernelspec": {
   "display_name": "Python 3",
   "language": "python",
   "name": "python3"
  },
  "language_info": {
   "codemirror_mode": {
    "name": "ipython",
    "version": 2
   },
   "file_extension": ".py",
   "mimetype": "text/x-python",
   "name": "python",
   "nbconvert_exporter": "python",
   "pygments_lexer": "ipython2",
   "version": "2.7.15+"
  }
 },
 "nbformat": 4,
 "nbformat_minor": 4
}

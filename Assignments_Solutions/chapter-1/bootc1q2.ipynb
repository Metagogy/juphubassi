{
 "cells": [
  {
   "cell_type": "markdown",
   "metadata": {},
   "source": "**Question** : write a python program that takes a string as a standard input and display the  string 12 times in a single line"
  },
  {
   "cell_type": "markdown",
   "metadata": {},
   "source": "**Level** : Easy"
  },
  {
   "cell_type": "markdown",
   "metadata": {},
   "source": "**input format:**\nstring"
  },
  {
   "cell_type": "markdown",
   "metadata": {},
   "source": "**output format:**\nstring"
  },
  {
   "cell_type": "markdown",
   "metadata": {},
   "source": "**sample input :**\na"
  },
  {
   "cell_type": "markdown",
   "metadata": {},
   "source": "**sample output :**\naaaaaaaaaaaa"
  },
  {
   "cell_type": "code",
   "execution_count": 1,
   "metadata": {},
   "outputs": [
    {
     "name": "stdout",
     "output_type": "stream",
     "text": "'a'\naaaaaaaaaaaa\n"
    }
   ],
   "source": "\ns=input()\nprint(s*12)\n\n"
  },
  {
   "cell_type": "code",
   "execution_count": null,
   "metadata": {},
   "outputs": [],
   "source": ""
  }
 ],
 "metadata": {
  "kernelspec": {
   "display_name": "Python 3",
   "language": "python",
   "name": "python3"
  },
  "language_info": {
   "codemirror_mode": {
    "name": "ipython",
    "version": 2
   },
   "file_extension": ".py",
   "mimetype": "text/x-python",
   "name": "python",
   "nbconvert_exporter": "python",
   "pygments_lexer": "ipython2",
   "version": "2.7.15+"
  }
 },
 "nbformat": 4,
 "nbformat_minor": 4
}

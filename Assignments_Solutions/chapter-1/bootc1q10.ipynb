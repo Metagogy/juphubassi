{
 "cells": [
  {
   "cell_type": "markdown",
   "metadata": {},
   "source": "**Question :** write a program to perform bitwise operations like AND, OR, XOR, Zero fill left shift,Signed right shift on given two numbers?"
  },
  {
   "cell_type": "markdown",
   "metadata": {},
   "source": "**Level :** Easy"
  },
  {
   "cell_type": "markdown",
   "metadata": {},
   "source": "**input format:**\ninteger,integer"
  },
  {
   "cell_type": "markdown",
   "metadata": {},
   "source": "**output format:**\nbit values"
  },
  {
   "cell_type": "markdown",
   "metadata": {},
   "source": "**Sample input :**\n\n3 2"
  },
  {
   "cell_type": "markdown",
   "metadata": {},
   "source": "**Sample output :**\n\n&: 2\n\n|: 3\n\n^: 1\n\n<<: 12\n\n*>>: 0*"
  },
  {
   "cell_type": "code",
   "execution_count": 1,
   "metadata": {},
   "outputs": [
    {
     "name": "stdout",
     "output_type": "stream",
     "text": "'3 2'\n('&:', 2)\n('|:', 3)\n('^:', 1)\n('<<:', 12)\n('>>:', 0)\n"
    }
   ],
   "source": "a,b=[int(x) for x in input().split()]\nprint(\"&:\",a&b)\nprint(\"|:\",a|b)\nprint(\"^:\",a^b)\nprint(\"<<:\",a<<b)\nprint(\">>:\",a>>b)\n"
  },
  {
   "cell_type": "code",
   "execution_count": null,
   "metadata": {},
   "outputs": [],
   "source": ""
  }
 ],
 "metadata": {
  "kernelspec": {
   "display_name": "Python 3",
   "language": "python",
   "name": "python3"
  },
  "language_info": {
   "codemirror_mode": {
    "name": "ipython",
    "version": 2
   },
   "file_extension": ".py",
   "mimetype": "text/x-python",
   "name": "python",
   "nbconvert_exporter": "python",
   "pygments_lexer": "ipython2",
   "version": "2.7.15+"
  }
 },
 "nbformat": 4,
 "nbformat_minor": 4
}

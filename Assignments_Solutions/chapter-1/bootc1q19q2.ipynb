{
 "cells": [
  {
   "cell_type": "markdown",
   "metadata": {},
   "source": "**Question** :Write a program which can compute the factorial of a fixed number using math function"
  },
  {
   "cell_type": "markdown",
   "metadata": {},
   "source": "**Level** : Easy\n"
  },
  {
   "cell_type": "markdown",
   "metadata": {},
   "source": "**Input Format** : An integer value as input\n"
  },
  {
   "cell_type": "markdown",
   "metadata": {},
   "source": "**Output Format** : Factorial of a given input\n"
  },
  {
   "cell_type": "markdown",
   "metadata": {},
   "source": "**Sample Input** : 8\n"
  },
  {
   "cell_type": "markdown",
   "metadata": {},
   "source": "**Sample Output** : 40320\n"
  },
  {
   "cell_type": "code",
   "execution_count": 1,
   "metadata": {},
   "outputs": [
    {
     "name": "stdout",
     "output_type": "stream",
     "text": " Please enter Number: '8'\nThe factorial of 8  = 40320\n"
    }
   ],
   "source": "\nimport math \nnumber = int(input(\" Please enter Number: \"))\nfact = math.factorial(number)\nprint(\"The factorial of %d  = %d\" %(number, fact))\n\n"
  },
  {
   "cell_type": "code",
   "execution_count": null,
   "metadata": {},
   "outputs": [],
   "source": ""
  }
 ],
 "metadata": {
  "kernelspec": {
   "display_name": "Python 3",
   "language": "python",
   "name": "python3"
  },
  "language_info": {
   "codemirror_mode": {
    "name": "ipython",
    "version": 2
   },
   "file_extension": ".py",
   "mimetype": "text/x-python",
   "name": "python",
   "nbconvert_exporter": "python",
   "pygments_lexer": "ipython2",
   "version": "2.7.15+"
  }
 },
 "nbformat": 4,
 "nbformat_minor": 4
}

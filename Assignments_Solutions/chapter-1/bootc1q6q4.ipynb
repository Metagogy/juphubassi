{
 "cells": [
  {
   "cell_type": "markdown",
   "metadata": {},
   "source": "**Question** : Write a python program to take \"hello\" and \"world\" as standard input and prints \"helloworld\" as output\n"
  },
  {
   "cell_type": "markdown",
   "metadata": {},
   "source": "**Level** : Easy"
  },
  {
   "cell_type": "markdown",
   "metadata": {},
   "source": "**Input format** : Strings"
  },
  {
   "cell_type": "markdown",
   "metadata": {},
   "source": "**Output format** : String"
  },
  {
   "cell_type": "markdown",
   "metadata": {},
   "source": "**Sample Input** : 'hello'\n\n\"world\"   "
  },
  {
   "cell_type": "markdown",
   "metadata": {},
   "source": "**Sample Output** : helloworld"
  },
  {
   "cell_type": "code",
   "execution_count": 1,
   "metadata": {},
   "outputs": [
    {
     "name": "stdout",
     "output_type": "stream",
     "text": "'hello'\n'world'\nhelloworld\n"
    }
   ],
   "source": "\ns1 = input()\ns2 = input()\nprint(s1+s2)\n"
  },
  {
   "cell_type": "code",
   "execution_count": null,
   "metadata": {},
   "outputs": [],
   "source": ""
  }
 ],
 "metadata": {
  "kernelspec": {
   "display_name": "Python 3",
   "language": "python",
   "name": "python3"
  },
  "language_info": {
   "codemirror_mode": {
    "name": "ipython",
    "version": 2
   },
   "file_extension": ".py",
   "mimetype": "text/x-python",
   "name": "python",
   "nbconvert_exporter": "python",
   "pygments_lexer": "ipython2",
   "version": "2.7.15+"
  }
 },
 "nbformat": 4,
 "nbformat_minor": 4
}

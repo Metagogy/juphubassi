{
 "cells": [
  {
   "cell_type": "markdown",
   "metadata": {},
   "source": "**Question** : Write a program to display the alternate elements in a tuple?"
  },
  {
   "cell_type": "markdown",
   "metadata": {},
   "source": "**Level** : Medium\n"
  },
  {
   "cell_type": "markdown",
   "metadata": {},
   "source": "**Input Format** : Tuple\n"
  },
  {
   "cell_type": "markdown",
   "metadata": {},
   "source": "**Output Format** : Tuple\n"
  },
  {
   "cell_type": "markdown",
   "metadata": {},
   "source": "**Sample Input**  :\n    \ntuple = (1, 4, 6, 7, 9, 3, 5)\n"
  },
  {
   "cell_type": "markdown",
   "metadata": {},
   "source": "**Sample Output**  :\n    \nThe original tuple : (1, 4, 6, 7, 9, 3, 5)\n    \nThe alternate element tuple is : [4, 7, 3]\n"
  },
  {
   "cell_type": "code",
   "execution_count": 1,
   "metadata": {},
   "outputs": [
    {
     "name": "stdout",
     "output_type": "stream",
     "text": "The original tuple : (1, 4, 6, 7, 9, 3, 5)\nThe alternate element tuple is : [4, 7, 3]\n"
    }
   ],
   "source": "\n# initializing tuple\ntuple = (1, 4, 6, 7, 9, 3, 5)\nprint (\"The original tuple : \" + str(tuple)) \nres = [tuple[i] for i in range(len(tuple)) if i % 2 != 0] \n# printing result \nprint (\"The alternate element tuple is : \" + str(res)) \n"
  },
  {
   "cell_type": "code",
   "execution_count": null,
   "metadata": {},
   "outputs": [],
   "source": ""
  }
 ],
 "metadata": {
  "kernelspec": {
   "display_name": "Python 3",
   "language": "python",
   "name": "python3"
  },
  "language_info": {
   "codemirror_mode": {
    "name": "ipython",
    "version": 2
   },
   "file_extension": ".py",
   "mimetype": "text/x-python",
   "name": "python",
   "nbconvert_exporter": "python",
   "pygments_lexer": "ipython2",
   "version": "2.7.15+"
  }
 },
 "nbformat": 4,
 "nbformat_minor": 4
}

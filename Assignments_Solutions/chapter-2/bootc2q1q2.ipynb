{
 "cells": [
  {
   "cell_type": "markdown",
   "metadata": {},
   "source": "**Question** : Write a program to display without using a  list which contains only integers.?"
  },
  {
   "cell_type": "markdown",
   "metadata": {},
   "source": "**Level** : Easy\n"
  },
  {
   "cell_type": "markdown",
   "metadata": {},
   "source": "**Input Format** : Only Integers"
  },
  {
   "cell_type": "markdown",
   "metadata": {},
   "source": "**Output Format** : List\n"
  },
  {
   "cell_type": "markdown",
   "metadata": {},
   "source": "**Sample Input**  : 1 3 5\n"
  },
  {
   "cell_type": "markdown",
   "metadata": {},
   "source": "**Sample Output**  : 1, 3, 5\n"
  },
  {
   "cell_type": "code",
   "execution_count": 6,
   "metadata": {},
   "outputs": [
    {
     "name": "stdout",
     "output_type": "stream",
     "text": "'1 3 5'\n<generator object <genexpr> at 0x7f36777674b0>\n"
    }
   ],
   "source": "\na = (int(y) for y in input().split())\nprint(a)\n"
  },
  {
   "cell_type": "code",
   "execution_count": null,
   "metadata": {},
   "outputs": [],
   "source": ""
  }
 ],
 "metadata": {
  "kernelspec": {
   "display_name": "Python 2",
   "language": "python",
   "name": "python2"
  },
  "language_info": {
   "codemirror_mode": {
    "name": "ipython",
    "version": 2
   },
   "file_extension": ".py",
   "mimetype": "text/x-python",
   "name": "python",
   "nbconvert_exporter": "python",
   "pygments_lexer": "ipython2",
   "version": "2.7.15+"
  }
 },
 "nbformat": 4,
 "nbformat_minor": 4
}

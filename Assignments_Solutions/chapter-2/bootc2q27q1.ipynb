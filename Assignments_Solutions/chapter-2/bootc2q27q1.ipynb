{
 "cells": [
  {
   "cell_type": "markdown",
   "metadata": {},
   "source": "**Question** : Write a program to print a string if it starts and ends with the same character then print invalid and if it does not end with the same then print the same character?\n"
  },
  {
   "cell_type": "markdown",
   "metadata": {},
   "source": "**Level** : Easy\n"
  },
  {
   "cell_type": "markdown",
   "metadata": {},
   "source": "**Input format** : String should be given as input. "
  },
  {
   "cell_type": "markdown",
   "metadata": {},
   "source": "**Output format** : String should be printed or invalid"
  },
  {
   "cell_type": "markdown",
   "metadata": {},
   "source": "**Sample Input** : Metagogy"
  },
  {
   "cell_type": "markdown",
   "metadata": {},
   "source": "**Sample Output** : Metagogy"
  },
  {
   "cell_type": "code",
   "execution_count": 2,
   "metadata": {},
   "outputs": [
    {
     "name": "stdout",
     "output_type": "stream",
     "text": "'Metagogy'\nMetagogy\n"
    }
   ],
   "source": "\ns=(input())\na=s[0]\nend=s.endswith(a)\nif end==True:\n    print('Invalid')\nelse:\n    print(s)\n"
  },
  {
   "cell_type": "code",
   "execution_count": null,
   "metadata": {},
   "outputs": [],
   "source": ""
  }
 ],
 "metadata": {
  "kernelspec": {
   "display_name": "Python 3",
   "language": "python",
   "name": "python3"
  },
  "language_info": {
   "codemirror_mode": {
    "name": "ipython",
    "version": 2
   },
   "file_extension": ".py",
   "mimetype": "text/x-python",
   "name": "python",
   "nbconvert_exporter": "python",
   "pygments_lexer": "ipython2",
   "version": "2.7.15+"
  }
 },
 "nbformat": 4,
 "nbformat_minor": 4
}

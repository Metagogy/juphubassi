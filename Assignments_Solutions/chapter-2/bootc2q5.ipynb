{
 "cells": [
  {
   "cell_type": "markdown",
   "metadata": {},
   "source": "**Question:** Write a program to add an element at the beginning of the tuple?"
  },
  {
   "cell_type": "markdown",
   "metadata": {},
   "source": "**Level :** Medium"
  },
  {
   "cell_type": "markdown",
   "metadata": {},
   "source": "**Input Format :** \n\nTuple"
  },
  {
   "cell_type": "markdown",
   "metadata": {},
   "source": "**Output Format :** \n\nTuple"
  },
  {
   "cell_type": "markdown",
   "metadata": {},
   "source": "**Sample Input  :**\n\n2 0 1\n\np"
  },
  {
   "cell_type": "markdown",
   "metadata": {},
   "source": "**Sample Output  :**\n\n('p', '2', '0', '1')"
  },
  {
   "cell_type": "code",
   "execution_count": 1,
   "metadata": {},
   "outputs": [
    {
     "name": "stdout",
     "output_type": "stream",
     "text": "'2 0 1'\n'p'\n('p', '2', '0', '1')\n"
    }
   ],
   "source": "\nt=tuple(input().split())\ni=input()\nt=(i,)+t\nprint(t)\n\n\n"
  }
 ],
 "metadata": {
  "kernelspec": {
   "display_name": "Python 3",
   "language": "python",
   "name": "python3"
  },
  "language_info": {
   "codemirror_mode": {
    "name": "ipython",
    "version": 2
   },
   "file_extension": ".py",
   "mimetype": "text/x-python",
   "name": "python",
   "nbconvert_exporter": "python",
   "pygments_lexer": "ipython2",
   "version": "2.7.15+"
  }
 },
 "nbformat": 4,
 "nbformat_minor": 4
}

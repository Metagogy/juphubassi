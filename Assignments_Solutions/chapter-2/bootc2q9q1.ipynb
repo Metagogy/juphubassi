{
 "cells": [
  {
   "cell_type": "markdown",
   "metadata": {},
   "source": "**Question** : Write a program to print the number of times a given item in tuple."
  },
  {
   "cell_type": "markdown",
   "metadata": {},
   "source": "**Level** : Hard\n"
  },
  {
   "cell_type": "markdown",
   "metadata": {},
   "source": "**Input Format** : create a tuple of elements"
  },
  {
   "cell_type": "markdown",
   "metadata": {},
   "source": "**Output Format** : Integer"
  },
  {
   "cell_type": "markdown",
   "metadata": {},
   "source": "**Sample Input**  :\n    \n\nvowels = ('a','i','e','d','u','c','a','t','o','r')\n\n\ncount = vowels.count('i')\n"
  },
  {
   "cell_type": "markdown",
   "metadata": {},
   "source": "**Sample Output**  :\n    \n('The count of i is:', 1)\n\n('The count of a is:', 2)\n\n('The count of z is:', 0)\n"
  },
  {
   "cell_type": "code",
   "execution_count": 1,
   "metadata": {},
   "outputs": [
    {
     "name": "stdout",
     "output_type": "stream",
     "text": "('The count of i is:', 1)\n('The count of a is:', 2)\n('The count of z is:', 0)\n"
    }
   ],
   "source": "# vowels tuple\nvowels = ('a','i','e','d','u','c','a','t','o','r')\n\n# count element 'i'\ncount = vowels.count('i')\n\n# print count\nprint('The count of i is:', count)\n\n# count element 'p'\ncount = vowels.count('a')\n\n# print count\nprint('The count of a is:', count)\n\ncount = vowels.count('z')\n\n# print count\nprint('The count of z is:', count)\n"
  },
  {
   "cell_type": "code",
   "execution_count": null,
   "metadata": {},
   "outputs": [],
   "source": ""
  }
 ],
 "metadata": {
  "kernelspec": {
   "display_name": "Python 3",
   "language": "python",
   "name": "python3"
  },
  "language_info": {
   "codemirror_mode": {
    "name": "ipython",
    "version": 2
   },
   "file_extension": ".py",
   "mimetype": "text/x-python",
   "name": "python",
   "nbconvert_exporter": "python",
   "pygments_lexer": "ipython2",
   "version": "2.7.15+"
  }
 },
 "nbformat": 4,
 "nbformat_minor": 4
}

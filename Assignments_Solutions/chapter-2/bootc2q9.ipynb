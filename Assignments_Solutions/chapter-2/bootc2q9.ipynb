{
 "cells": [
  {
   "cell_type": "markdown",
   "metadata": {},
   "source": "**Question :** Write a program to print the number of times a given item in tuple."
  },
  {
   "cell_type": "markdown",
   "metadata": {},
   "source": "**Level :** Medium"
  },
  {
   "cell_type": "markdown",
   "metadata": {},
   "source": "**Input Format :** \n\nTuple"
  },
  {
   "cell_type": "markdown",
   "metadata": {},
   "source": "**Output Format :** \n\nInteger"
  },
  {
   "cell_type": "markdown",
   "metadata": {},
   "source": "**Sample Input  :**\n\ntuple- 1 1 2 3 0 0 a\nEnter a item 0"
  },
  {
   "cell_type": "markdown",
   "metadata": {},
   "source": "**Sample Output :**\n\ncount of  0 item is 2"
  },
  {
   "cell_type": "code",
   "execution_count": 1,
   "metadata": {},
   "outputs": [
    {
     "name": "stdout",
     "output_type": "stream",
     "text": "tuple-'1 1 2 3 0 0 a'\nEnter a item '0'\n('count of ', '0', 'item is', 2)\n"
    }
   ],
   "source": "\ntuplex = tuple(input('tuple-').split())\nr=input('Enter a item ')\ncount = tuplex.count(r)\nprint('count of ',r,'item is',count)\n\n\n"
  }
 ],
 "metadata": {
  "kernelspec": {
   "display_name": "Python 3",
   "language": "python",
   "name": "python3"
  },
  "language_info": {
   "codemirror_mode": {
    "name": "ipython",
    "version": 2
   },
   "file_extension": ".py",
   "mimetype": "text/x-python",
   "name": "python",
   "nbconvert_exporter": "python",
   "pygments_lexer": "ipython2",
   "version": "2.7.15+"
  }
 },
 "nbformat": 4,
 "nbformat_minor": 4
}

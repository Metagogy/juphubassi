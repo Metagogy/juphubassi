{
 "cells": [
  {
   "cell_type": "markdown",
   "metadata": {},
   "source": "**Question** : Write a program to combine two lists using extend method?"
  },
  {
   "cell_type": "markdown",
   "metadata": {},
   "source": "**Level** : Medium\n"
  },
  {
   "cell_type": "markdown",
   "metadata": {},
   "source": "**Input Format** : List\n"
  },
  {
   "cell_type": "markdown",
   "metadata": {},
   "source": "**Output Format** : List\n"
  },
  {
   "cell_type": "markdown",
   "metadata": {},
   "source": "**Sample Input**  :\n    \nlist3 = [1, 4, 5, 6, 5] \n\nlist4 = [3, 5, 7, 2, 5] \n"
  },
  {
   "cell_type": "markdown",
   "metadata": {},
   "source": "**Sample Output**  :\n    \nConcatenated list using list.extend() : [1, 4, 5, 6, 5, 3, 5, 7, 2, 5]\n"
  },
  {
   "cell_type": "code",
   "execution_count": 1,
   "metadata": {},
   "outputs": [
    {
     "name": "stdout",
     "output_type": "stream",
     "text": "Concatenated list using list.extend() : [1, 4, 5, 6, 5, 3, 5, 7, 2, 5]\n"
    }
   ],
   "source": "# Initializing lists \nlist3 = [1, 4, 5, 6, 5] \nlist4 = [3, 5, 7, 2, 5] \n\n# using list.extend() to concat \nlist3.extend(list4) \n\n# Printing concatenated list \nprint (\"Concatenated list using list.extend() : \"+ str(list3)) \n"
  },
  {
   "cell_type": "code",
   "execution_count": null,
   "metadata": {},
   "outputs": [],
   "source": ""
  }
 ],
 "metadata": {
  "kernelspec": {
   "display_name": "Python 3",
   "language": "python",
   "name": "python3"
  },
  "language_info": {
   "codemirror_mode": {
    "name": "ipython",
    "version": 2
   },
   "file_extension": ".py",
   "mimetype": "text/x-python",
   "name": "python",
   "nbconvert_exporter": "python",
   "pygments_lexer": "ipython2",
   "version": "2.7.15+"
  }
 },
 "nbformat": 4,
 "nbformat_minor": 4
}

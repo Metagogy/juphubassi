{
 "cells": [
  {
   "cell_type": "markdown",
   "metadata": {},
   "source": "**Question** : Write a program Count List and Tuple Elements Inside Tuple?"
  },
  {
   "cell_type": "markdown",
   "metadata": {},
   "source": "**Level** : Hard"
  },
  {
   "cell_type": "markdown",
   "metadata": {},
   "source": "**Input Format** : create a list and tuple of elements inside a tuple"
  },
  {
   "cell_type": "markdown",
   "metadata": {},
   "source": "**Output Format** : Integer\n"
  },
  {
   "cell_type": "markdown",
   "metadata": {},
   "source": "**Sample Input**  :\n\nrandom = ('a', ('a', 'b'), ('a', 'b'), [3, 4])\n\n\ncount = random.count(('a', 'b'))\n"
  },
  {
   "cell_type": "markdown",
   "metadata": {},
   "source": "**Sample Output**  :\n    \n(\"The count of ('a', 'b') is:\", 2)\n\n('The count of [3, 4] is:', 1)\n"
  },
  {
   "cell_type": "code",
   "execution_count": 1,
   "metadata": {},
   "outputs": [
    {
     "name": "stdout",
     "output_type": "stream",
     "text": "(\"The count of ('a', 'b') is:\", 2)\n('The count of [3, 4] is:', 1)\n"
    }
   ],
   "source": "# random tuple\nrandom = ('a', ('a', 'b'), ('a', 'b'), [3, 4])\n\n# count element ('a', 'b')\ncount = random.count(('a', 'b'))\n\n# print count\nprint(\"The count of ('a', 'b') is:\", count)\n\n# count element [3, 4]\ncount = random.count([3, 4])\n\n# print count\nprint(\"The count of [3, 4] is:\", count)\n"
  },
  {
   "cell_type": "code",
   "execution_count": null,
   "metadata": {},
   "outputs": [],
   "source": ""
  }
 ],
 "metadata": {
  "kernelspec": {
   "display_name": "Python 3",
   "language": "python",
   "name": "python3"
  },
  "language_info": {
   "codemirror_mode": {
    "name": "ipython",
    "version": 2
   },
   "file_extension": ".py",
   "mimetype": "text/x-python",
   "name": "python",
   "nbconvert_exporter": "python",
   "pygments_lexer": "ipython2",
   "version": "2.7.15+"
  }
 },
 "nbformat": 4,
 "nbformat_minor": 4
}

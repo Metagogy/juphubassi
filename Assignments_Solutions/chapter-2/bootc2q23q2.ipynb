{
 "cells": [
  {
   "cell_type": "markdown",
   "metadata": {},
   "source": "**Question** : Write a Python program to get a string made of the first 2 and the last 2 chars from a given string. If the string length is less than 2, return instead of the empty string."
  },
  {
   "cell_type": "markdown",
   "metadata": {},
   "source": "**Level** : Hard\n"
  },
  {
   "cell_type": "markdown",
   "metadata": {},
   "source": "**Input format** : Any String.\n"
  },
  {
   "cell_type": "markdown",
   "metadata": {},
   "source": "**Output format** : String\n"
  },
  {
   "cell_type": "markdown",
   "metadata": {},
   "source": "**Sample Input** : \n    \ndef string_both_ends(str):\n    \n  if len(str) < 2:\n    \n    return ''\n"
  },
  {
   "cell_type": "markdown",
   "metadata": {},
   "source": "**Sample Output** : Aior\n    \nAiAi\n"
  },
  {
   "cell_type": "code",
   "execution_count": 1,
   "metadata": {},
   "outputs": [
    {
     "name": "stdout",
     "output_type": "stream",
     "text": "Aior\nAiAi\n\n"
    }
   ],
   "source": "\ndef string_both_ends(str):\n  if len(str) < 2:\n    return ''\n\n  return str[0:2] + str[-2:]\n\nprint(string_both_ends('Aieducator'))\nprint(string_both_ends('Ai'))\nprint(string_both_ends('A'))\n"
  },
  {
   "cell_type": "code",
   "execution_count": null,
   "metadata": {},
   "outputs": [],
   "source": ""
  }
 ],
 "metadata": {
  "kernelspec": {
   "display_name": "Python 3",
   "language": "python",
   "name": "python3"
  },
  "language_info": {
   "codemirror_mode": {
    "name": "ipython",
    "version": 2
   },
   "file_extension": ".py",
   "mimetype": "text/x-python",
   "name": "python",
   "nbconvert_exporter": "python",
   "pygments_lexer": "ipython2",
   "version": "2.7.15+"
  }
 },
 "nbformat": 4,
 "nbformat_minor": 4
}

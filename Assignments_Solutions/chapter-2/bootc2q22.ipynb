{
 "cells": [
  {
   "cell_type": "markdown",
   "metadata": {},
   "source": "**Question :** Write a python program which takes a list and converts into set and print the set and sum of elements in the set"
  },
  {
   "cell_type": "markdown",
   "metadata": {},
   "source": "**Level :** Easy"
  },
  {
   "cell_type": "markdown",
   "metadata": {},
   "source": "**Input format :**\n\nlist"
  },
  {
   "cell_type": "markdown",
   "metadata": {},
   "source": "**Output format :**\n\nset\n\nsum of set"
  },
  {
   "cell_type": "markdown",
   "metadata": {},
   "source": "**Sample Input :**\n\n5\n\n1 2 3 4 5"
  },
  {
   "cell_type": "markdown",
   "metadata": {},
   "source": "**Sample Output :**\n\n{1, 2, 3, 4, 5}\n\n15"
  },
  {
   "cell_type": "code",
   "execution_count": 1,
   "metadata": {},
   "outputs": [
    {
     "name": "stdout",
     "output_type": "stream",
     "text": "'5'\n'1 2 3 4 5'\nset([1, 2, 3, 4, 5])\n15\n"
    }
   ],
   "source": "\nn1=int(input())\nl=[int(x) for x in input().split()]\ns=set(l)\nprint(s)\nprint(sum(s))\n"
  }
 ],
 "metadata": {
  "kernelspec": {
   "display_name": "Python 3",
   "language": "python",
   "name": "python3"
  },
  "language_info": {
   "codemirror_mode": {
    "name": "ipython",
    "version": 2
   },
   "file_extension": ".py",
   "mimetype": "text/x-python",
   "name": "python",
   "nbconvert_exporter": "python",
   "pygments_lexer": "ipython2",
   "version": "2.7.15+"
  }
 },
 "nbformat": 4,
 "nbformat_minor": 4
}

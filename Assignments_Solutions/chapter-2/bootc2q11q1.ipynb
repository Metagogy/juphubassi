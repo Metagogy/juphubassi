{
 "cells": [
  {
   "cell_type": "markdown",
   "metadata": {},
   "source": "**Question** : Write a program to print concatenation two tuples ?"
  },
  {
   "cell_type": "markdown",
   "metadata": {},
   "source": "**Level** : Hard\n"
  },
  {
   "cell_type": "markdown",
   "metadata": {},
   "source": "**Input format** : create a tuple of elements\n"
  },
  {
   "cell_type": "markdown",
   "metadata": {},
   "source": "**Output format** : Tuple should be printed.\n"
  },
  {
   "cell_type": "markdown",
   "metadata": {},
   "source": "**Sample Input** :\n    \ntest_tup1 = (1, 3, 5) \n\ntest_tup2 = (4, 6) \n"
  },
  {
   "cell_type": "markdown",
   "metadata": {},
   "source": "**Sample Output** :\n    \nThe original tuple 1 : (1, 3, 5)\n    \nThe original tuple 2 : (4, 6)\n    \nThe tuple after concatenation is : (1, 3, 5, 4, 6)\n"
  },
  {
   "cell_type": "code",
   "execution_count": 1,
   "metadata": {},
   "outputs": [
    {
     "name": "stdout",
     "output_type": "stream",
     "text": "The original tuple 1 : (1, 3, 5)\nThe original tuple 2 : (4, 6)\nThe tuple after concatenation is : (1, 3, 5, 4, 6)\n"
    }
   ],
   "source": "# Python3 code to demonstrate working of \n# Ways to concatenate tuples \n# using + operator \n\n# initialize tuples \ntest_tup1 = (1, 3, 5) \ntest_tup2 = (4, 6) \n\n# printing original tuples \nprint(\"The original tuple 1 : \" + str(test_tup1)) \nprint(\"The original tuple 2 : \" + str(test_tup2)) \n\n# Ways to concatenate tuples \n# using + operator \nres = test_tup1 + test_tup2 \n\n# printing result \nprint(\"The tuple after concatenation is : \" + str(res)) \n\n"
  },
  {
   "cell_type": "code",
   "execution_count": null,
   "metadata": {},
   "outputs": [],
   "source": ""
  }
 ],
 "metadata": {
  "kernelspec": {
   "display_name": "Python 3",
   "language": "python",
   "name": "python3"
  },
  "language_info": {
   "codemirror_mode": {
    "name": "ipython",
    "version": 2
   },
   "file_extension": ".py",
   "mimetype": "text/x-python",
   "name": "python",
   "nbconvert_exporter": "python",
   "pygments_lexer": "ipython2",
   "version": "2.7.15+"
  }
 },
 "nbformat": 4,
 "nbformat_minor": 4
}

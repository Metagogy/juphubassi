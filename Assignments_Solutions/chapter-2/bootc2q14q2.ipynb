{
 "cells": [
  {
   "cell_type": "markdown",
   "metadata": {},
   "source": "**Question** : Write a program to print the difference between two sets using symmentric_difference(). \n"
  },
  {
   "cell_type": "markdown",
   "metadata": {},
   "source": "**Level** : Easy\n"
  },
  {
   "cell_type": "markdown",
   "metadata": {},
   "source": "**Input format** : \n    \nset values should be given as input. \n"
  },
  {
   "cell_type": "markdown",
   "metadata": {},
   "source": "**Output format** : \n    \nDifferences between given sets should be printed.\n"
  },
  {
   "cell_type": "markdown",
   "metadata": {},
   "source": "**Sample Input** : \n    \n{'a', 'b', 'c', 'd'}\n\n{'c', 'd', 'e' }\n"
  },
  {
   "cell_type": "markdown",
   "metadata": {},
   "source": "**Sample Output** : \n    \n{'e', 'b', 'a'}\n"
  },
  {
   "cell_type": "code",
   "execution_count": 5,
   "metadata": {},
   "outputs": [
    {
     "name": "stdout",
     "output_type": "stream",
     "text": "set(['a', 'b', 'e'])\nset(['a', 'b', 'e'])\n"
    }
   ],
   "source": "\nA = {'a', 'b', 'c', 'd'}\nB = {'c', 'd', 'e' }\n\nprint(A.symmetric_difference(B))\nprint(B.symmetric_difference(A))\n"
  },
  {
   "cell_type": "code",
   "execution_count": null,
   "metadata": {},
   "outputs": [],
   "source": ""
  }
 ],
 "metadata": {
  "kernelspec": {
   "display_name": "Python 3",
   "language": "python",
   "name": "python3"
  },
  "language_info": {
   "codemirror_mode": {
    "name": "ipython",
    "version": 2
   },
   "file_extension": ".py",
   "mimetype": "text/x-python",
   "name": "python",
   "nbconvert_exporter": "python",
   "pygments_lexer": "ipython2",
   "version": "2.7.15+"
  }
 },
 "nbformat": 4,
 "nbformat_minor": 4
}

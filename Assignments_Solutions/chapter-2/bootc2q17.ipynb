{
 "cells": [
  {
   "cell_type": "markdown",
   "metadata": {},
   "source": "**Question :** Write a program to display the keys of dictionary elements?"
  },
  {
   "cell_type": "markdown",
   "metadata": {},
   "source": "**Level :** Medium"
  },
  {
   "cell_type": "markdown",
   "metadata": {},
   "source": "**Input format :** \n\nFirst element is no.of elements and next elements are dictionary elements"
  },
  {
   "cell_type": "markdown",
   "metadata": {},
   "source": "**Output format :**\n\nDictionaries should be printed."
  },
  {
   "cell_type": "markdown",
   "metadata": {},
   "source": "**Sample Input :**\n\n1\n\n1 d"
  },
  {
   "cell_type": "markdown",
   "metadata": {},
   "source": "**Sample Output :** \n\ndict_keys(['1'])"
  },
  {
   "cell_type": "code",
   "execution_count": 1,
   "metadata": {},
   "outputs": [
    {
     "name": "stdout",
     "output_type": "stream",
     "text": "'1'\n'1 d'\n['1']\n"
    }
   ],
   "source": "\nd={}\nn=int(input())\nfor i in range(n):\n    k,v=[x for x in input().split(\" \")]\n    d.update({k:v})\nprint(dict.keys(d)) \n\n\n"
  }
 ],
 "metadata": {
  "kernelspec": {
   "display_name": "Python 3",
   "language": "python",
   "name": "python3"
  },
  "language_info": {
   "codemirror_mode": {
    "name": "ipython",
    "version": 2
   },
   "file_extension": ".py",
   "mimetype": "text/x-python",
   "name": "python",
   "nbconvert_exporter": "python",
   "pygments_lexer": "ipython2",
   "version": "2.7.15+"
  }
 },
 "nbformat": 4,
 "nbformat_minor": 4
}

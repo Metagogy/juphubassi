{
 "cells": [
  {
   "cell_type": "markdown",
   "metadata": {},
   "source": "**Question** : Write a Python program to find the middle character(s) of a given string. If the length of the string is odd return the middle character and return the middle two characters if the string length is even.\n"
  },
  {
   "cell_type": "markdown",
   "metadata": {},
   "source": "**Level** : Medium\n"
  },
  {
   "cell_type": "markdown",
   "metadata": {},
   "source": "**Input format** : A String should be given as input. "
  },
  {
   "cell_type": "markdown",
   "metadata": {},
   "source": "**Output format** : Middle element of a string should be printed."
  },
  {
   "cell_type": "markdown",
   "metadata": {},
   "source": "**Sample Input** : \n    \ndef middle_char(txt):\n    \n   return txt[(len(txt)-1)//2:(len(txt)+2)//2]\n\nprint(middle_char(\"Python\"))\n"
  },
  {
   "cell_type": "markdown",
   "metadata": {},
   "source": "**Sample Output** : \n    \nth\n\nl\n\nuc\n\n"
  },
  {
   "cell_type": "code",
   "execution_count": 1,
   "metadata": {},
   "outputs": [
    {
     "name": "stdout",
     "output_type": "stream",
     "text": "th\nl\nuc\n"
    }
   ],
   "source": "def middle_char(txt):\n   return txt[(len(txt)-1)//2:(len(txt)+2)//2]\nprint(middle_char(\"Python\"))\nprint(middle_char(\"Hello\"))\nprint(middle_char(\"Aieducator\"))\n"
  }
 ],
 "metadata": {
  "kernelspec": {
   "display_name": "Python 3",
   "language": "python",
   "name": "python3"
  },
  "language_info": {
   "codemirror_mode": {
    "name": "ipython",
    "version": 2
   },
   "file_extension": ".py",
   "mimetype": "text/x-python",
   "name": "python",
   "nbconvert_exporter": "python",
   "pygments_lexer": "ipython2",
   "version": "2.7.15+"
  }
 },
 "nbformat": 4,
 "nbformat_minor": 4
}

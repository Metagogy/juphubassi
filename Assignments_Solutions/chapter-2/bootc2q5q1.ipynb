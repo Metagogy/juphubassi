{
 "cells": [
  {
   "cell_type": "markdown",
   "metadata": {},
   "source": "**Question** : Write a program to add an element in a tuple?"
  },
  {
   "cell_type": "markdown",
   "metadata": {},
   "source": "**Level** : Easy\n"
  },
  {
   "cell_type": "markdown",
   "metadata": {},
   "source": "**Input Format** : create a tuple\n"
  },
  {
   "cell_type": "markdown",
   "metadata": {},
   "source": "**Output Format** : Tuple\n"
  },
  {
   "cell_type": "markdown",
   "metadata": {},
   "source": "**Sample Input**  :\n    \na = ('x', 'y')\n"
  },
  {
   "cell_type": "markdown",
   "metadata": {},
   "source": "**Sample Output**  :\n    \n('x', 'y', 'b')\n"
  },
  {
   "cell_type": "code",
   "execution_count": 1,
   "metadata": {},
   "outputs": [
    {
     "name": "stdout",
     "output_type": "stream",
     "text": "('x', 'y', 'b')\n"
    }
   ],
   "source": "a = ('x', 'y')\nc = a + tuple('b')\nprint(c)\n"
  },
  {
   "cell_type": "code",
   "execution_count": null,
   "metadata": {},
   "outputs": [],
   "source": ""
  }
 ],
 "metadata": {
  "kernelspec": {
   "display_name": "Python 3",
   "language": "python",
   "name": "python3"
  },
  "language_info": {
   "codemirror_mode": {
    "name": "ipython",
    "version": 2
   },
   "file_extension": ".py",
   "mimetype": "text/x-python",
   "name": "python",
   "nbconvert_exporter": "python",
   "pygments_lexer": "ipython2",
   "version": "2.7.15+"
  }
 },
 "nbformat": 4,
 "nbformat_minor": 4
}

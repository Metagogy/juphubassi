{
 "cells": [
  {
   "cell_type": "markdown",
   "metadata": {},
   "source": "**Question** : Write a program to convert a string to a Tuple?"
  },
  {
   "cell_type": "markdown",
   "metadata": {},
   "source": "**Level** : Medium\n"
  },
  {
   "cell_type": "markdown",
   "metadata": {},
   "source": "**Input Format** : Initialize the string values\n"
  },
  {
   "cell_type": "markdown",
   "metadata": {},
   "source": "**Output Format** : Tuple\n"
  },
  {
   "cell_type": "markdown",
   "metadata": {},
   "source": "**Sample Input** :\n    \ntest_str = \"1, -5, 4, 6, 7\"\n"
  },
  {
   "cell_type": "markdown",
   "metadata": {},
   "source": "**Sample Output** :\n    \nThe original string : 1, -5, 4, 6, 7\n    \nTuple after getting conversion from String : (1, -5, 4, 6, 7)\n"
  },
  {
   "cell_type": "code",
   "execution_count": 1,
   "metadata": {},
   "outputs": [
    {
     "name": "stdout",
     "output_type": "stream",
     "text": "The original string : 1, -5, 4, 6, 7\nTuple after getting conversion from String : (1, -5, 4, 6, 7)\n"
    }
   ],
   "source": "\n# initialize string \ntest_str = \"1, -5, 4, 6, 7\"\n\n# printing original string \nprint(\"The original string : \" + str(test_str)) \n\n# Convert String to Tuple \n# Using eval() \nres = eval(test_str) \n\n# printing result \nprint(\"Tuple after getting conversion from String : \" + str(res)) \n"
  },
  {
   "cell_type": "code",
   "execution_count": null,
   "metadata": {},
   "outputs": [],
   "source": ""
  }
 ],
 "metadata": {
  "kernelspec": {
   "display_name": "Python 3",
   "language": "python",
   "name": "python3"
  },
  "language_info": {
   "codemirror_mode": {
    "name": "ipython",
    "version": 2
   },
   "file_extension": ".py",
   "mimetype": "text/x-python",
   "name": "python",
   "nbconvert_exporter": "python",
   "pygments_lexer": "ipython2",
   "version": "2.7.15+"
  }
 },
 "nbformat": 4,
 "nbformat_minor": 4
}

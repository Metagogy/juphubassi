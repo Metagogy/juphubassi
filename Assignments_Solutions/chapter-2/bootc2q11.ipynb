{
 "cells": [
  {
   "cell_type": "markdown",
   "metadata": {},
   "source": "**Question :** Write a program to print concatenation of any two tuples ?"
  },
  {
   "cell_type": "markdown",
   "metadata": {},
   "source": "**Level :** Easy"
  },
  {
   "cell_type": "markdown",
   "metadata": {},
   "source": "**Input format:**\n\nTuple should be given as input."
  },
  {
   "cell_type": "markdown",
   "metadata": {},
   "source": "**Output format:**\n\nTuple should be printed."
  },
  {
   "cell_type": "markdown",
   "metadata": {},
   "source": "**Sample Input:**\n\n1 4 hi True \n\njs 4 2 99"
  },
  {
   "cell_type": "markdown",
   "metadata": {},
   "source": "**Sample Output:**\n\n('1', '4', 'hi', 'True', 'js', '4', '2', '99')"
  },
  {
   "cell_type": "code",
   "execution_count": 1,
   "metadata": {},
   "outputs": [
    {
     "name": "stdout",
     "output_type": "stream",
     "text": "'1 4 hi True'\n'js 4 2 99'\n('1', '4', 'hi', 'True', 'js', '4', '2', '99')\n"
    }
   ],
   "source": "\na=tuple(input().split())\nb=tuple(input().split())\nc=a+b\nprint(c)"
  }
 ],
 "metadata": {
  "kernelspec": {
   "display_name": "Python 3",
   "language": "python",
   "name": "python3"
  },
  "language_info": {
   "codemirror_mode": {
    "name": "ipython",
    "version": 2
   },
   "file_extension": ".py",
   "mimetype": "text/x-python",
   "name": "python",
   "nbconvert_exporter": "python",
   "pygments_lexer": "ipython2",
   "version": "2.7.15+"
  }
 },
 "nbformat": 4,
 "nbformat_minor": 4
}

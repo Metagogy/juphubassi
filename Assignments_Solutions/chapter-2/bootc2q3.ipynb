{
 "cells": [
  {
   "cell_type": "markdown",
   "metadata": {},
   "source": "**Question :** Write a program to combine two lists using extend method?"
  },
  {
   "cell_type": "markdown",
   "metadata": {},
   "source": "**Level :** Medium"
  },
  {
   "cell_type": "markdown",
   "metadata": {},
   "source": "**Input Format :** \n\nList"
  },
  {
   "cell_type": "markdown",
   "metadata": {},
   "source": "**Output Format :** \n\nList"
  },
  {
   "cell_type": "markdown",
   "metadata": {},
   "source": "**Sample Input  :**\n\n1 2\n\n2 3"
  },
  {
   "cell_type": "markdown",
   "metadata": {},
   "source": "**Sample Output  :**\n\n['1', '2', '2', '3']"
  },
  {
   "cell_type": "code",
   "execution_count": 1,
   "metadata": {},
   "outputs": [
    {
     "name": "stdout",
     "output_type": "stream",
     "text": "'1 2'\n'2 3'\n['1', '2', '2', '3']\n"
    }
   ],
   "source": "l1=list(input().split())\nl2=list(input().split())\nl1.extend(l2)\nprint(l1)\n\n\n"
  }
 ],
 "metadata": {
  "kernelspec": {
   "display_name": "Python 3",
   "language": "python",
   "name": "python3"
  },
  "language_info": {
   "codemirror_mode": {
    "name": "ipython",
    "version": 2
   },
   "file_extension": ".py",
   "mimetype": "text/x-python",
   "name": "python",
   "nbconvert_exporter": "python",
   "pygments_lexer": "ipython2",
   "version": "2.7.15+"
  }
 },
 "nbformat": 4,
 "nbformat_minor": 4
}

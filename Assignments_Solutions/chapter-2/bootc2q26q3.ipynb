{
 "cells": [
  {
   "cell_type": "markdown",
   "metadata": {},
   "source": "**Question** : Write a Python code for implementation of isupper() "
  },
  {
   "cell_type": "markdown",
   "metadata": {},
   "source": "**Level** : Easy\n"
  },
  {
   "cell_type": "markdown",
   "metadata": {},
   "source": "**Input format** : checking for uppercase characters \n"
  },
  {
   "cell_type": "markdown",
   "metadata": {},
   "source": "**Output format** : String should be printed.\n"
  },
  {
   "cell_type": "markdown",
   "metadata": {},
   "source": "**Sample Input** : string = 'AIEDUCATOR'"
  },
  {
   "cell_type": "markdown",
   "metadata": {},
   "source": "**Sample Output** :\n    \nTrue\n\nFalse\n"
  },
  {
   "cell_type": "code",
   "execution_count": 1,
   "metadata": {},
   "outputs": [
    {
     "name": "stdout",
     "output_type": "stream",
     "text": "True\nFalse\n"
    }
   ],
   "source": "string = 'AIEDUCATOR'\nprint(string.isupper()) \n\nstring = 'aieducator'\nprint(string.isupper()) \n"
  },
  {
   "cell_type": "code",
   "execution_count": null,
   "metadata": {},
   "outputs": [],
   "source": ""
  }
 ],
 "metadata": {
  "kernelspec": {
   "display_name": "Python 3",
   "language": "python",
   "name": "python3"
  },
  "language_info": {
   "codemirror_mode": {
    "name": "ipython",
    "version": 2
   },
   "file_extension": ".py",
   "mimetype": "text/x-python",
   "name": "python",
   "nbconvert_exporter": "python",
   "pygments_lexer": "ipython2",
   "version": "2.7.15+"
  }
 },
 "nbformat": 4,
 "nbformat_minor": 4
}

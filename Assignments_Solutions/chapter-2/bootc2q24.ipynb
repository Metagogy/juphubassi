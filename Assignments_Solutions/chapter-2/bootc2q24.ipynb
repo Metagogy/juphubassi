{
 "cells": [
  {
   "cell_type": "markdown",
   "metadata": {},
   "source": "**Question :** Write a program to convert the first letter of words in a string into Capital letters?"
  },
  {
   "cell_type": "markdown",
   "metadata": {},
   "source": "**Level :** Easy"
  },
  {
   "cell_type": "markdown",
   "metadata": {},
   "source": "**Input format :** \n\nAny String."
  },
  {
   "cell_type": "markdown",
   "metadata": {},
   "source": "**Output format :** \n\nString"
  },
  {
   "cell_type": "markdown",
   "metadata": {},
   "source": "**Sample Input :** \n\nhi metagogy learner"
  },
  {
   "cell_type": "markdown",
   "metadata": {},
   "source": "**Sample Output :** \n\nHi Metagogy Learner"
  },
  {
   "cell_type": "code",
   "execution_count": 1,
   "metadata": {},
   "outputs": [
    {
     "name": "stdout",
     "output_type": "stream",
     "text": "'hi metagogy learner'\nHi Metagogy Learner\n"
    }
   ],
   "source": "\na=input()\nprint(a.title())\n\n\n"
  },
  {
   "cell_type": "code",
   "execution_count": null,
   "metadata": {},
   "outputs": [],
   "source": ""
  }
 ],
 "metadata": {
  "kernelspec": {
   "display_name": "Python 3",
   "language": "python",
   "name": "python3"
  },
  "language_info": {
   "codemirror_mode": {
    "name": "ipython",
    "version": 2
   },
   "file_extension": ".py",
   "mimetype": "text/x-python",
   "name": "python",
   "nbconvert_exporter": "python",
   "pygments_lexer": "ipython2",
   "version": "2.7.15+"
  }
 },
 "nbformat": 4,
 "nbformat_minor": 4
}

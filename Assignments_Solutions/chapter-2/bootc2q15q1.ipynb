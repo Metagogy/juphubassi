{
 "cells": [
  {
   "cell_type": "markdown",
   "metadata": {},
   "source": "**Question** : Write a program to convert a list to tuple?\n"
  },
  {
   "cell_type": "markdown",
   "metadata": {},
   "source": "**Level** : Easy\n"
  },
  {
   "cell_type": "markdown",
   "metadata": {},
   "source": "**Input format** : \n    \nlist should be given as input. \n"
  },
  {
   "cell_type": "markdown",
   "metadata": {},
   "source": "**Output format** : \n    \ntuple should be printed.\n"
  },
  {
   "cell_type": "markdown",
   "metadata": {},
   "source": "**Sample Input** : \n    \n1 2 3 4\n"
  },
  {
   "cell_type": "markdown",
   "metadata": {},
   "source": "**Sample Output** : \n    \ntuple is  ('1', '2', '3', '4')\n"
  },
  {
   "cell_type": "code",
   "execution_count": 1,
   "metadata": {},
   "outputs": [
    {
     "name": "stdout",
     "output_type": "stream",
     "text": "'1 2 3 4'\n('tuple is ', ('1', '2', '3', '4'))\n"
    }
   ],
   "source": "\nl=list(input().split())\nt=tuple(l)\nprint(\"tuple is \",t)\n"
  },
  {
   "cell_type": "code",
   "execution_count": null,
   "metadata": {},
   "outputs": [],
   "source": ""
  }
 ],
 "metadata": {
  "kernelspec": {
   "display_name": "Python 3",
   "language": "python",
   "name": "python3"
  },
  "language_info": {
   "codemirror_mode": {
    "name": "ipython",
    "version": 2
   },
   "file_extension": ".py",
   "mimetype": "text/x-python",
   "name": "python",
   "nbconvert_exporter": "python",
   "pygments_lexer": "ipython2",
   "version": "2.7.15+"
  }
 },
 "nbformat": 4,
 "nbformat_minor": 4
}

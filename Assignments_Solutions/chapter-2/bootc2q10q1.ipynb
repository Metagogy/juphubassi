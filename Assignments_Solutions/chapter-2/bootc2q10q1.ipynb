{
 "cells": [
  {
   "cell_type": "markdown",
   "metadata": {},
   "source": "**Question** : Write a program to print the maximum element in a tuple.\n"
  },
  {
   "cell_type": "markdown",
   "metadata": {},
   "source": "**Level** : Easy\n"
  },
  {
   "cell_type": "markdown",
   "metadata": {},
   "source": "**Input Format** : create tuples of elements\n"
  },
  {
   "cell_type": "markdown",
   "metadata": {},
   "source": "**Output Format** : An element in tuple\n"
  },
  {
   "cell_type": "markdown",
   "metadata": {},
   "source": "**Sample Input**  :\n    \ntuple1, tuple2 = (123, 'xyz', 'zara', 'abc'), (456, 700, 200)\n"
  },
  {
   "cell_type": "markdown",
   "metadata": {},
   "source": "**Sample Output**  :\n    \nMax value element :  zara\n    \nMax value element :  700\n"
  },
  {
   "cell_type": "code",
   "execution_count": 1,
   "metadata": {},
   "outputs": [
    {
     "name": "stdout",
     "output_type": "stream",
     "text": "Max value element :  zara\nMax value element :  700\n"
    }
   ],
   "source": "tuple1, tuple2 = (123, 'xyz', 'zara', 'abc'), (456, 700, 200)\nprint \"Max value element : \", max(tuple1)\nprint \"Max value element : \", max(tuple2)\n"
  },
  {
   "cell_type": "code",
   "execution_count": null,
   "metadata": {},
   "outputs": [],
   "source": ""
  }
 ],
 "metadata": {
  "kernelspec": {
   "display_name": "Python 3",
   "language": "python",
   "name": "python3"
  },
  "language_info": {
   "codemirror_mode": {
    "name": "ipython",
    "version": 2
   },
   "file_extension": ".py",
   "mimetype": "text/x-python",
   "name": "python",
   "nbconvert_exporter": "python",
   "pygments_lexer": "ipython2",
   "version": "2.7.15+"
  }
 },
 "nbformat": 4,
 "nbformat_minor": 4
}

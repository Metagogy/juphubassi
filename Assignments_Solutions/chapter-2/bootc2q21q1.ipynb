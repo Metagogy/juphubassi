{
 "cells": [
  {
   "cell_type": "markdown",
   "metadata": {},
   "source": "**Question** : Write a python program which prints the ordered dictionary based on values for a given dictionary.\n"
  },
  {
   "cell_type": "markdown",
   "metadata": {},
   "source": "**Level** : Medium\n"
  },
  {
   "cell_type": "markdown",
   "metadata": {},
   "source": "**Input format** :\n    \ndictionary\n"
  },
  {
   "cell_type": "markdown",
   "metadata": {},
   "source": "**Output format** :\n    \nordered dictionary based on values\n"
  },
  {
   "cell_type": "markdown",
   "metadata": {},
   "source": "**Sample Input** :\n    \n{'a': 20, 'b': 23, 'c': 3, 'd': 95, 'e': 41}\n"
  },
  {
   "cell_type": "markdown",
   "metadata": {},
   "source": "**Sample Output** :\n    \n[('c', 3), ('a', 20), ('b', 23), ('e', 41), ('d', 95)]\n"
  },
  {
   "cell_type": "code",
   "execution_count": 1,
   "metadata": {},
   "outputs": [
    {
     "name": "stdout",
     "output_type": "stream",
     "text": "('a', 20)\n('c', 3)\n('b', 23)\n('e', 41)\n('d', 95)\n"
    },
    {
     "data": {
      "text/plain": "[('c', 3), ('a', 20), ('b', 23), ('e', 41), ('d', 95)]"
     },
     "execution_count": 1,
     "metadata": {},
     "output_type": "execute_result"
    }
   ],
   "source": "\ndict = {'a': 20, 'b': 23, 'c': 3, 'd': 95, 'e': 41}\nfor k, v in dict.items():\n    print(k, v)\nsorted(dict.items(), key=lambda x: x[1])\n"
  },
  {
   "cell_type": "code",
   "execution_count": null,
   "metadata": {},
   "outputs": [],
   "source": ""
  }
 ],
 "metadata": {
  "kernelspec": {
   "display_name": "Python 3",
   "language": "python",
   "name": "python3"
  },
  "language_info": {
   "codemirror_mode": {
    "name": "ipython",
    "version": 2
   },
   "file_extension": ".py",
   "mimetype": "text/x-python",
   "name": "python",
   "nbconvert_exporter": "python",
   "pygments_lexer": "ipython2",
   "version": "2.7.15+"
  }
 },
 "nbformat": 4,
 "nbformat_minor": 4
}

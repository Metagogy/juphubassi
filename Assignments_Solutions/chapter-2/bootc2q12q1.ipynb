{
 "cells": [
  {
   "cell_type": "markdown",
   "metadata": {},
   "source": "**Question** : Write a program to print the id values of list elements?"
  },
  {
   "cell_type": "markdown",
   "metadata": {},
   "source": "**Level** : Easy\n"
  },
  {
   "cell_type": "markdown",
   "metadata": {},
   "source": "**Input format** : create a tuples of elements"
  },
  {
   "cell_type": "markdown",
   "metadata": {},
   "source": "**Output format** :Id values\n"
  },
  {
   "cell_type": "markdown",
   "metadata": {},
   "source": "**Sample Input** : 0 1 2\n"
  },
  {
   "cell_type": "markdown",
   "metadata": {},
   "source": "**Sample Output** :\n    \nid number of 0 is 1641211808\n\nid number of 1 is 1641211824\n\nid number of 2 is 1641211840\n"
  },
  {
   "cell_type": "code",
   "execution_count": 1,
   "metadata": {},
   "outputs": [
    {
     "name": "stdout",
     "output_type": "stream",
     "text": "id number of 0 is 94113636951504\nid number of 1 is 94113636951480\nid number of 2 is 94113636951456\n"
    }
   ],
   "source": "\na= (0,1,2)\n\nfor i in range(len(a)):\n    print(\"id number of {} is {}\".format(i,id(i)))\n"
  },
  {
   "cell_type": "code",
   "execution_count": null,
   "metadata": {},
   "outputs": [],
   "source": ""
  }
 ],
 "metadata": {
  "kernelspec": {
   "display_name": "Python 3",
   "language": "python",
   "name": "python3"
  },
  "language_info": {
   "codemirror_mode": {
    "name": "ipython",
    "version": 2
   },
   "file_extension": ".py",
   "mimetype": "text/x-python",
   "name": "python",
   "nbconvert_exporter": "python",
   "pygments_lexer": "ipython2",
   "version": "2.7.15+"
  }
 },
 "nbformat": 4,
 "nbformat_minor": 4
}

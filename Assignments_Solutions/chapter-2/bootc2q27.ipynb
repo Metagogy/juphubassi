{
 "cells": [
  {
   "cell_type": "markdown",
   "metadata": {},
   "source": "**Question :** Write a program to print a string if it starts and ends with the same character ?"
  },
  {
   "cell_type": "markdown",
   "metadata": {},
   "source": "**Level :** Easy"
  },
  {
   "cell_type": "markdown",
   "metadata": {},
   "source": "**Input format :** \n\nString should be given as input. "
  },
  {
   "cell_type": "markdown",
   "metadata": {},
   "source": "**Output format :** \n\nString should be printed."
  },
  {
   "cell_type": "markdown",
   "metadata": {},
   "source": "**Sample Input :** \n\nMetagogy"
  },
  {
   "cell_type": "markdown",
   "metadata": {},
   "source": "**Sample Output :** \n\nInvalid"
  },
  {
   "cell_type": "code",
   "execution_count": 1,
   "metadata": {},
   "outputs": [
    {
     "name": "stdout",
     "output_type": "stream",
     "text": "'Metagogy'\nInvalid\n"
    }
   ],
   "source": "\ns=(input())\na=s[0]\nend=s.endswith(a)\nif end==True:\n    print(s)\nelse:\n    print('Invalid')"
  }
 ],
 "metadata": {
  "kernelspec": {
   "display_name": "Python 3",
   "language": "python",
   "name": "python3"
  },
  "language_info": {
   "codemirror_mode": {
    "name": "ipython",
    "version": 2
   },
   "file_extension": ".py",
   "mimetype": "text/x-python",
   "name": "python",
   "nbconvert_exporter": "python",
   "pygments_lexer": "ipython2",
   "version": "2.7.15+"
  }
 },
 "nbformat": 4,
 "nbformat_minor": 4
}

{
 "cells": [
  {
   "cell_type": "markdown",
   "metadata": {},
   "source": "**Question :** Write a program to print the id values of list elements?"
  },
  {
   "cell_type": "markdown",
   "metadata": {},
   "source": "**Level :** Medium"
  },
  {
   "cell_type": "markdown",
   "metadata": {},
   "source": "**Input format:**\n\nList"
  },
  {
   "cell_type": "markdown",
   "metadata": {},
   "source": "**Output format:**\n\nId values"
  },
  {
   "cell_type": "markdown",
   "metadata": {},
   "source": "**Sample Input:**\n\n0 1 2"
  },
  {
   "cell_type": "markdown",
   "metadata": {},
   "source": "**Sample Output:**\n\nid number of 0 is 93957767173584\n\nid number of 1 is 93957767173560\n\nid number of 2 is 93957767173536"
  },
  {
   "cell_type": "code",
   "execution_count": 4,
   "metadata": {},
   "outputs": [
    {
     "name": "stdout",
     "output_type": "stream",
     "text": "'0 1 2'\nid number of 0 is 93957767173584\nid number of 1 is 93957767173560\nid number of 2 is 93957767173536\n"
    }
   ],
   "source": "\na=list(input().split())\n\nfor i in range(len(a)):\n    print(\"id number of {} is {}\".format(i,id(i)))\n"
  }
 ],
 "metadata": {
  "kernelspec": {
   "display_name": "Python 3",
   "language": "python",
   "name": "python3"
  },
  "language_info": {
   "codemirror_mode": {
    "name": "ipython",
    "version": 2
   },
   "file_extension": ".py",
   "mimetype": "text/x-python",
   "name": "python",
   "nbconvert_exporter": "python",
   "pygments_lexer": "ipython2",
   "version": "2.7.15+"
  }
 },
 "nbformat": 4,
 "nbformat_minor": 4
}

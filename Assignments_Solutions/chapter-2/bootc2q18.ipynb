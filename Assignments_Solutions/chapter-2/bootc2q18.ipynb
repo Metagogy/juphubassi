{
 "cells": [
  {
   "cell_type": "markdown",
   "metadata": {},
   "source": "**Question :** Write a python program to print in the following format"
  },
  {
   "cell_type": "markdown",
   "metadata": {},
   "source": "**Level :** Medium"
  },
  {
   "cell_type": "markdown",
   "metadata": {},
   "source": "**Input format :** \n\ndictionary"
  },
  {
   "cell_type": "markdown",
   "metadata": {},
   "source": "**Output format :**\n\nkeys\n\nvalues\n\nitems"
  },
  {
   "cell_type": "markdown",
   "metadata": {},
   "source": "**Sample Input :**\n\n3\n\n1 a\n\n2 b\n\n3 c"
  },
  {
   "cell_type": "markdown",
   "metadata": {},
   "source": "**Sample Output :**\n\nKEYS:\n\n1\n\n2\n\n3\n\nVALUES:\n\na\n\nb\n\nc\n\nITEMS:\n\n1 a\n\n2 b\n\n3 c"
  },
  {
   "cell_type": "code",
   "execution_count": 5,
   "metadata": {},
   "outputs": [
    {
     "name": "stdout",
     "output_type": "stream",
     "text": "'3'\n'1 a'\n'2 b'\n'3 c'\nKEYS:\n1\n3\n2\nVALUES:\na\nc\nb\nITEMS:\n('1', 'a')\n('3', 'c')\n('2', 'b')\n"
    }
   ],
   "source": "\nn1=int(input())\nd1={}\nfor x in range(n1):\n  \ta,b=[y for y in input().split(\" \")]\n  \td1.update({a:b})\nprint(\"KEYS:\")\nfor x in d1.keys():\n  \tprint(x)\nprint(\"VALUES:\")\nfor x in d1.values():\n  \tprint(x)\nprint(\"ITEMS:\")\nfor x,y in d1.items():\n  \tprint(x,y)\n\n\n"
  }
 ],
 "metadata": {
  "kernelspec": {
   "display_name": "Python 3",
   "language": "python",
   "name": "python3"
  },
  "language_info": {
   "codemirror_mode": {
    "name": "ipython",
    "version": 2
   },
   "file_extension": ".py",
   "mimetype": "text/x-python",
   "name": "python",
   "nbconvert_exporter": "python",
   "pygments_lexer": "ipython2",
   "version": "2.7.15+"
  }
 },
 "nbformat": 4,
 "nbformat_minor": 4
}

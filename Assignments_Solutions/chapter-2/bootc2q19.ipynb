{
 "cells": [
  {
   "cell_type": "markdown",
   "metadata": {},
   "source": "**Question :** Write a python program  to print the the dict elements in which KEYS does not contain in B but contain in A(where A and B are  dictionaries)"
  },
  {
   "cell_type": "markdown",
   "metadata": {},
   "source": "**Level :** Hard"
  },
  {
   "cell_type": "markdown",
   "metadata": {},
   "source": "**Input format :**\n\ninteger[no. of elements to be inserted in A]\n\nn lines contains keys,values of A[keys,values can be any type]\n\ninteger[no. of elements to be inserted in B]\n\nn lines contains keys,values of B[keys,values can be any type]"
  },
  {
   "cell_type": "markdown",
   "metadata": {},
   "source": "**Output format :**\n\nkeys,values"
  },
  {
   "cell_type": "markdown",
   "metadata": {},
   "source": "**Sample Input :**\n\n3\n\n1 a\n\n2 b\n\n3 c\n\n2\n\n1 a\n\n2 b"
  },
  {
   "cell_type": "markdown",
   "metadata": {},
   "source": "**Sample Output :**\n\n3 c"
  },
  {
   "cell_type": "code",
   "execution_count": 1,
   "metadata": {},
   "outputs": [
    {
     "name": "stdout",
     "output_type": "stream",
     "text": "'3'\n'1 a'\n'2 b'\n'3 c'\n'2'\n'1 a'\n'2 b'\n('3', 'c')\n"
    }
   ],
   "source": "\nn1=int(input())\nd1={}\nfor x in range(n1):\n  \ta,b=[y for y in input().split(\" \")]\n  \td1.update({a:b})\nn2=int(input())\nd2={}\nfor x in range(n2):\n  \ta,b=[y for y in input().split(\" \")]\n  \td2.update({a:b})\nfor x,y in d1.items():\n      if(d2.get(x)==None):\n        \tprint(x,y)\n\n\n"
  }
 ],
 "metadata": {
  "kernelspec": {
   "display_name": "Python 3",
   "language": "python",
   "name": "python3"
  },
  "language_info": {
   "codemirror_mode": {
    "name": "ipython",
    "version": 2
   },
   "file_extension": ".py",
   "mimetype": "text/x-python",
   "name": "python",
   "nbconvert_exporter": "python",
   "pygments_lexer": "ipython2",
   "version": "2.7.15+"
  }
 },
 "nbformat": 4,
 "nbformat_minor": 4
}

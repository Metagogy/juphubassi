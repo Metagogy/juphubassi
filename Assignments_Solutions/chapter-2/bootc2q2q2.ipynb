{
 "cells": [
  {
   "cell_type": "markdown",
   "metadata": {},
   "source": "**Question**  : Write a python program to remove multiple elements from a list"
  },
  {
   "cell_type": "markdown",
   "metadata": {},
   "source": "**Level** : Medium\n"
  },
  {
   "cell_type": "markdown",
   "metadata": {},
   "source": "**Input Format** : First take list elements as input and then take any element as input to add at end."
  },
  {
   "cell_type": "markdown",
   "metadata": {},
   "source": "**Output Format** : List\n"
  },
  {
   "cell_type": "markdown",
   "metadata": {},
   "source": "**Sample Input**  : list1 = [11, 5, 17, 18, 23, 50] \n"
  },
  {
   "cell_type": "markdown",
   "metadata": {},
   "source": "**Sample Output**  : [11, 50]\n"
  },
  {
   "cell_type": "code",
   "execution_count": 1,
   "metadata": {},
   "outputs": [
    {
     "name": "stdout",
     "output_type": "stream",
     "text": "[11, 50]\n"
    }
   ],
   "source": "list1 = [11, 5, 17, 18, 23, 50] \n\n# removes elements from index 1 to 4 \n# i.e. 5, 17, 18, 23 will be deleted \ndel list1[1:5] \n\nprint(list1)\n"
  },
  {
   "cell_type": "code",
   "execution_count": null,
   "metadata": {},
   "outputs": [],
   "source": ""
  }
 ],
 "metadata": {
  "kernelspec": {
   "display_name": "Python 3",
   "language": "python",
   "name": "python3"
  },
  "language_info": {
   "codemirror_mode": {
    "name": "ipython",
    "version": 2
   },
   "file_extension": ".py",
   "mimetype": "text/x-python",
   "name": "python",
   "nbconvert_exporter": "python",
   "pygments_lexer": "ipython2",
   "version": "2.7.15+"
  }
 },
 "nbformat": 4,
 "nbformat_minor": 4
}

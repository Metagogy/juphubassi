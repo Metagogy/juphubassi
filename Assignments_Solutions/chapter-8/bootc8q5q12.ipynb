{
 "cells": [
  {
   "cell_type": "markdown",
   "metadata": {},
   "source": [
    "**Question**: Load, split, normalize and flatten the mnist dataset. Build, compile and train the sequential model using loss as categorical cross entropy and optimizer as adam.\n"
   ]
  },
  {
   "cell_type": "markdown",
   "metadata": {},
   "source": [
    "**Description** : \n",
    "\n",
    "Load mnist dataset using inbuilt function and split into training and testing. \n",
    "\n",
    "Normalize mnist train,test images. \n",
    "\n",
    "Flatten mnist train,test images. \n",
    "\n",
    "Define sequential model. \n",
    "\n",
    "Add a dense layer with 64 neurons, relu activation and input shape. \n",
    "\n",
    "Add a second dense layer with 64 neurons and relu activation. \n",
    "\n",
    "Add the last dense layer with 10 neurons and softmax activation.\n",
    "\n",
    "Compile the model using adam optimizer, loss as categorical cross entropy and accuracy as metrics.\n",
    "\n",
    "Train our model using 5 epochs and 32 as batch size parameter"
   ]
  },
  {
   "cell_type": "markdown",
   "metadata": {},
   "source": [
    "**Level** : Hard\n",
    "\n",
    "\n"
   ]
  },
  {
   "cell_type": "markdown",
   "metadata": {},
   "source": [
    "**input format** :\n",
    "    \n",
    "Dataset\n"
   ]
  },
  {
   "cell_type": "markdown",
   "metadata": {},
   "source": [
    "**output format** :\n",
    "    \n",
    "Model accuracy"
   ]
  },
  {
   "cell_type": "markdown",
   "metadata": {},
   "source": [
    "**Sample input** :\n",
    "    \n",
    "Load the dataset using inbuilt function"
   ]
  },
  {
   "cell_type": "markdown",
   "metadata": {},
   "source": [
    "**Sample output** :\n",
    "    \n",
    "Accuracy : 0.80"
   ]
  },
  {
   "cell_type": "code",
   "execution_count": 1,
   "metadata": {},
   "outputs": [],
   "source": [
    "import tensorflow as tf"
   ]
  },
  {
   "cell_type": "code",
   "execution_count": 2,
   "metadata": {},
   "outputs": [
    {
     "name": "stdout",
     "output_type": "stream",
     "text": [
      "Train on 60000 samples\n",
      "Epoch 1/5\n",
      "60000/60000 [==============================] - 8s 129us/sample - loss: 0.3579 - accuracy: 0.8925\n",
      "Epoch 2/5\n",
      "60000/60000 [==============================] - 6s 96us/sample - loss: 0.1867 - accuracy: 0.9427\n",
      "Epoch 3/5\n",
      "60000/60000 [==============================] - 6s 96us/sample - loss: 0.1457 - accuracy: 0.9554\n",
      "Epoch 4/5\n",
      "60000/60000 [==============================] - 6s 97us/sample - loss: 0.1251 - accuracy: 0.9610\n",
      "Epoch 5/5\n",
      "60000/60000 [==============================] - 6s 97us/sample - loss: 0.1095 - accuracy: 0.9657\n"
     ]
    },
    {
     "data": {
      "text/plain": [
       "<tensorflow.python.keras.callbacks.History at 0x7f58374e0a50>"
      ]
     },
     "execution_count": 2,
     "metadata": {},
     "output_type": "execute_result"
    }
   ],
   "source": [
    "(train_images, train_labels), (test_images, test_labels) = tf.keras.datasets.mnist.load_data()\n",
    "\n",
    "train_images = (train_images / 255) - 0.5\n",
    "test_images = (test_images / 255) - 0.5\n",
    "\n",
    "train_images = train_images.reshape((-1, 784))\n",
    "test_images = test_images.reshape((-1, 784))\n",
    "\n",
    "model = tf.keras.Sequential()\n",
    "model.add(tf.keras.layers.Dense(64, activation = 'relu' , input_shape=(784, )))\n",
    "model.add(tf.keras.layers.Dense(64, activation = 'relu' ))\n",
    "model.add(tf.keras.layers.Dense(10, activation = 'softmax' ))\n",
    "\n",
    "model.compile('adam', loss=tf.keras.losses.CategoricalCrossentropy() ,  metrics = ['accuracy'] )\n",
    "\n",
    "model.fit(train_images,tf.keras.utils.to_categorical(train_labels),\n",
    "  epochs=5,batch_size=32)"
   ]
  },
  {
   "cell_type": "code",
   "execution_count": null,
   "metadata": {},
   "outputs": [],
   "source": []
  }
 ],
 "metadata": {
  "kernelspec": {
   "display_name": "Python 3",
   "language": "python",
   "name": "python3"
  },
  "language_info": {
   "codemirror_mode": {
    "name": "ipython",
    "version": 3
   },
   "file_extension": ".py",
   "mimetype": "text/x-python",
   "name": "python",
   "nbconvert_exporter": "python",
   "pygments_lexer": "ipython3",
   "version": "3.7.4"
  }
 },
 "nbformat": 4,
 "nbformat_minor": 4
}

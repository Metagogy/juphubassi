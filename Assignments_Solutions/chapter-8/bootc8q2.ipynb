{
 "cells": [
  {
   "cell_type": "markdown",
   "metadata": {},
   "source": [
    "**Question :** Load the mnist dataset using inbuilt dataset function and split into training and testing images. Normalize the dataset images by dividing it with 255 and subtract 0.5 of train and test images."
   ]
  },
  {
   "cell_type": "markdown",
   "metadata": {},
   "source": [
    "**Level :** Easy"
   ]
  },
  {
   "cell_type": "markdown",
   "metadata": {},
   "source": [
    "**Input format :**\n",
    "\n",
    "Dataset"
   ]
  },
  {
   "cell_type": "markdown",
   "metadata": {},
   "source": [
    "**Output format :**\n",
    "\n",
    "Normalized dataset"
   ]
  },
  {
   "cell_type": "markdown",
   "metadata": {},
   "source": [
    "**Sample input :** \n",
    "\n",
    "Load the dataset using inbuilt function\n"
   ]
  },
  {
   "cell_type": "markdown",
   "metadata": {},
   "source": [
    "**Sample Output  :**\n",
    "\n",
    "array"
   ]
  },
  {
   "cell_type": "code",
   "execution_count": 1,
   "metadata": {},
   "outputs": [],
   "source": [
    "import tensorflow as tf\n",
    "(train_images, train_labels), (test_images, test_labels) = tf.keras.datasets.mnist.load_data()\n",
    "\n",
    "train_images1 = (train_images / 255) - 0.5\n",
    "test_images1 = (test_images / 255) - 0.5"
   ]
  },
  {
   "cell_type": "code",
   "execution_count": 2,
   "metadata": {},
   "outputs": [
    {
     "data": {
      "text/plain": [
       "array([[[-0.5, -0.5, -0.5, ..., -0.5, -0.5, -0.5],\n",
       "        [-0.5, -0.5, -0.5, ..., -0.5, -0.5, -0.5],\n",
       "        [-0.5, -0.5, -0.5, ..., -0.5, -0.5, -0.5],\n",
       "        ...,\n",
       "        [-0.5, -0.5, -0.5, ..., -0.5, -0.5, -0.5],\n",
       "        [-0.5, -0.5, -0.5, ..., -0.5, -0.5, -0.5],\n",
       "        [-0.5, -0.5, -0.5, ..., -0.5, -0.5, -0.5]],\n",
       "\n",
       "       [[-0.5, -0.5, -0.5, ..., -0.5, -0.5, -0.5],\n",
       "        [-0.5, -0.5, -0.5, ..., -0.5, -0.5, -0.5],\n",
       "        [-0.5, -0.5, -0.5, ..., -0.5, -0.5, -0.5],\n",
       "        ...,\n",
       "        [-0.5, -0.5, -0.5, ..., -0.5, -0.5, -0.5],\n",
       "        [-0.5, -0.5, -0.5, ..., -0.5, -0.5, -0.5],\n",
       "        [-0.5, -0.5, -0.5, ..., -0.5, -0.5, -0.5]],\n",
       "\n",
       "       [[-0.5, -0.5, -0.5, ..., -0.5, -0.5, -0.5],\n",
       "        [-0.5, -0.5, -0.5, ..., -0.5, -0.5, -0.5],\n",
       "        [-0.5, -0.5, -0.5, ..., -0.5, -0.5, -0.5],\n",
       "        ...,\n",
       "        [-0.5, -0.5, -0.5, ..., -0.5, -0.5, -0.5],\n",
       "        [-0.5, -0.5, -0.5, ..., -0.5, -0.5, -0.5],\n",
       "        [-0.5, -0.5, -0.5, ..., -0.5, -0.5, -0.5]],\n",
       "\n",
       "       ...,\n",
       "\n",
       "       [[-0.5, -0.5, -0.5, ..., -0.5, -0.5, -0.5],\n",
       "        [-0.5, -0.5, -0.5, ..., -0.5, -0.5, -0.5],\n",
       "        [-0.5, -0.5, -0.5, ..., -0.5, -0.5, -0.5],\n",
       "        ...,\n",
       "        [-0.5, -0.5, -0.5, ..., -0.5, -0.5, -0.5],\n",
       "        [-0.5, -0.5, -0.5, ..., -0.5, -0.5, -0.5],\n",
       "        [-0.5, -0.5, -0.5, ..., -0.5, -0.5, -0.5]],\n",
       "\n",
       "       [[-0.5, -0.5, -0.5, ..., -0.5, -0.5, -0.5],\n",
       "        [-0.5, -0.5, -0.5, ..., -0.5, -0.5, -0.5],\n",
       "        [-0.5, -0.5, -0.5, ..., -0.5, -0.5, -0.5],\n",
       "        ...,\n",
       "        [-0.5, -0.5, -0.5, ..., -0.5, -0.5, -0.5],\n",
       "        [-0.5, -0.5, -0.5, ..., -0.5, -0.5, -0.5],\n",
       "        [-0.5, -0.5, -0.5, ..., -0.5, -0.5, -0.5]],\n",
       "\n",
       "       [[-0.5, -0.5, -0.5, ..., -0.5, -0.5, -0.5],\n",
       "        [-0.5, -0.5, -0.5, ..., -0.5, -0.5, -0.5],\n",
       "        [-0.5, -0.5, -0.5, ..., -0.5, -0.5, -0.5],\n",
       "        ...,\n",
       "        [-0.5, -0.5, -0.5, ..., -0.5, -0.5, -0.5],\n",
       "        [-0.5, -0.5, -0.5, ..., -0.5, -0.5, -0.5],\n",
       "        [-0.5, -0.5, -0.5, ..., -0.5, -0.5, -0.5]]])"
      ]
     },
     "execution_count": 2,
     "metadata": {},
     "output_type": "execute_result"
    }
   ],
   "source": [
    "train_images1"
   ]
  },
  {
   "cell_type": "code",
   "execution_count": null,
   "metadata": {},
   "outputs": [],
   "source": []
  }
 ],
 "metadata": {
  "kernelspec": {
   "display_name": "Python 3",
   "language": "python",
   "name": "python3"
  },
  "language_info": {
   "codemirror_mode": {
    "name": "ipython",
    "version": 3
   },
   "file_extension": ".py",
   "mimetype": "text/x-python",
   "name": "python",
   "nbconvert_exporter": "python",
   "pygments_lexer": "ipython3",
   "version": "3.7.4"
  }
 },
 "nbformat": 4,
 "nbformat_minor": 4
}

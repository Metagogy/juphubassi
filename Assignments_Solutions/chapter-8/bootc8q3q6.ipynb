{
 "cells": [
  {
   "cell_type": "markdown",
   "metadata": {},
   "source": [
    "**Question** : Load mnist dataset using inbuilt function and split into training and testing sets. Normalize mnist train, test images. Flatten train,test images. Find out the shape of mnist test images."
   ]
  },
  {
   "cell_type": "markdown",
   "metadata": {},
   "source": [
    "**Level** : Medium\n"
   ]
  },
  {
   "cell_type": "markdown",
   "metadata": {},
   "source": [
    "**input format** :\n",
    "    \n",
    "Dataset\n"
   ]
  },
  {
   "cell_type": "markdown",
   "metadata": {},
   "source": [
    "**output format** :\n",
    "    \n",
    "Dataset dimensions\n",
    "\n"
   ]
  },
  {
   "cell_type": "markdown",
   "metadata": {},
   "source": [
    "**Sample input** :\n",
    "    \n",
    "Load the dataset using inbuilt function\n"
   ]
  },
  {
   "cell_type": "markdown",
   "metadata": {},
   "source": [
    "**Sample output** :\n",
    "    \n",
    "(10000, 784)\n",
    "\n",
    "\n"
   ]
  },
  {
   "cell_type": "code",
   "execution_count": 1,
   "metadata": {},
   "outputs": [],
   "source": [
    "import tensorflow as tf"
   ]
  },
  {
   "cell_type": "code",
   "execution_count": 2,
   "metadata": {},
   "outputs": [
    {
     "name": "stdout",
     "output_type": "stream",
     "text": [
      "[[[-0.5 -0.5 -0.5 ... -0.5 -0.5 -0.5]\n",
      "  [-0.5 -0.5 -0.5 ... -0.5 -0.5 -0.5]\n",
      "  [-0.5 -0.5 -0.5 ... -0.5 -0.5 -0.5]\n",
      "  ...\n",
      "  [-0.5 -0.5 -0.5 ... -0.5 -0.5 -0.5]\n",
      "  [-0.5 -0.5 -0.5 ... -0.5 -0.5 -0.5]\n",
      "  [-0.5 -0.5 -0.5 ... -0.5 -0.5 -0.5]]\n",
      "\n",
      " [[-0.5 -0.5 -0.5 ... -0.5 -0.5 -0.5]\n",
      "  [-0.5 -0.5 -0.5 ... -0.5 -0.5 -0.5]\n",
      "  [-0.5 -0.5 -0.5 ... -0.5 -0.5 -0.5]\n",
      "  ...\n",
      "  [-0.5 -0.5 -0.5 ... -0.5 -0.5 -0.5]\n",
      "  [-0.5 -0.5 -0.5 ... -0.5 -0.5 -0.5]\n",
      "  [-0.5 -0.5 -0.5 ... -0.5 -0.5 -0.5]]\n",
      "\n",
      " [[-0.5 -0.5 -0.5 ... -0.5 -0.5 -0.5]\n",
      "  [-0.5 -0.5 -0.5 ... -0.5 -0.5 -0.5]\n",
      "  [-0.5 -0.5 -0.5 ... -0.5 -0.5 -0.5]\n",
      "  ...\n",
      "  [-0.5 -0.5 -0.5 ... -0.5 -0.5 -0.5]\n",
      "  [-0.5 -0.5 -0.5 ... -0.5 -0.5 -0.5]\n",
      "  [-0.5 -0.5 -0.5 ... -0.5 -0.5 -0.5]]\n",
      "\n",
      " ...\n",
      "\n",
      " [[-0.5 -0.5 -0.5 ... -0.5 -0.5 -0.5]\n",
      "  [-0.5 -0.5 -0.5 ... -0.5 -0.5 -0.5]\n",
      "  [-0.5 -0.5 -0.5 ... -0.5 -0.5 -0.5]\n",
      "  ...\n",
      "  [-0.5 -0.5 -0.5 ... -0.5 -0.5 -0.5]\n",
      "  [-0.5 -0.5 -0.5 ... -0.5 -0.5 -0.5]\n",
      "  [-0.5 -0.5 -0.5 ... -0.5 -0.5 -0.5]]\n",
      "\n",
      " [[-0.5 -0.5 -0.5 ... -0.5 -0.5 -0.5]\n",
      "  [-0.5 -0.5 -0.5 ... -0.5 -0.5 -0.5]\n",
      "  [-0.5 -0.5 -0.5 ... -0.5 -0.5 -0.5]\n",
      "  ...\n",
      "  [-0.5 -0.5 -0.5 ... -0.5 -0.5 -0.5]\n",
      "  [-0.5 -0.5 -0.5 ... -0.5 -0.5 -0.5]\n",
      "  [-0.5 -0.5 -0.5 ... -0.5 -0.5 -0.5]]\n",
      "\n",
      " [[-0.5 -0.5 -0.5 ... -0.5 -0.5 -0.5]\n",
      "  [-0.5 -0.5 -0.5 ... -0.5 -0.5 -0.5]\n",
      "  [-0.5 -0.5 -0.5 ... -0.5 -0.5 -0.5]\n",
      "  ...\n",
      "  [-0.5 -0.5 -0.5 ... -0.5 -0.5 -0.5]\n",
      "  [-0.5 -0.5 -0.5 ... -0.5 -0.5 -0.5]\n",
      "  [-0.5 -0.5 -0.5 ... -0.5 -0.5 -0.5]]]\n",
      "(10000, 28, 28)\n"
     ]
    }
   ],
   "source": [
    "(train_images, train_labels), (test_images, test_labels) = tf.keras.datasets.mnist.load_data()\n",
    "train_images1 = (train_images / 255) - 0.5\n",
    "test_images1 = (test_images / 255) - 0.5\n",
    "train_images = train_images.reshape((-1, 784))\n",
    "test_images = test_images.reshape((-1, 784))\n",
    "print(test_images1)\n",
    "print(test_images1.shape)"
   ]
  },
  {
   "cell_type": "code",
   "execution_count": 4,
   "metadata": {},
   "outputs": [
    {
     "name": "stdout",
     "output_type": "stream",
     "text": [
      "(60000, 784)\n"
     ]
    }
   ],
   "source": [
    "print(train_images.shape)"
   ]
  },
  {
   "cell_type": "code",
   "execution_count": 5,
   "metadata": {},
   "outputs": [
    {
     "name": "stdout",
     "output_type": "stream",
     "text": [
      "(10000, 784)\n"
     ]
    }
   ],
   "source": [
    "print(test_images.shape)"
   ]
  },
  {
   "cell_type": "code",
   "execution_count": null,
   "metadata": {},
   "outputs": [],
   "source": []
  }
 ],
 "metadata": {
  "kernelspec": {
   "display_name": "Python 3",
   "language": "python",
   "name": "python3"
  },
  "language_info": {
   "codemirror_mode": {
    "name": "ipython",
    "version": 3
   },
   "file_extension": ".py",
   "mimetype": "text/x-python",
   "name": "python",
   "nbconvert_exporter": "python",
   "pygments_lexer": "ipython3",
   "version": "3.7.4"
  }
 },
 "nbformat": 4,
 "nbformat_minor": 4
}

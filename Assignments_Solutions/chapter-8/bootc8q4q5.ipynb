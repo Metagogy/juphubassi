{
 "cells": [
  {
   "cell_type": "markdown",
   "metadata": {},
   "source": [
    "**Question** : Load mnist dataset using inbuilt function and split into training and testing. Normalize mnist train, test images. Flatten mnist train images. Print flattened train images."
   ]
  },
  {
   "cell_type": "markdown",
   "metadata": {},
   "source": [
    "**Level** : Easy\n",
    "\n"
   ]
  },
  {
   "cell_type": "markdown",
   "metadata": {},
   "source": [
    "**input format** :\n",
    "    \n",
    "Dataset\n"
   ]
  },
  {
   "cell_type": "markdown",
   "metadata": {},
   "source": [
    "**output format** :\n",
    "    \n",
    "array\n",
    "\n"
   ]
  },
  {
   "cell_type": "markdown",
   "metadata": {},
   "source": [
    "**Sample input** :\n",
    "    \n",
    "Load the dataset using inbuilt function\n"
   ]
  },
  {
   "cell_type": "markdown",
   "metadata": {},
   "source": [
    "**Sample output** :\n",
    "    \n",
    "       [[0, 0, 0, ..., 0, 0, 0],\n",
    "       [0, 0, 0, ..., 0, 0, 0],\n",
    "       [0, 0, 0, ..., 0, 0, 0],\n",
    "       ...,\n",
    "       [0, 0, 0, ..., 0, 0, 0],\n",
    "       [0, 0, 0, ..., 0, 0, 0],\n",
    "       [0, 0, 0, ..., 0, 0, 0]],\n",
    "\n",
    "\n"
   ]
  },
  {
   "cell_type": "code",
   "execution_count": 1,
   "metadata": {},
   "outputs": [],
   "source": [
    "import tensorflow as tf"
   ]
  },
  {
   "cell_type": "code",
   "execution_count": 2,
   "metadata": {},
   "outputs": [
    {
     "name": "stdout",
     "output_type": "stream",
     "text": [
      "[[[-0.5 -0.5 -0.5 ... -0.5 -0.5 -0.5]\n",
      "  [-0.5 -0.5 -0.5 ... -0.5 -0.5 -0.5]\n",
      "  [-0.5 -0.5 -0.5 ... -0.5 -0.5 -0.5]\n",
      "  ...\n",
      "  [-0.5 -0.5 -0.5 ... -0.5 -0.5 -0.5]\n",
      "  [-0.5 -0.5 -0.5 ... -0.5 -0.5 -0.5]\n",
      "  [-0.5 -0.5 -0.5 ... -0.5 -0.5 -0.5]]\n",
      "\n",
      " [[-0.5 -0.5 -0.5 ... -0.5 -0.5 -0.5]\n",
      "  [-0.5 -0.5 -0.5 ... -0.5 -0.5 -0.5]\n",
      "  [-0.5 -0.5 -0.5 ... -0.5 -0.5 -0.5]\n",
      "  ...\n",
      "  [-0.5 -0.5 -0.5 ... -0.5 -0.5 -0.5]\n",
      "  [-0.5 -0.5 -0.5 ... -0.5 -0.5 -0.5]\n",
      "  [-0.5 -0.5 -0.5 ... -0.5 -0.5 -0.5]]\n",
      "\n",
      " [[-0.5 -0.5 -0.5 ... -0.5 -0.5 -0.5]\n",
      "  [-0.5 -0.5 -0.5 ... -0.5 -0.5 -0.5]\n",
      "  [-0.5 -0.5 -0.5 ... -0.5 -0.5 -0.5]\n",
      "  ...\n",
      "  [-0.5 -0.5 -0.5 ... -0.5 -0.5 -0.5]\n",
      "  [-0.5 -0.5 -0.5 ... -0.5 -0.5 -0.5]\n",
      "  [-0.5 -0.5 -0.5 ... -0.5 -0.5 -0.5]]\n",
      "\n",
      " ...\n",
      "\n",
      " [[-0.5 -0.5 -0.5 ... -0.5 -0.5 -0.5]\n",
      "  [-0.5 -0.5 -0.5 ... -0.5 -0.5 -0.5]\n",
      "  [-0.5 -0.5 -0.5 ... -0.5 -0.5 -0.5]\n",
      "  ...\n",
      "  [-0.5 -0.5 -0.5 ... -0.5 -0.5 -0.5]\n",
      "  [-0.5 -0.5 -0.5 ... -0.5 -0.5 -0.5]\n",
      "  [-0.5 -0.5 -0.5 ... -0.5 -0.5 -0.5]]\n",
      "\n",
      " [[-0.5 -0.5 -0.5 ... -0.5 -0.5 -0.5]\n",
      "  [-0.5 -0.5 -0.5 ... -0.5 -0.5 -0.5]\n",
      "  [-0.5 -0.5 -0.5 ... -0.5 -0.5 -0.5]\n",
      "  ...\n",
      "  [-0.5 -0.5 -0.5 ... -0.5 -0.5 -0.5]\n",
      "  [-0.5 -0.5 -0.5 ... -0.5 -0.5 -0.5]\n",
      "  [-0.5 -0.5 -0.5 ... -0.5 -0.5 -0.5]]\n",
      "\n",
      " [[-0.5 -0.5 -0.5 ... -0.5 -0.5 -0.5]\n",
      "  [-0.5 -0.5 -0.5 ... -0.5 -0.5 -0.5]\n",
      "  [-0.5 -0.5 -0.5 ... -0.5 -0.5 -0.5]\n",
      "  ...\n",
      "  [-0.5 -0.5 -0.5 ... -0.5 -0.5 -0.5]\n",
      "  [-0.5 -0.5 -0.5 ... -0.5 -0.5 -0.5]\n",
      "  [-0.5 -0.5 -0.5 ... -0.5 -0.5 -0.5]]]\n"
     ]
    }
   ],
   "source": [
    "(train_images, train_labels), (test_images, test_labels) = tf.keras.datasets.mnist.load_data()\n",
    "train_images1 = (train_images / 255) - 0.5\n",
    "test_images1 = (test_images / 255) - 0.5\n",
    "train_images = train_images.reshape((-1, 784))\n",
    "print(train_images1)"
   ]
  },
  {
   "cell_type": "code",
   "execution_count": null,
   "metadata": {},
   "outputs": [],
   "source": []
  }
 ],
 "metadata": {
  "kernelspec": {
   "display_name": "Python 3",
   "language": "python",
   "name": "python3"
  },
  "language_info": {
   "codemirror_mode": {
    "name": "ipython",
    "version": 3
   },
   "file_extension": ".py",
   "mimetype": "text/x-python",
   "name": "python",
   "nbconvert_exporter": "python",
   "pygments_lexer": "ipython3",
   "version": "3.7.4"
  }
 },
 "nbformat": 4,
 "nbformat_minor": 4
}

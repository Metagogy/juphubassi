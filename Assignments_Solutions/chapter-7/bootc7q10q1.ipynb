{
 "cells": [
  {
   "cell_type": "markdown",
   "metadata": {},
   "source": "**Question**: Load, drop 'id' column from iris.csv dataset. Split the dataset into 60% training and 40% testing and print rows and columns for training dataset.\n"
  },
  {
   "cell_type": "markdown",
   "metadata": {},
   "source": "**Description :** \n\n* Load the iris.csv dataset. \n* Drop a columns and split into two data frames\n* Split the model for training and testing with 60:40 ratio \n* print rows and columns for train set\n"
  },
  {
   "cell_type": "markdown",
   "metadata": {},
   "source": "**Level:** Medium"
  },
  {
   "cell_type": "markdown",
   "metadata": {},
   "source": "**Input format :** \n\nUse necessary library and also use separate dataframes then split into train and test"
  },
  {
   "cell_type": "markdown",
   "metadata": {},
   "source": "**Output format :** \n\nIntegers"
  },
  {
   "cell_type": "markdown",
   "metadata": {},
   "source": "**Sample Input :**\n\nImport pandas"
  },
  {
   "cell_type": "markdown",
   "metadata": {},
   "source": "**Sample Output  :** \n\nIntegers"
  },
  {
   "cell_type": "code",
   "execution_count": 1,
   "metadata": {},
   "outputs": [
    {
     "data": {},
     "execution_count": 1,
     "metadata": {},
     "output_type": "execute_result"
    }
   ],
   "source": "import pandas as pd\ndata = pd.read_csv ('/home/iba/Downloads/iris/Iris.csv')\ndata = data.drop(['Id'], axis = 1)\nX = data.drop(['Species'] , axis = 1)\nY = data['Species']\nfrom sklearn.model_selection import train_test_split\nX_train,X_test,y_train,y_test=train_test_split(X,Y,test_size=0.4)\nX_train.shape\n\n"
  },
  {
   "cell_type": "code",
   "execution_count": null,
   "metadata": {},
   "outputs": [],
   "source": ""
  }
 ],
 "metadata": {
  "kernelspec": {
   "display_name": "Python 3",
   "language": "python",
   "name": "python3"
  },
  "language_info": {
   "codemirror_mode": {
    "name": "ipython",
    "version": 2
   },
   "file_extension": ".py",
   "mimetype": "text/x-python",
   "name": "python",
   "nbconvert_exporter": "python",
   "pygments_lexer": "ipython2",
   "version": "2.7.15+"
  }
 },
 "nbformat": 4,
 "nbformat_minor": 4
}

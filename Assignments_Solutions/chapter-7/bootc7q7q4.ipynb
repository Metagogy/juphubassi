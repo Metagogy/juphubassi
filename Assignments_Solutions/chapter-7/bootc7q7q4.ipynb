{
 "cells": [
  {
   "cell_type": "markdown",
   "metadata": {},
   "source": "**Question** : Load, drop 'id' column from iris.csv dataset. Split the dataset into 90% training and 10% testing and also convert categorical variables to indicator variables."
  },
  {
   "cell_type": "markdown",
   "metadata": {},
   "source": "**Description :** \n\n* Load the iris.csv dataset. \n* Drop a columns and split into two data frames\n* Convert categorical variables into dummy/indicator variables.\n* Split the model for training and testing with 90:10 ratio and random state as 0\n"
  },
  {
   "cell_type": "markdown",
   "metadata": {},
   "source": "**Level:** Medium"
  },
  {
   "cell_type": "markdown",
   "metadata": {},
   "source": "**Input format :** \n\nuse training and testing with 90:10 ratio"
  },
  {
   "cell_type": "markdown",
   "metadata": {},
   "source": "**Output format  :** \n\ndataset values"
  },
  {
   "cell_type": "markdown",
   "metadata": {},
   "source": "**Sample Input  :** \n\nimport packages"
  },
  {
   "cell_type": "markdown",
   "metadata": {},
   "source": "**Sample Output :** \n\nvalues"
  },
  {
   "cell_type": "code",
   "execution_count": 1,
   "metadata": {},
   "outputs": [],
   "source": "import pandas as pd\ndata = pd.read_csv ('/home/iba/Downloads/iris/Iris.csv')\ndata = data.drop(['Id'], axis = 1)\nX = data.drop(['Species'] , axis = 1)\nY = data['Species']\nY=pd.get_dummies(Y)\nfrom sklearn import preprocessing, model_selection\ntrain_x, test_x, train_y, test_y = model_selection.train_test_split(X,Y,test_size = 0.1, random_state = 0)\n\n"
  },
  {
   "cell_type": "code",
   "execution_count": null,
   "metadata": {},
   "outputs": [],
   "source": ""
  }
 ],
 "metadata": {
  "kernelspec": {
   "display_name": "Python 3",
   "language": "python",
   "name": "python3"
  },
  "language_info": {
   "codemirror_mode": {
    "name": "ipython",
    "version": 2
   },
   "file_extension": ".py",
   "mimetype": "text/x-python",
   "name": "python",
   "nbconvert_exporter": "python",
   "pygments_lexer": "ipython2",
   "version": "2.7.15+"
  }
 },
 "nbformat": 4,
 "nbformat_minor": 4
}

{
 "cells": [
  {
   "cell_type": "markdown",
   "metadata": {},
   "source": [
    "**Question :** \n",
    "\n",
    "* Load the iris.csv dataset and Drop “Id” variable(column) , axis = 1 \n",
    "* Split into training and testing with test size = 0.1 and random state = 0\n",
    "* Build the model by using Sequential model and adding first activation function as Relu layer having 8 neurons and next three activation functions as Relu layer having 10 neurons each and last activation function as Softmax layer has 3 neurons\n",
    "* Compile the model by using loss function as Binary cross entropy  and Optimizer as adam\n",
    "* Fit or Train the model by using 5 epochs and  2 as batch size \n"
   ]
  },
  {
   "cell_type": "markdown",
   "metadata": {},
   "source": [
    "**Level:** Hard"
   ]
  },
  {
   "cell_type": "markdown",
   "metadata": {},
   "source": [
    "**Input format :** \n",
    "\n",
    "Fit a model by using Epochs and batch size"
   ]
  },
  {
   "cell_type": "markdown",
   "metadata": {},
   "source": [
    "**Output format :**\n",
    "\n",
    "Neural networks model"
   ]
  },
  {
   "cell_type": "markdown",
   "metadata": {},
   "source": [
    "**Sample Input :**\n",
    "\n",
    "model = tf.keras.Sequential()\n",
    "\n",
    "model.add(tf.keras.layers.Dense(8, input_dim = input_dim , activation = 'relu'))\n",
    "\n",
    "model.add(tf.keras.layers.Dense(10, activation = 'relu'))\n",
    "\n",
    "model.add(tf.keras.layers.Dense(10, activation = 'relu'))\n",
    "\n",
    "model.add(tf.keras.layers.Dense(10, activation = 'relu'))\n",
    "\n",
    "model.add(tf.keras.layers.Dense(3, activation = 'softmax'))\n",
    "\n",
    "model.summary()"
   ]
  },
  {
   "cell_type": "markdown",
   "metadata": {},
   "source": [
    "**Sample Output :** \n",
    "\n",
    "Integers with float values"
   ]
  },
  {
   "cell_type": "code",
   "execution_count": 1,
   "metadata": {},
   "outputs": [
    {
     "name": "stdout",
     "output_type": "stream",
     "text": [
      "4\n",
      "Model: \"sequential\"\n",
      "_________________________________________________________________\n",
      "Layer (type)                 Output Shape              Param #   \n",
      "=================================================================\n",
      "dense (Dense)                (None, 8)                 40        \n",
      "_________________________________________________________________\n",
      "dense_1 (Dense)              (None, 10)                90        \n",
      "_________________________________________________________________\n",
      "dense_2 (Dense)              (None, 10)                110       \n",
      "_________________________________________________________________\n",
      "dense_3 (Dense)              (None, 10)                110       \n",
      "_________________________________________________________________\n",
      "dense_4 (Dense)              (None, 3)                 33        \n",
      "=================================================================\n",
      "Total params: 383\n",
      "Trainable params: 383\n",
      "Non-trainable params: 0\n",
      "_________________________________________________________________\n",
      "Train on 135 samples\n",
      "Epoch 1/5\n",
      "135/135 [==============================] - 1s 5ms/sample - loss: 0.7525 - accuracy: 0.6494\n",
      "Epoch 2/5\n",
      "135/135 [==============================] - 0s 1ms/sample - loss: 0.7180 - accuracy: 0.8173\n",
      "Epoch 3/5\n",
      "135/135 [==============================] - 0s 1ms/sample - loss: 0.6864 - accuracy: 0.8049\n",
      "Epoch 4/5\n",
      "135/135 [==============================] - 0s 1ms/sample - loss: 0.6694 - accuracy: 0.8173\n",
      "Epoch 5/5\n",
      "135/135 [==============================] - 0s 1ms/sample - loss: 0.6609 - accuracy: 0.8198\n"
     ]
    },
    {
     "data": {
      "text/plain": [
       "<tensorflow.python.keras.callbacks.History at 0x7f35a00d5410>"
      ]
     },
     "execution_count": 1,
     "metadata": {},
     "output_type": "execute_result"
    }
   ],
   "source": [
    "import pandas as pd\n",
    "data = pd.read_csv ('/home/iba/Downloads/iris/Iris.csv')\n",
    "data = data.drop(['Id'], axis = 1)\n",
    "X = data.drop(['Species'] , axis = 1)\n",
    "Y = data['Species']\n",
    "Y=pd.get_dummies(Y)\n",
    "from sklearn import preprocessing, model_selection\n",
    "train_x, test_x, train_y, test_y = model_selection.train_test_split(X,Y,test_size = 0.1, random_state = 0)\n",
    "\n",
    "import tensorflow as tf\n",
    "\n",
    "input_dim = len(data.columns) - 1\n",
    "print(input_dim)\n",
    "model = tf.keras.Sequential()\n",
    "model.add(tf.keras.layers.Dense(8, input_dim = input_dim , activation = 'relu'))\n",
    "model.add(tf.keras.layers.Dense(10, activation = 'relu'))\n",
    "model.add(tf.keras.layers.Dense(10, activation = 'relu'))\n",
    "model.add(tf.keras.layers.Dense(10, activation = 'relu'))\n",
    "model.add(tf.keras.layers.Dense(3, activation = 'softmax'))\n",
    "model.summary()\n",
    "\n",
    "model.compile(\n",
    "    loss=tf.keras.losses.BinaryCrossentropy(from_logits=True),\n",
    "    optimizer='adam',\n",
    "    metrics=['accuracy'])\n",
    "\n",
    "model.fit(train_x, train_y, epochs = 5, batch_size = 2)\n"
   ]
  },
  {
   "cell_type": "code",
   "execution_count": null,
   "metadata": {},
   "outputs": [],
   "source": []
  }
 ],
 "metadata": {
  "kernelspec": {
   "display_name": "Python 3",
   "language": "python",
   "name": "python3"
  },
  "language_info": {
   "codemirror_mode": {
    "name": "ipython",
    "version": 3
   },
   "file_extension": ".py",
   "mimetype": "text/x-python",
   "name": "python",
   "nbconvert_exporter": "python",
   "pygments_lexer": "ipython3",
   "version": "3.7.6"
  }
 },
 "nbformat": 4,
 "nbformat_minor": 4
}

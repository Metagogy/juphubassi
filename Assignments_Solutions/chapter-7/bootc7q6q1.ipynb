{
 "cells": [
  {
   "cell_type": "markdown",
   "metadata": {},
   "source": "**Question  :** Load the Cereals.csv dataset using pandas"
  },
  {
   "cell_type": "markdown",
   "metadata": {},
   "source": "**Level:** Easy"
  },
  {
   "cell_type": "markdown",
   "metadata": {},
   "source": "**Input format :** \n\nLoad the cereals dataset"
  },
  {
   "cell_type": "markdown",
   "metadata": {},
   "source": "**Output format  :**\n\ncsv values"
  },
  {
   "cell_type": "markdown",
   "metadata": {},
   "source": "**Sample Input  :**\n\nimport pandas"
  },
  {
   "cell_type": "markdown",
   "metadata": {},
   "source": "**Sample Output  :** \n\nCereals values"
  },
  {
   "cell_type": "code",
   "execution_count": 1,
   "metadata": {},
   "outputs": [],
   "source": "import pandas as pd\ndata = pd.read_csv (\"/home/iba/Downloads/6531_9498_bundle_archive/cereal.csv\")\n\n\n"
  },
  {
   "cell_type": "code",
   "execution_count": null,
   "metadata": {},
   "outputs": [],
   "source": ""
  }
 ],
 "metadata": {
  "kernelspec": {
   "display_name": "Python 3",
   "language": "python",
   "name": "python3"
  },
  "language_info": {
   "codemirror_mode": {
    "name": "ipython",
    "version": 2
   },
   "file_extension": ".py",
   "mimetype": "text/x-python",
   "name": "python",
   "nbconvert_exporter": "python",
   "pygments_lexer": "ipython2",
   "version": "2.7.15+"
  }
 },
 "nbformat": 4,
 "nbformat_minor": 4
}

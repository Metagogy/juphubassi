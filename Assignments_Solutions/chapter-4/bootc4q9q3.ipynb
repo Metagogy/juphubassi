{
 "cells": [
  {
   "cell_type": "markdown",
   "metadata": {},
   "source": [
    "**Question :** Perform element wise mathematical operations such as sign, ceil, round for array3 = array([[-2, 3.5, -4], [4.05, -6, 8]])."
   ]
  },
  {
   "cell_type": "markdown",
   "metadata": {},
   "source": [
    "**Level:** Medium"
   ]
  },
  {
   "cell_type": "markdown",
   "metadata": {},
   "source": [
    "**Input format :**\n",
    "\n",
    "array"
   ]
  },
  {
   "cell_type": "markdown",
   "metadata": {},
   "source": [
    "**Output format :**\n",
    "\n",
    "array"
   ]
  },
  {
   "cell_type": "markdown",
   "metadata": {},
   "source": [
    "**Sample input :**\n",
    "\n",
    "Array is [[-2, 3.5, -4], [4.05, -6, 8]]"
   ]
  },
  {
   "cell_type": "markdown",
   "metadata": {},
   "source": [
    "**Sample output :**\n",
    "\n",
    "    [[-1.  1. -1.]\n",
    "     \n",
    "     [ 1. -1.  1.]]\n",
    "\n",
    "    [[-2.  4. -4.]\n",
    "     \n",
    "     [ 5. -6.  8.]]\n",
    "\n",
    "    [[-2.  4. -4.]\n",
    "     \n",
    "     [ 4. -6.  8.]]"
   ]
  },
  {
   "cell_type": "code",
   "execution_count": 1,
   "metadata": {},
   "outputs": [
    {
     "name": "stdout",
     "output_type": "stream",
     "text": [
      "[[-1.  1. -1.]\n",
      " [ 1. -1.  1.]]\n",
      "[[-2.  4. -4.]\n",
      " [ 5. -6.  8.]]\n",
      "[[-2.  4. -4.]\n",
      " [ 4. -6.  8.]]\n"
     ]
    }
   ],
   "source": [
    "import numpy as np\n",
    "\n",
    "array3 = np.array([[-2, 3.5, -4], [4.05, -6, 8]])\n",
    "print(np.sign(array3))\n",
    "print(np.ceil(array3))\n",
    "print(np.round(array3))"
   ]
  },
  {
   "cell_type": "code",
   "execution_count": null,
   "metadata": {},
   "outputs": [],
   "source": []
  }
 ],
 "metadata": {
  "kernelspec": {
   "display_name": "Python 3",
   "language": "python",
   "name": "python3"
  },
  "language_info": {
   "codemirror_mode": {
    "name": "ipython",
    "version": 3
   },
   "file_extension": ".py",
   "mimetype": "text/x-python",
   "name": "python",
   "nbconvert_exporter": "python",
   "pygments_lexer": "ipython3",
   "version": "3.7.4"
  }
 },
 "nbformat": 4,
 "nbformat_minor": 4
}

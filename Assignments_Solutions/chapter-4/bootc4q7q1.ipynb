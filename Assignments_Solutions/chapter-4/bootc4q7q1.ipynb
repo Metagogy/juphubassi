{
 "cells": [
  {
   "cell_type": "markdown",
   "metadata": {},
   "source": [
    "**Question**: Perform single dimensional slicing on 1d array [ 6, 7, 8, 9, 0, 1, 2, 3, 4, 5]\n"
   ]
  },
  {
   "cell_type": "markdown",
   "metadata": {},
   "source": [
    "**Description :**  Perform single dimensional slicing on 1d array [ 6, 7, 8, 9, 0, 1, 2, 3, 4, 5] where, slice \n",
    "\n",
    "From index 4 to last index \n",
    "\n",
    "From index 0 to 4 index\n",
    "\n",
    "From index 4(included) up to index 7(excluded)\n",
    "\n",
    "Exclude last element"
   ]
  },
  {
   "cell_type": "markdown",
   "metadata": {},
   "source": [
    "**Level:** Medium"
   ]
  },
  {
   "cell_type": "markdown",
   "metadata": {},
   "source": [
    "**Input format :**\n",
    "\n",
    "array"
   ]
  },
  {
   "cell_type": "markdown",
   "metadata": {},
   "source": [
    "**Output format :**\n",
    "\n",
    "integer"
   ]
  },
  {
   "cell_type": "markdown",
   "metadata": {},
   "source": [
    "**Sample input :**\n",
    "\n",
    "[ 6, 7, 8, 9, 0, 1, 2, 3, 4, 5]"
   ]
  },
  {
   "cell_type": "markdown",
   "metadata": {},
   "source": [
    "**Sample output :**\n",
    "\n",
    "[0 1 2 3 4 5]\n",
    "\n",
    "[6 7 8 9]\n",
    "\n",
    "[0 1 2]\n",
    "\n",
    "[6 7 8 9 0 1 2 3 4]"
   ]
  },
  {
   "cell_type": "code",
   "execution_count": 1,
   "metadata": {},
   "outputs": [
    {
     "name": "stdout",
     "output_type": "stream",
     "text": [
      "[0 1 2 3 4 5]\n",
      "[6 7 8 9]\n",
      "[0 1 2]\n",
      "[6 7 8 9 0 1 2 3 4]\n"
     ]
    }
   ],
   "source": [
    "import numpy as np\n",
    "\n",
    "array1d = np.array([ 6, 7, 8, 9, 0, 1, 2, 3, 4, 5]) \n",
    "print(array1d[4:])  \n",
    "print(array1d[:4])  \n",
    "print(array1d[4:7])  \n",
    "print(array1d[:-1]) "
   ]
  },
  {
   "cell_type": "code",
   "execution_count": null,
   "metadata": {},
   "outputs": [],
   "source": []
  }
 ],
 "metadata": {
  "kernelspec": {
   "display_name": "Python 3",
   "language": "python",
   "name": "python3"
  },
  "language_info": {
   "codemirror_mode": {
    "name": "ipython",
    "version": 3
   },
   "file_extension": ".py",
   "mimetype": "text/x-python",
   "name": "python",
   "nbconvert_exporter": "python",
   "pygments_lexer": "ipython3",
   "version": "3.7.4"
  }
 },
 "nbformat": 4,
 "nbformat_minor": 4
}

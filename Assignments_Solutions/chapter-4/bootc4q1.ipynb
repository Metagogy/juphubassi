{
 "cells": [
  {
   "cell_type": "markdown",
   "metadata": {},
   "source": [
    "**Question** : Create an array which belongs to gaussian/normal distribution, identity matrix and array with even space."
   ]
  },
  {
   "cell_type": "markdown",
   "metadata": {},
   "source": [
    "**Description :**\n",
    "\n",
    "Create an array containing 5 values with even space between 0 and 1.\n",
    "\n",
    "Create a 3x3 array which belongs to gaussian/normal distribution with mean 0 and standard deviation.\n",
    "\n",
    "Create an identity matrix with 3 rows and 3 columns."
   ]
  },
  {
   "cell_type": "markdown",
   "metadata": {},
   "source": [
    "**Level :** Easy"
   ]
  },
  {
   "cell_type": "markdown",
   "metadata": {},
   "source": [
    "**Input format :** \n",
    "\n",
    "input as integer\n",
    "\n",
    "input as integers and matrix 3 x 3\n",
    "\n",
    "input as integer"
   ]
  },
  {
   "cell_type": "markdown",
   "metadata": {},
   "source": [
    "**Output format :** \n",
    "\n",
    "numpy array with even space\n",
    "\n",
    "matrix as output\n",
    "\n",
    "matrix as output"
   ]
  },
  {
   "cell_type": "markdown",
   "metadata": {},
   "source": [
    "**Sample input :** \n",
    "\n",
    "Array with 2 values having even space between 0 and 1.\n",
    "\n",
    "Create a 2x2 array which belongs to gaussian/normal distribution\n",
    "\n",
    "identity matrix with 2 rows and 2 columns\n",
    "\n"
   ]
  },
  {
   "cell_type": "markdown",
   "metadata": {},
   "source": [
    "**Sample output :** \n",
    "\n",
    "array([0., 1.])\n",
    "\n",
    "array([[ 1.12440535, -0.82887104],\n",
    "         [ 0.35520822, -0.76821577]])\n",
    "\n",
    "array([[1.,0.],\n",
    "       [0.,1.]])"
   ]
  },
  {
   "cell_type": "code",
   "execution_count": 2,
   "metadata": {},
   "outputs": [
    {
     "data": {
      "text/plain": [
       "array([0.  , 0.25, 0.5 , 0.75, 1.  ])"
      ]
     },
     "execution_count": 2,
     "metadata": {},
     "output_type": "execute_result"
    }
   ],
   "source": [
    "import numpy as np\n",
    "np.linspace(0, 1, 5)"
   ]
  },
  {
   "cell_type": "code",
   "execution_count": 3,
   "metadata": {},
   "outputs": [
    {
     "data": {
      "text/plain": [
       "array([[-0.38642773, -1.11086086, -0.60498384],\n",
       "       [ 0.12531162,  0.09702337,  0.34884746],\n",
       "       [ 0.71508826, -0.31448731,  0.31007325]])"
      ]
     },
     "execution_count": 3,
     "metadata": {},
     "output_type": "execute_result"
    }
   ],
   "source": [
    "np.random.normal(0, 1, (3,3))"
   ]
  },
  {
   "cell_type": "code",
   "execution_count": 4,
   "metadata": {},
   "outputs": [
    {
     "data": {
      "text/plain": [
       "array([[1., 0., 0.],\n",
       "       [0., 1., 0.],\n",
       "       [0., 0., 1.]])"
      ]
     },
     "execution_count": 4,
     "metadata": {},
     "output_type": "execute_result"
    }
   ],
   "source": [
    "np.eye(3)"
   ]
  },
  {
   "cell_type": "code",
   "execution_count": null,
   "metadata": {},
   "outputs": [],
   "source": []
  }
 ],
 "metadata": {
  "kernelspec": {
   "display_name": "Python 3",
   "language": "python",
   "name": "python3"
  },
  "language_info": {
   "codemirror_mode": {
    "name": "ipython",
    "version": 3
   },
   "file_extension": ".py",
   "mimetype": "text/x-python",
   "name": "python",
   "nbconvert_exporter": "python",
   "pygments_lexer": "ipython3",
   "version": "3.7.4"
  }
 },
 "nbformat": 4,
 "nbformat_minor": 4
}

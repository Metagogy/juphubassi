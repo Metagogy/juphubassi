{
 "cells": [
  {
   "cell_type": "markdown",
   "metadata": {},
   "source": [
    "**Question :** Given a function y = x**2, find the global optima using tf.keras and SGD optimizer?"
   ]
  },
  {
   "cell_type": "markdown",
   "metadata": {},
   "source": [
    "**Level :** Medium"
   ]
  },
  {
   "cell_type": "markdown",
   "metadata": {},
   "source": [
    "**Input format :**\n",
    "\n",
    "float"
   ]
  },
  {
   "cell_type": "markdown",
   "metadata": {},
   "source": [
    "**Output format :**\n",
    "\n",
    "float"
   ]
  },
  {
   "cell_type": "markdown",
   "metadata": {},
   "source": [
    "**Sample input :**\n",
    "\n",
    "tf.Variable(10. 0)"
   ]
  },
  {
   "cell_type": "markdown",
   "metadata": {},
   "source": [
    "**Sample output :**\n",
    "\n",
    "y = 100.0, x1 = 10.0\n",
    "\n",
    "y = 64.0, x1 = 8.0\n",
    "\n",
    "y = 41.0, x1 = 6.4"
   ]
  },
  {
   "cell_type": "code",
   "execution_count": 1,
   "metadata": {},
   "outputs": [
    {
     "name": "stdout",
     "output_type": "stream",
     "text": [
      "y = 100.0, x1 = 10.0\n",
      "y = 64.0, x1 = 8.0\n",
      "y = 41.0, x1 = 6.4\n",
      "y = 26.2, x1 = 5.1\n",
      "y = 16.8, x1 = 4.1\n",
      "y = 10.7, x1 = 3.3\n",
      "y = 6.9, x1 = 2.6\n",
      "y = 4.4, x1 = 2.1\n",
      "y = 2.8, x1 = 1.7\n",
      "y = 1.8, x1 = 1.3\n",
      "y = 1.2, x1 = 1.1\n",
      "y = 0.7, x1 = 0.9\n",
      "y = 0.5, x1 = 0.7\n",
      "y = 0.3, x1 = 0.5\n",
      "y = 0.2, x1 = 0.4\n",
      "y = 0.1, x1 = 0.4\n",
      "y = 0.1, x1 = 0.3\n",
      "y = 0.1, x1 = 0.2\n",
      "y = 0.0, x1 = 0.2\n",
      "y = 0.0, x1 = 0.1\n",
      "y = 0.0, x1 = 0.1\n",
      "y = 0.0, x1 = 0.1\n",
      "y = 0.0, x1 = 0.1\n",
      "y = 0.0, x1 = 0.1\n",
      "y = 0.0, x1 = 0.0\n",
      "y = 0.0, x1 = 0.0\n",
      "y = 0.0, x1 = 0.0\n",
      "y = 0.0, x1 = 0.0\n",
      "y = 0.0, x1 = 0.0\n",
      "y = 0.0, x1 = 0.0\n",
      "y = 0.0, x1 = 0.0\n",
      "y = 0.0, x1 = 0.0\n",
      "y = 0.0, x1 = 0.0\n",
      "y = 0.0, x1 = 0.0\n",
      "y = 0.0, x1 = 0.0\n",
      "y = 0.0, x1 = 0.0\n",
      "y = 0.0, x1 = 0.0\n",
      "y = 0.0, x1 = 0.0\n",
      "y = 0.0, x1 = 0.0\n",
      "y = 0.0, x1 = 0.0\n",
      "y = 0.0, x1 = 0.0\n",
      "y = 0.0, x1 = 0.0\n",
      "y = 0.0, x1 = 0.0\n",
      "y = 0.0, x1 = 0.0\n",
      "y = 0.0, x1 = 0.0\n",
      "y = 0.0, x1 = 0.0\n",
      "y = 0.0, x1 = 0.0\n",
      "y = 0.0, x1 = 0.0\n",
      "y = 0.0, x1 = 0.0\n",
      "y = 0.0, x1 = 0.0\n"
     ]
    }
   ],
   "source": [
    "\n",
    "import tensorflow as tf\n",
    "\n",
    "def fu(x1): \n",
    "    return x1 ** 2.0 \n",
    "def fu_minimzie():\n",
    "    return x1 ** 2.0 \n",
    "def reset():\n",
    "    x1 = tf.Variable(10.0) \n",
    "    return x1\n",
    "\n",
    "x1 = reset()\n",
    "opt = tf.keras.optimizers.SGD(learning_rate=0.1)\n",
    "for i in range(50):\n",
    "    print ('y = {:.1f}, x1 = {:.1f}'.format(fu(x1).numpy(), x1.numpy()))\n",
    "    opt.minimize(fu_minimzie, var_list=[x1])\n",
    "\n",
    "    \n",
    "\n"
   ]
  },
  {
   "cell_type": "code",
   "execution_count": null,
   "metadata": {},
   "outputs": [],
   "source": []
  }
 ],
 "metadata": {
  "kernelspec": {
   "display_name": "Python 3",
   "language": "python",
   "name": "python3"
  },
  "language_info": {
   "codemirror_mode": {
    "name": "ipython",
    "version": 3
   },
   "file_extension": ".py",
   "mimetype": "text/x-python",
   "name": "python",
   "nbconvert_exporter": "python",
   "pygments_lexer": "ipython3",
   "version": "3.7.4"
  }
 },
 "nbformat": 4,
 "nbformat_minor": 4
}

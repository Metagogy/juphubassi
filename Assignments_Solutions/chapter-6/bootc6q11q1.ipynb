{
 "cells": [
  {
   "cell_type": "markdown",
   "metadata": {},
   "source": "**Question :** Given a function fn = 200-(x1**2), find the global optima using tf.keras and Adagrad optimizer?"
  },
  {
   "cell_type": "markdown",
   "metadata": {},
   "source": "**Level:** Medium"
  },
  {
   "cell_type": "markdown",
   "metadata": {},
   "source": "**Input format :**\n\nfloat"
  },
  {
   "cell_type": "markdown",
   "metadata": {},
   "source": "**Output format :** \n\nfloat"
  },
  {
   "cell_type": "markdown",
   "metadata": {},
   "source": "**Sample input :**\n\nfunction fn = 200-(x1**2) , x1 = 8.0"
  },
  {
   "cell_type": "markdown",
   "metadata": {},
   "source": "**Sample output :**\n\ny = 136.0, x1 = 8.0\n\ny = 134.4, x1 = 8.1\n\ny = 133.2, x1 = 8.2"
  },
  {
   "cell_type": "code",
   "execution_count": 1,
   "metadata": {},
   "outputs": [
    {
     "name": "stdout",
     "output_type": "stream",
     "text": "y = 136.0, x1 = 8.0\ny = 134.4, x1 = 8.1\ny = 133.2, x1 = 8.2\ny = 132.3, x1 = 8.2\ny = 131.4, x1 = 8.3\ny = 130.7, x1 = 8.3\ny = 130.0, x1 = 8.4\ny = 129.3, x1 = 8.4\ny = 128.7, x1 = 8.4\ny = 128.2, x1 = 8.5\ny = 127.6, x1 = 8.5\ny = 127.1, x1 = 8.5\ny = 126.6, x1 = 8.6\ny = 126.1, x1 = 8.6\ny = 125.6, x1 = 8.6\ny = 125.2, x1 = 8.7\ny = 124.7, x1 = 8.7\ny = 124.3, x1 = 8.7\ny = 123.9, x1 = 8.7\ny = 123.4, x1 = 8.7\ny = 123.0, x1 = 8.8\ny = 122.6, x1 = 8.8\ny = 122.2, x1 = 8.8\ny = 121.9, x1 = 8.8\ny = 121.5, x1 = 8.9\ny = 121.1, x1 = 8.9\ny = 120.8, x1 = 8.9\ny = 120.4, x1 = 8.9\ny = 120.1, x1 = 8.9\ny = 119.7, x1 = 9.0\ny = 119.4, x1 = 9.0\ny = 119.0, x1 = 9.0\ny = 118.7, x1 = 9.0\ny = 118.4, x1 = 9.0\ny = 118.0, x1 = 9.1\ny = 117.7, x1 = 9.1\ny = 117.4, x1 = 9.1\ny = 117.1, x1 = 9.1\ny = 116.8, x1 = 9.1\ny = 116.5, x1 = 9.1\ny = 116.2, x1 = 9.2\ny = 115.9, x1 = 9.2\ny = 115.6, x1 = 9.2\ny = 115.3, x1 = 9.2\ny = 115.0, x1 = 9.2\ny = 114.7, x1 = 9.2\ny = 114.4, x1 = 9.3\ny = 114.1, x1 = 9.3\ny = 113.8, x1 = 9.3\ny = 113.6, x1 = 9.3\n"
    }
   ],
   "source": "\nimport tensorflow as tf\n\ndef fu(x1): \n    return 200-(x1**2)\ndef fu_minimzie():\n    return 200-(x1**2) \ndef reset():\n    x1 = tf.Variable(8.0) \n    return x1\n\nx1 = reset()\nopt = tf.keras.optimizers.Adagrad(learning_rate=0.1)\nfor i in range(50):\n    print ('y = {:.1f}, x1 = {:.1f}'.format(fu(x1).numpy(), x1.numpy()))\n    opt.minimize(fu_minimzie, var_list=[x1])\n\n    "
  },
  {
   "cell_type": "code",
   "execution_count": null,
   "metadata": {},
   "outputs": [],
   "source": ""
  }
 ],
 "metadata": {
  "kernelspec": {
   "display_name": "Python 3",
   "language": "python",
   "name": "python3"
  },
  "language_info": {
   "codemirror_mode": {
    "name": "ipython",
    "version": 2
   },
   "file_extension": ".py",
   "mimetype": "text/x-python",
   "name": "python",
   "nbconvert_exporter": "python",
   "pygments_lexer": "ipython2",
   "version": "2.7.15+"
  }
 },
 "nbformat": 4,
 "nbformat_minor": 4
}

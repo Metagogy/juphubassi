{
 "cells": [
  {
   "cell_type": "markdown",
   "metadata": {},
   "source": [
    "**Question :** Given a function func = 500-(x1**2), find the global optima using tf.keras and Adam optimizer?"
   ]
  },
  {
   "cell_type": "markdown",
   "metadata": {},
   "source": [
    "**Level :** Medium"
   ]
  },
  {
   "cell_type": "markdown",
   "metadata": {},
   "source": [
    "**Input format :**\n",
    "\n",
    "float"
   ]
  },
  {
   "cell_type": "markdown",
   "metadata": {},
   "source": [
    "**Output format :**\n",
    "\n",
    "float"
   ]
  },
  {
   "cell_type": "markdown",
   "metadata": {},
   "source": [
    "**Sample input :**\n",
    "\n",
    "function J = 500-(x1**2) , x1 = 8.0 "
   ]
  },
  {
   "cell_type": "markdown",
   "metadata": {},
   "source": [
    "**Sample output :**\n",
    "\n",
    "y = 436.0, x1 = 8.0\n",
    "\n",
    "y = 434.4, x1 = 8.1\n",
    "\n",
    "y = 432.8, x1 = 8.2"
   ]
  },
  {
   "cell_type": "code",
   "execution_count": 1,
   "metadata": {},
   "outputs": [
    {
     "name": "stdout",
     "output_type": "stream",
     "text": [
      "y = 436.0, x1 = 8.0\n",
      "y = 434.4, x1 = 8.1\n",
      "y = 432.8, x1 = 8.2\n",
      "y = 431.1, x1 = 8.3\n",
      "y = 429.4, x1 = 8.4\n",
      "y = 427.7, x1 = 8.5\n",
      "y = 426.0, x1 = 8.6\n",
      "y = 424.3, x1 = 8.7\n",
      "y = 422.5, x1 = 8.8\n",
      "y = 420.7, x1 = 8.9\n",
      "y = 418.9, x1 = 9.0\n",
      "y = 417.1, x1 = 9.1\n",
      "y = 415.2, x1 = 9.2\n",
      "y = 413.4, x1 = 9.3\n",
      "y = 411.5, x1 = 9.4\n",
      "y = 409.5, x1 = 9.5\n",
      "y = 407.6, x1 = 9.6\n",
      "y = 405.6, x1 = 9.7\n",
      "y = 403.6, x1 = 9.8\n",
      "y = 401.5, x1 = 9.9\n",
      "y = 399.5, x1 = 10.0\n",
      "y = 397.4, x1 = 10.1\n",
      "y = 395.3, x1 = 10.2\n",
      "y = 393.1, x1 = 10.3\n",
      "y = 391.0, x1 = 10.4\n",
      "y = 388.7, x1 = 10.5\n",
      "y = 386.5, x1 = 10.7\n",
      "y = 384.2, x1 = 10.8\n",
      "y = 382.0, x1 = 10.9\n",
      "y = 379.6, x1 = 11.0\n",
      "y = 377.3, x1 = 11.1\n",
      "y = 374.9, x1 = 11.2\n",
      "y = 372.5, x1 = 11.3\n",
      "y = 370.0, x1 = 11.4\n",
      "y = 367.5, x1 = 11.5\n",
      "y = 365.0, x1 = 11.6\n",
      "y = 362.5, x1 = 11.7\n",
      "y = 359.9, x1 = 11.8\n",
      "y = 357.3, x1 = 11.9\n",
      "y = 354.6, x1 = 12.1\n",
      "y = 351.9, x1 = 12.2\n",
      "y = 349.2, x1 = 12.3\n",
      "y = 346.5, x1 = 12.4\n",
      "y = 343.7, x1 = 12.5\n",
      "y = 340.9, x1 = 12.6\n",
      "y = 338.0, x1 = 12.7\n",
      "y = 335.1, x1 = 12.8\n",
      "y = 332.2, x1 = 13.0\n",
      "y = 329.3, x1 = 13.1\n",
      "y = 326.3, x1 = 13.2\n"
     ]
    }
   ],
   "source": [
    "import tensorflow as tf\n",
    "\n",
    "def fu(x1): \n",
    "    return 500-(x1**2)\n",
    "def fu_minimzie():\n",
    "    return 500-(x1**2) \n",
    "def reset():\n",
    "    x1 = tf.Variable(8.0) \n",
    "    return x1\n",
    "\n",
    "x1 = reset()\n",
    "opt = tf.keras.optimizers.Adam(learning_rate=0.1)\n",
    "for i in range(50):\n",
    "    print ('y = {:.1f}, x1 = {:.1f}'.format(fu(x1).numpy(), x1.numpy()))\n",
    "    opt.minimize(fu_minimzie, var_list=[x1])\n",
    "    \n",
    "    "
   ]
  },
  {
   "cell_type": "code",
   "execution_count": null,
   "metadata": {},
   "outputs": [],
   "source": []
  }
 ],
 "metadata": {
  "kernelspec": {
   "display_name": "Python 3",
   "language": "python",
   "name": "python3"
  },
  "language_info": {
   "codemirror_mode": {
    "name": "ipython",
    "version": 3
   },
   "file_extension": ".py",
   "mimetype": "text/x-python",
   "name": "python",
   "nbconvert_exporter": "python",
   "pygments_lexer": "ipython3",
   "version": "3.7.6"
  }
 },
 "nbformat": 4,
 "nbformat_minor": 4
}

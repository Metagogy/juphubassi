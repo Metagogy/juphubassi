{
 "cells": [
  {
   "cell_type": "markdown",
   "metadata": {},
   "source": [
    "**Question :** Given a function y = x**2, find the global optima using tf.keras and RMSprop optimizer?"
   ]
  },
  {
   "cell_type": "markdown",
   "metadata": {},
   "source": [
    "**Level:** Medium"
   ]
  },
  {
   "cell_type": "markdown",
   "metadata": {},
   "source": [
    "**Input format :**\n",
    "\n",
    "float"
   ]
  },
  {
   "cell_type": "markdown",
   "metadata": {},
   "source": [
    "**Output format :**\n",
    "\n",
    "float"
   ]
  },
  {
   "cell_type": "markdown",
   "metadata": {},
   "source": [
    "**Sample input :**\n",
    "\n",
    "tf.Variable(10. 0)"
   ]
  },
  {
   "cell_type": "markdown",
   "metadata": {},
   "source": [
    "**Sample output :**\n",
    "\n",
    "y = 100.0, x1 = 10.0\n",
    "\n",
    "y = 93.8, x1 = 9.7\n",
    "\n",
    "y = 89.5, x1 = 9.5"
   ]
  },
  {
   "cell_type": "code",
   "execution_count": 1,
   "metadata": {},
   "outputs": [
    {
     "name": "stdout",
     "output_type": "stream",
     "text": [
      "y = 100.0, x1 = 10.0\n",
      "y = 93.8, x1 = 9.7\n",
      "y = 89.5, x1 = 9.5\n",
      "y = 85.9, x1 = 9.3\n",
      "y = 82.9, x1 = 9.1\n",
      "y = 80.2, x1 = 9.0\n",
      "y = 77.7, x1 = 8.8\n",
      "y = 75.4, x1 = 8.7\n",
      "y = 73.2, x1 = 8.6\n",
      "y = 71.2, x1 = 8.4\n",
      "y = 69.2, x1 = 8.3\n",
      "y = 67.4, x1 = 8.2\n",
      "y = 65.6, x1 = 8.1\n",
      "y = 63.8, x1 = 8.0\n",
      "y = 62.2, x1 = 7.9\n",
      "y = 60.5, x1 = 7.8\n",
      "y = 58.9, x1 = 7.7\n",
      "y = 57.4, x1 = 7.6\n",
      "y = 55.9, x1 = 7.5\n",
      "y = 54.4, x1 = 7.4\n",
      "y = 53.0, x1 = 7.3\n",
      "y = 51.6, x1 = 7.2\n",
      "y = 50.3, x1 = 7.1\n",
      "y = 48.9, x1 = 7.0\n",
      "y = 47.6, x1 = 6.9\n",
      "y = 46.3, x1 = 6.8\n",
      "y = 45.1, x1 = 6.7\n",
      "y = 43.8, x1 = 6.6\n",
      "y = 42.6, x1 = 6.5\n",
      "y = 41.4, x1 = 6.4\n",
      "y = 40.3, x1 = 6.3\n",
      "y = 39.1, x1 = 6.3\n",
      "y = 38.0, x1 = 6.2\n",
      "y = 36.9, x1 = 6.1\n",
      "y = 35.8, x1 = 6.0\n",
      "y = 34.8, x1 = 5.9\n",
      "y = 33.7, x1 = 5.8\n",
      "y = 32.7, x1 = 5.7\n",
      "y = 31.7, x1 = 5.6\n",
      "y = 30.7, x1 = 5.5\n",
      "y = 29.8, x1 = 5.5\n",
      "y = 28.8, x1 = 5.4\n",
      "y = 27.9, x1 = 5.3\n",
      "y = 27.0, x1 = 5.2\n",
      "y = 26.1, x1 = 5.1\n",
      "y = 25.2, x1 = 5.0\n",
      "y = 24.3, x1 = 4.9\n",
      "y = 23.5, x1 = 4.8\n",
      "y = 22.7, x1 = 4.8\n",
      "y = 21.9, x1 = 4.7\n"
     ]
    }
   ],
   "source": [
    "import tensorflow as tf\n",
    "\n",
    "def fu(x1): \n",
    "    return x1 ** 2.0 \n",
    "def fu_minimzie():\n",
    "    return x1 ** 2.0 \n",
    "def reset():\n",
    "    x1 = tf.Variable(10.0) \n",
    "    return x1\n",
    "\n",
    "x1 = reset()\n",
    "opt = tf.keras.optimizers.RMSprop(learning_rate=0.1)\n",
    "for i in range(50):\n",
    "    print ('y = {:.1f}, x1 = {:.1f}'.format(fu(x1).numpy(), x1.numpy()))\n",
    "    opt.minimize(fu_minimzie, var_list=[x1])\n",
    "    \n",
    "    "
   ]
  },
  {
   "cell_type": "code",
   "execution_count": null,
   "metadata": {},
   "outputs": [],
   "source": []
  }
 ],
 "metadata": {
  "kernelspec": {
   "display_name": "Python 3",
   "language": "python",
   "name": "python3"
  },
  "language_info": {
   "codemirror_mode": {
    "name": "ipython",
    "version": 3
   },
   "file_extension": ".py",
   "mimetype": "text/x-python",
   "name": "python",
   "nbconvert_exporter": "python",
   "pygments_lexer": "ipython3",
   "version": "3.7.4"
  }
 },
 "nbformat": 4,
 "nbformat_minor": 4
}

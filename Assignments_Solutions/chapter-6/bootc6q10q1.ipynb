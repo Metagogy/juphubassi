{
 "cells": [
  {
   "cell_type": "markdown",
   "metadata": {},
   "source": [
    "**Question :** Given a function fn = 250-(x1**2), find the global optima using tf.keras and Adam optimizer? "
   ]
  },
  {
   "cell_type": "markdown",
   "metadata": {},
   "source": [
    "**Level :** Medium"
   ]
  },
  {
   "cell_type": "markdown",
   "metadata": {},
   "source": [
    "**Input format :**\n",
    "\n",
    "float"
   ]
  },
  {
   "cell_type": "markdown",
   "metadata": {},
   "source": [
    "**Output format :**\n",
    "\n",
    "float"
   ]
  },
  {
   "cell_type": "markdown",
   "metadata": {},
   "source": [
    "**Sample input :**\n",
    "\n",
    "function fn = 250-(x1**2) , x1 = 8.0"
   ]
  },
  {
   "cell_type": "markdown",
   "metadata": {},
   "source": [
    "**Sample output :**\n",
    "\n",
    "y = 186.0, x1 = 8.0\n",
    "\n",
    "y = 184.4, x1 = 8.1\n",
    "\n",
    "y = 182.8, x1 = 8.2"
   ]
  },
  {
   "cell_type": "code",
   "execution_count": 1,
   "metadata": {},
   "outputs": [
    {
     "name": "stdout",
     "output_type": "stream",
     "text": [
      "y = 186.0, x1 = 8.0\n",
      "y = 184.4, x1 = 8.1\n",
      "y = 182.8, x1 = 8.2\n",
      "y = 181.1, x1 = 8.3\n",
      "y = 179.4, x1 = 8.4\n",
      "y = 177.7, x1 = 8.5\n",
      "y = 176.0, x1 = 8.6\n",
      "y = 174.3, x1 = 8.7\n",
      "y = 172.5, x1 = 8.8\n",
      "y = 170.7, x1 = 8.9\n",
      "y = 168.9, x1 = 9.0\n",
      "y = 167.1, x1 = 9.1\n",
      "y = 165.2, x1 = 9.2\n",
      "y = 163.4, x1 = 9.3\n",
      "y = 161.5, x1 = 9.4\n",
      "y = 159.5, x1 = 9.5\n",
      "y = 157.6, x1 = 9.6\n",
      "y = 155.6, x1 = 9.7\n",
      "y = 153.6, x1 = 9.8\n",
      "y = 151.5, x1 = 9.9\n",
      "y = 149.5, x1 = 10.0\n",
      "y = 147.4, x1 = 10.1\n",
      "y = 145.3, x1 = 10.2\n",
      "y = 143.1, x1 = 10.3\n",
      "y = 141.0, x1 = 10.4\n",
      "y = 138.7, x1 = 10.5\n",
      "y = 136.5, x1 = 10.7\n",
      "y = 134.2, x1 = 10.8\n",
      "y = 132.0, x1 = 10.9\n",
      "y = 129.6, x1 = 11.0\n",
      "y = 127.3, x1 = 11.1\n",
      "y = 124.9, x1 = 11.2\n",
      "y = 122.5, x1 = 11.3\n",
      "y = 120.0, x1 = 11.4\n",
      "y = 117.5, x1 = 11.5\n",
      "y = 115.0, x1 = 11.6\n",
      "y = 112.5, x1 = 11.7\n",
      "y = 109.9, x1 = 11.8\n",
      "y = 107.3, x1 = 11.9\n",
      "y = 104.6, x1 = 12.1\n",
      "y = 101.9, x1 = 12.2\n",
      "y = 99.2, x1 = 12.3\n",
      "y = 96.5, x1 = 12.4\n",
      "y = 93.7, x1 = 12.5\n",
      "y = 90.9, x1 = 12.6\n",
      "y = 88.0, x1 = 12.7\n",
      "y = 85.1, x1 = 12.8\n",
      "y = 82.2, x1 = 13.0\n",
      "y = 79.3, x1 = 13.1\n",
      "y = 76.3, x1 = 13.2\n"
     ]
    }
   ],
   "source": [
    "\n",
    "import tensorflow as tf\n",
    "\n",
    "def fu(x1): \n",
    "    return 250-(x1**2)\n",
    "def fu_minimzie():\n",
    "    return 250-(x1**2) \n",
    "def reset():\n",
    "    x1 = tf.Variable(8.0) \n",
    "    return x1\n",
    "\n",
    "x1 = reset()\n",
    "opt = tf.keras.optimizers.Adam(learning_rate=0.1)\n",
    "for i in range(50):\n",
    "    print ('y = {:.1f}, x1 = {:.1f}'.format(fu(x1).numpy(), x1.numpy()))\n",
    "    opt.minimize(fu_minimzie, var_list=[x1])\n",
    "\n",
    "    "
   ]
  },
  {
   "cell_type": "code",
   "execution_count": null,
   "metadata": {},
   "outputs": [],
   "source": []
  }
 ],
 "metadata": {
  "kernelspec": {
   "display_name": "Python 3",
   "language": "python",
   "name": "python3"
  },
  "language_info": {
   "codemirror_mode": {
    "name": "ipython",
    "version": 3
   },
   "file_extension": ".py",
   "mimetype": "text/x-python",
   "name": "python",
   "nbconvert_exporter": "python",
   "pygments_lexer": "ipython3",
   "version": "3.7.6"
  }
 },
 "nbformat": 4,
 "nbformat_minor": 4
}

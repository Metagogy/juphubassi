{
 "cells": [
  {
   "cell_type": "markdown",
   "metadata": {},
   "source": "**Question :** Given a function y = x**2, find the global optima using tf.keras and Adagrad optimizer?"
  },
  {
   "cell_type": "markdown",
   "metadata": {},
   "source": "**Level:** Medium"
  },
  {
   "cell_type": "markdown",
   "metadata": {},
   "source": "**Input format :**\n\nfloat"
  },
  {
   "cell_type": "markdown",
   "metadata": {},
   "source": "**Output format :**\n\nfloat"
  },
  {
   "cell_type": "markdown",
   "metadata": {},
   "source": "**Sample input :**\n\ntf.Variable(10. 0)"
  },
  {
   "cell_type": "markdown",
   "metadata": {},
   "source": "**Sample output :**\n\ny = 100.0, x1 = 10.0\n\ny = 98.0, x1 = 9.9\n\ny = 96.6, x1 = 9.8"
  },
  {
   "cell_type": "code",
   "execution_count": 1,
   "metadata": {},
   "outputs": [
    {
     "name": "stdout",
     "output_type": "stream",
     "text": "y = 100.0, x1 = 10.0\ny = 98.0, x1 = 9.9\ny = 96.6, x1 = 9.8\ny = 95.5, x1 = 9.8\ny = 94.5, x1 = 9.7\ny = 93.7, x1 = 9.7\ny = 92.9, x1 = 9.6\ny = 92.2, x1 = 9.6\ny = 91.5, x1 = 9.6\ny = 90.9, x1 = 9.5\ny = 90.3, x1 = 9.5\ny = 89.7, x1 = 9.5\ny = 89.2, x1 = 9.4\ny = 88.7, x1 = 9.4\ny = 88.2, x1 = 9.4\ny = 87.7, x1 = 9.4\ny = 87.3, x1 = 9.3\ny = 86.8, x1 = 9.3\ny = 86.4, x1 = 9.3\ny = 86.0, x1 = 9.3\ny = 85.6, x1 = 9.3\ny = 85.2, x1 = 9.2\ny = 84.8, x1 = 9.2\ny = 84.5, x1 = 9.2\ny = 84.1, x1 = 9.2\ny = 83.7, x1 = 9.2\ny = 83.4, x1 = 9.1\ny = 83.1, x1 = 9.1\ny = 82.7, x1 = 9.1\ny = 82.4, x1 = 9.1\ny = 82.1, x1 = 9.1\ny = 81.8, x1 = 9.0\ny = 81.5, x1 = 9.0\ny = 81.2, x1 = 9.0\ny = 80.9, x1 = 9.0\ny = 80.6, x1 = 9.0\ny = 80.3, x1 = 9.0\ny = 80.0, x1 = 8.9\ny = 79.7, x1 = 8.9\ny = 79.4, x1 = 8.9\ny = 79.2, x1 = 8.9\ny = 78.9, x1 = 8.9\ny = 78.7, x1 = 8.9\ny = 78.4, x1 = 8.9\ny = 78.1, x1 = 8.8\ny = 77.9, x1 = 8.8\ny = 77.6, x1 = 8.8\ny = 77.4, x1 = 8.8\ny = 77.2, x1 = 8.8\ny = 76.9, x1 = 8.8\n"
    }
   ],
   "source": "\nimport tensorflow as tf\n\ndef fu(x1): \n    return x1 ** 2.0 \ndef fu_minimzie():\n    return x1 ** 2.0 \ndef reset():\n    x1 = tf.Variable(10.0) \n    return x1\n\nx1 = reset()\nopt = tf.keras.optimizers.Adagrad(learning_rate=0.1)\nfor i in range(50):\n    print ('y = {:.1f}, x1 = {:.1f}'.format(fu(x1).numpy(), x1.numpy()))\n    opt.minimize(fu_minimzie, var_list=[x1])\n\n    \n    "
  },
  {
   "cell_type": "code",
   "execution_count": null,
   "metadata": {},
   "outputs": [],
   "source": ""
  }
 ],
 "metadata": {
  "kernelspec": {
   "display_name": "Python 3",
   "language": "python",
   "name": "python3"
  },
  "language_info": {
   "codemirror_mode": {
    "name": "ipython",
    "version": 2
   },
   "file_extension": ".py",
   "mimetype": "text/x-python",
   "name": "python",
   "nbconvert_exporter": "python",
   "pygments_lexer": "ipython2",
   "version": "2.7.15+"
  }
 },
 "nbformat": 4,
 "nbformat_minor": 4
}

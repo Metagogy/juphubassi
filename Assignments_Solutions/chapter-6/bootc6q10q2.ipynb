{
 "cells": [
  {
   "cell_type": "markdown",
   "metadata": {},
   "source": [
    "**Question :** Given a function fn = 250-(x1**2), find the global optima using tf.keras and RMSprop optimizer? "
   ]
  },
  {
   "cell_type": "markdown",
   "metadata": {},
   "source": [
    "**Level:** Medium"
   ]
  },
  {
   "cell_type": "markdown",
   "metadata": {},
   "source": [
    "**Input format :**\n",
    "\n",
    "float"
   ]
  },
  {
   "cell_type": "markdown",
   "metadata": {},
   "source": [
    "**Output format :**\n",
    "\n",
    "float"
   ]
  },
  {
   "cell_type": "markdown",
   "metadata": {},
   "source": [
    "**Sample input :**\n",
    "\n",
    "function fn = 250-(x1**2) , x1 = 8.0"
   ]
  },
  {
   "cell_type": "markdown",
   "metadata": {},
   "source": [
    "**Sample output :**\n",
    "\n",
    "y = 186.0, x1 = 8.0\n",
    "\n",
    "y = 180.8, x1 = 8.3\n",
    "\n",
    "y = 176.9, x1 = 8.5"
   ]
  },
  {
   "cell_type": "code",
   "execution_count": 1,
   "metadata": {},
   "outputs": [
    {
     "name": "stdout",
     "output_type": "stream",
     "text": [
      "y = 186.0, x1 = 8.0\n",
      "y = 180.8, x1 = 8.3\n",
      "y = 176.9, x1 = 8.5\n",
      "y = 173.5, x1 = 8.7\n",
      "y = 170.4, x1 = 8.9\n",
      "y = 167.4, x1 = 9.1\n",
      "y = 164.6, x1 = 9.2\n",
      "y = 161.9, x1 = 9.4\n",
      "y = 159.3, x1 = 9.5\n",
      "y = 156.7, x1 = 9.7\n",
      "y = 154.1, x1 = 9.8\n",
      "y = 151.6, x1 = 9.9\n",
      "y = 149.1, x1 = 10.0\n",
      "y = 146.6, x1 = 10.2\n",
      "y = 144.1, x1 = 10.3\n",
      "y = 141.6, x1 = 10.4\n",
      "y = 139.1, x1 = 10.5\n",
      "y = 136.6, x1 = 10.6\n",
      "y = 134.1, x1 = 10.8\n",
      "y = 131.6, x1 = 10.9\n",
      "y = 129.1, x1 = 11.0\n",
      "y = 126.6, x1 = 11.1\n",
      "y = 124.1, x1 = 11.2\n",
      "y = 121.5, x1 = 11.3\n",
      "y = 119.0, x1 = 11.4\n",
      "y = 116.4, x1 = 11.6\n",
      "y = 113.8, x1 = 11.7\n",
      "y = 111.2, x1 = 11.8\n",
      "y = 108.6, x1 = 11.9\n",
      "y = 106.0, x1 = 12.0\n",
      "y = 103.3, x1 = 12.1\n",
      "y = 100.6, x1 = 12.2\n",
      "y = 97.9, x1 = 12.3\n",
      "y = 95.2, x1 = 12.4\n",
      "y = 92.5, x1 = 12.5\n",
      "y = 89.8, x1 = 12.7\n",
      "y = 87.0, x1 = 12.8\n",
      "y = 84.2, x1 = 12.9\n",
      "y = 81.4, x1 = 13.0\n",
      "y = 78.6, x1 = 13.1\n",
      "y = 75.8, x1 = 13.2\n",
      "y = 72.9, x1 = 13.3\n",
      "y = 70.0, x1 = 13.4\n",
      "y = 67.1, x1 = 13.5\n",
      "y = 64.2, x1 = 13.6\n",
      "y = 61.2, x1 = 13.7\n",
      "y = 58.3, x1 = 13.8\n",
      "y = 55.3, x1 = 14.0\n",
      "y = 52.3, x1 = 14.1\n",
      "y = 49.2, x1 = 14.2\n"
     ]
    }
   ],
   "source": [
    "\n",
    "import tensorflow as tf\n",
    "\n",
    "def fu(x1): \n",
    "    return 250-(x1**2)\n",
    "def fu_minimzie():\n",
    "    return 250-(x1**2) \n",
    "def reset():\n",
    "    x1 = tf.Variable(8.0) \n",
    "    return x1\n",
    "\n",
    "x1 = reset()\n",
    "opt = tf.keras.optimizers.RMSprop(learning_rate=0.1)\n",
    "for i in range(50):\n",
    "    print ('y = {:.1f}, x1 = {:.1f}'.format(fu(x1).numpy(), x1.numpy()))\n",
    "    opt.minimize(fu_minimzie, var_list=[x1])\n",
    "\n",
    "    \n",
    "    \n",
    "    "
   ]
  },
  {
   "cell_type": "code",
   "execution_count": null,
   "metadata": {},
   "outputs": [],
   "source": []
  }
 ],
 "metadata": {
  "kernelspec": {
   "display_name": "Python 3",
   "language": "python",
   "name": "python3"
  },
  "language_info": {
   "codemirror_mode": {
    "name": "ipython",
    "version": 3
   },
   "file_extension": ".py",
   "mimetype": "text/x-python",
   "name": "python",
   "nbconvert_exporter": "python",
   "pygments_lexer": "ipython3",
   "version": "3.7.6"
  }
 },
 "nbformat": 4,
 "nbformat_minor": 4
}

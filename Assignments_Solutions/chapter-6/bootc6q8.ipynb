{
 "cells": [
  {
   "cell_type": "markdown",
   "metadata": {},
   "source": "**Question :** Given a function func = 600-(x1**2), find the global optima using tf.keras and StochasticGradientDescent optimizer?"
  },
  {
   "cell_type": "markdown",
   "metadata": {},
   "source": "**Level :** Medium"
  },
  {
   "cell_type": "markdown",
   "metadata": {},
   "source": "**Input format :**\n\nfloat"
  },
  {
   "cell_type": "markdown",
   "metadata": {},
   "source": "**Output format :**\n\nfloat"
  },
  {
   "cell_type": "markdown",
   "metadata": {},
   "source": "**Sample input :**\n\nfunction fu = 600-(x1**2) , x1 = 10 "
  },
  {
   "cell_type": "markdown",
   "metadata": {},
   "source": "**Sample output :**\n\ny = 500.0, x1 = 10.0\n\ny = 456.0, x1 = 12.0\n\ny = 392.6, x1 = 14.4"
  },
  {
   "cell_type": "code",
   "execution_count": 1,
   "metadata": {},
   "outputs": [
    {
     "name": "stdout",
     "output_type": "stream",
     "text": "y = 500.0, x1 = 10.0\ny = 456.0, x1 = 12.0\ny = 392.6, x1 = 14.4\ny = 301.4, x1 = 17.3\ny = 170.0, x1 = 20.7\ny = -19.2, x1 = 24.9\ny = -291.6, x1 = 29.9\ny = -683.9, x1 = 35.8\ny = -1248.8, x1 = 43.0\ny = -2062.3, x1 = 51.6\ny = -3233.8, x1 = 61.9\ny = -4920.6, x1 = 74.3\ny = -7349.7, x1 = 89.2\ny = -10847.5, x1 = 107.0\ny = -15884.5, x1 = 128.4\ny = -23137.6, x1 = 154.1\ny = -33582.2, x1 = 184.9\ny = -48622.3, x1 = 221.9\ny = -70280.2, x1 = 266.2\ny = -101467.4, x1 = 319.5\ny = -146377.1, x1 = 383.4\ny = -211047.0, x1 = 460.1\ny = -304171.7, x1 = 552.1\ny = -438271.2, x1 = 662.5\ny = -631374.4, x1 = 795.0\ny = -909443.2, x1 = 954.0\ny = -1309862.4, x1 = 1144.8\ny = -1886465.6, x1 = 1373.7\ny = -2716774.2, x1 = 1648.4\ny = -3912419.0, x1 = 1978.1\ny = -5634147.0, x1 = 2373.8\ny = -8113435.5, x1 = 2848.5\ny = -11683611.0, x1 = 3418.2\ny = -16824662.0, x1 = 4101.9\ny = -24227776.0, x1 = 4922.2\ny = -34888264.0, x1 = 5906.7\ny = -50239364.0, x1 = 7088.0\ny = -72344960.0, x1 = 8505.6\ny = -104177008.0, x1 = 10206.7\ny = -150015168.0, x1 = 12248.1\ny = -216022080.0, x1 = 14697.7\ny = -311072064.0, x1 = 17637.3\ny = -447944064.0, x1 = 21164.7\ny = -645039744.0, x1 = 25397.6\ny = -928857536.0, x1 = 30477.2\ny = -1337555072.0, x1 = 36572.6\ny = -1926079744.0, x1 = 43887.1\ny = -2773555200.0, x1 = 52664.6\ny = -3993919488.0, x1 = 63197.5\ny = -5751244288.0, x1 = 75837.0\n"
    }
   ],
   "source": "import tensorflow as tf\n\ndef fu(x1): \n    return 600-(x1**2)\ndef fu_minimzie():\n    return 600-(x1**2) \ndef reset():\n    x1 = tf.Variable(10.0)\n    return x1\n\nx1 = reset()\nopt = tf.keras.optimizers.SGD(learning_rate=0.1)\nfor i in range(50):\n    print ('y = {:.1f}, x1 = {:.1f}'.format(fu(x1).numpy(), x1.numpy()))\n    opt.minimize(fu_minimzie, var_list=[x1])"
  },
  {
   "cell_type": "code",
   "execution_count": null,
   "metadata": {},
   "outputs": [],
   "source": ""
  }
 ],
 "metadata": {
  "kernelspec": {
   "display_name": "Python 3",
   "language": "python",
   "name": "python3"
  },
  "language_info": {
   "codemirror_mode": {
    "name": "ipython",
    "version": 2
   },
   "file_extension": ".py",
   "mimetype": "text/x-python",
   "name": "python",
   "nbconvert_exporter": "python",
   "pygments_lexer": "ipython2",
   "version": "2.7.15+"
  }
 },
 "nbformat": 4,
 "nbformat_minor": 4
}

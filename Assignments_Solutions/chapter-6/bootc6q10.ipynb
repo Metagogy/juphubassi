{
 "cells": [
  {
   "cell_type": "markdown",
   "metadata": {},
   "source": [
    "**Question :** Given a function fn = 250-(x1**2), find the global optima using tf.keras and Adadelta optimizer?"
   ]
  },
  {
   "cell_type": "markdown",
   "metadata": {},
   "source": [
    "**Level :** Medium"
   ]
  },
  {
   "cell_type": "markdown",
   "metadata": {},
   "source": [
    "**Input format :**\n",
    "\n",
    "float"
   ]
  },
  {
   "cell_type": "markdown",
   "metadata": {},
   "source": [
    "**Output format :**\n",
    "\n",
    "float"
   ]
  },
  {
   "cell_type": "markdown",
   "metadata": {},
   "source": [
    "**Sample input :**\n",
    "\n",
    "function fn = 250-(x1**2) , x1 = 8.0"
   ]
  },
  {
   "cell_type": "markdown",
   "metadata": {},
   "source": [
    "**Sample output :**\n",
    "\n",
    "y = 186.0, x1 = 8.0\n",
    "\n",
    "y = 186.0, x1 = 8.0"
   ]
  },
  {
   "cell_type": "code",
   "execution_count": 1,
   "metadata": {},
   "outputs": [
    {
     "name": "stdout",
     "output_type": "stream",
     "text": [
      "y = 186.0, x1 = 8.0\n",
      "y = 186.0, x1 = 8.0\n",
      "y = 186.0, x1 = 8.0\n",
      "y = 186.0, x1 = 8.0\n",
      "y = 186.0, x1 = 8.0\n",
      "y = 186.0, x1 = 8.0\n",
      "y = 186.0, x1 = 8.0\n",
      "y = 186.0, x1 = 8.0\n",
      "y = 186.0, x1 = 8.0\n",
      "y = 186.0, x1 = 8.0\n",
      "y = 186.0, x1 = 8.0\n",
      "y = 186.0, x1 = 8.0\n",
      "y = 186.0, x1 = 8.0\n",
      "y = 186.0, x1 = 8.0\n",
      "y = 186.0, x1 = 8.0\n",
      "y = 186.0, x1 = 8.0\n",
      "y = 186.0, x1 = 8.0\n",
      "y = 186.0, x1 = 8.0\n",
      "y = 186.0, x1 = 8.0\n",
      "y = 186.0, x1 = 8.0\n",
      "y = 186.0, x1 = 8.0\n",
      "y = 186.0, x1 = 8.0\n",
      "y = 185.9, x1 = 8.0\n",
      "y = 185.9, x1 = 8.0\n",
      "y = 185.9, x1 = 8.0\n",
      "y = 185.9, x1 = 8.0\n",
      "y = 185.9, x1 = 8.0\n",
      "y = 185.9, x1 = 8.0\n",
      "y = 185.9, x1 = 8.0\n",
      "y = 185.9, x1 = 8.0\n",
      "y = 185.9, x1 = 8.0\n",
      "y = 185.9, x1 = 8.0\n",
      "y = 185.9, x1 = 8.0\n",
      "y = 185.9, x1 = 8.0\n",
      "y = 185.9, x1 = 8.0\n",
      "y = 185.9, x1 = 8.0\n",
      "y = 185.9, x1 = 8.0\n",
      "y = 185.9, x1 = 8.0\n",
      "y = 185.9, x1 = 8.0\n",
      "y = 185.9, x1 = 8.0\n",
      "y = 185.9, x1 = 8.0\n",
      "y = 185.9, x1 = 8.0\n",
      "y = 185.9, x1 = 8.0\n",
      "y = 185.9, x1 = 8.0\n",
      "y = 185.9, x1 = 8.0\n",
      "y = 185.9, x1 = 8.0\n",
      "y = 185.9, x1 = 8.0\n",
      "y = 185.9, x1 = 8.0\n",
      "y = 185.9, x1 = 8.0\n",
      "y = 185.9, x1 = 8.0\n"
     ]
    }
   ],
   "source": [
    "\n",
    "import tensorflow as tf\n",
    "\n",
    "def fu(x1): \n",
    "    return 250-(x1**2)\n",
    "def fu_minimzie():\n",
    "    return 250-(x1**2) \n",
    "def reset():\n",
    "    x1 = tf.Variable(8.0) \n",
    "    return x1\n",
    "\n",
    "x1 = reset()\n",
    "opt = tf.keras.optimizers.Adadelta(learning_rate=0.1)\n",
    "for i in range(50):\n",
    "    print ('y = {:.1f}, x1 = {:.1f}'.format(fu(x1).numpy(), x1.numpy()))\n",
    "    opt.minimize(fu_minimzie, var_list=[x1])\n",
    "\n",
    "    \n",
    "    "
   ]
  },
  {
   "cell_type": "code",
   "execution_count": null,
   "metadata": {},
   "outputs": [],
   "source": []
  }
 ],
 "metadata": {
  "kernelspec": {
   "display_name": "Python 3",
   "language": "python",
   "name": "python3"
  },
  "language_info": {
   "codemirror_mode": {
    "name": "ipython",
    "version": 3
   },
   "file_extension": ".py",
   "mimetype": "text/x-python",
   "name": "python",
   "nbconvert_exporter": "python",
   "pygments_lexer": "ipython3",
   "version": "3.7.6"
  }
 },
 "nbformat": 4,
 "nbformat_minor": 4
}

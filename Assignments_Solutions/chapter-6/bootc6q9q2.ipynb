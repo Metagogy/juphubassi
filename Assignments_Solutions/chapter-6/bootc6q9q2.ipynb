{
 "cells": [
  {
   "cell_type": "markdown",
   "metadata": {},
   "source": "**Question :** Given a function fn = 100-(x1**2), find the global optima using tf.keras and RMSprop optimizer?"
  },
  {
   "cell_type": "markdown",
   "metadata": {},
   "source": "**Level :** Medium"
  },
  {
   "cell_type": "markdown",
   "metadata": {},
   "source": "**Input format :**\n\nfloat"
  },
  {
   "cell_type": "markdown",
   "metadata": {},
   "source": "**Output format :** \n\nfloat"
  },
  {
   "cell_type": "markdown",
   "metadata": {},
   "source": "**Sample input :**\n\nfunction fn = 100-(x1**2) , x1 = 4.0"
  },
  {
   "cell_type": "markdown",
   "metadata": {},
   "source": "**Sample output :**\n\ny = 84.0, x1 = 4.0\n\ny = 81.4, x1 = 4.3\n\ny = 79.3, x1 = 4.6"
  },
  {
   "cell_type": "code",
   "execution_count": 1,
   "metadata": {},
   "outputs": [
    {
     "name": "stdout",
     "output_type": "stream",
     "text": "y = 84.0, x1 = 4.0\ny = 81.4, x1 = 4.3\ny = 79.3, x1 = 4.6\ny = 77.4, x1 = 4.8\ny = 75.6, x1 = 4.9\ny = 73.9, x1 = 5.1\ny = 72.3, x1 = 5.3\ny = 70.6, x1 = 5.4\ny = 69.0, x1 = 5.6\ny = 67.4, x1 = 5.7\ny = 65.9, x1 = 5.8\ny = 64.3, x1 = 6.0\ny = 62.7, x1 = 6.1\ny = 61.1, x1 = 6.2\ny = 59.5, x1 = 6.4\ny = 57.9, x1 = 6.5\ny = 56.2, x1 = 6.6\ny = 54.6, x1 = 6.7\ny = 52.9, x1 = 6.9\ny = 51.2, x1 = 7.0\ny = 49.6, x1 = 7.1\ny = 47.8, x1 = 7.2\ny = 46.1, x1 = 7.3\ny = 44.4, x1 = 7.5\ny = 42.6, x1 = 7.6\ny = 40.8, x1 = 7.7\ny = 39.0, x1 = 7.8\ny = 37.2, x1 = 7.9\ny = 35.4, x1 = 8.0\ny = 33.5, x1 = 8.2\ny = 31.6, x1 = 8.3\ny = 29.7, x1 = 8.4\ny = 27.8, x1 = 8.5\ny = 25.9, x1 = 8.6\ny = 23.9, x1 = 8.7\ny = 21.9, x1 = 8.8\ny = 19.9, x1 = 8.9\ny = 17.9, x1 = 9.1\ny = 15.9, x1 = 9.2\ny = 13.8, x1 = 9.3\ny = 11.7, x1 = 9.4\ny = 9.6, x1 = 9.5\ny = 7.5, x1 = 9.6\ny = 5.3, x1 = 9.7\ny = 3.2, x1 = 9.8\ny = 1.0, x1 = 10.0\ny = -1.2, x1 = 10.1\ny = -3.5, x1 = 10.2\ny = -5.7, x1 = 10.3\ny = -8.0, x1 = 10.4\n"
    }
   ],
   "source": "\n\nimport tensorflow as tf\n\ndef fu(x1): \n    return 100-(x1**2)\ndef fu_minimzie():\n    return 100-(x1**2) \ndef reset():\n    x1 = tf.Variable(4.0) \n    return x1\n\nx1 = reset()\nopt = tf.keras.optimizers.RMSprop(learning_rate=0.1)\nfor i in range(50):\n    print ('y = {:.1f}, x1 = {:.1f}'.format(fu(x1).numpy(), x1.numpy()))\n    opt.minimize(fu_minimzie, var_list=[x1])\n\n    "
  },
  {
   "cell_type": "code",
   "execution_count": null,
   "metadata": {},
   "outputs": [],
   "source": ""
  }
 ],
 "metadata": {
  "kernelspec": {
   "display_name": "Python 3",
   "language": "python",
   "name": "python3"
  },
  "language_info": {
   "codemirror_mode": {
    "name": "ipython",
    "version": 2
   },
   "file_extension": ".py",
   "mimetype": "text/x-python",
   "name": "python",
   "nbconvert_exporter": "python",
   "pygments_lexer": "ipython2",
   "version": "2.7.15+"
  }
 },
 "nbformat": 4,
 "nbformat_minor": 4
}

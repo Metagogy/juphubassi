{
 "cells": [
  {
   "cell_type": "markdown",
   "metadata": {},
   "source": "**Question :** Given a function y = x**4, find the global optima using tf.keras and Adagrad optimizer?"
  },
  {
   "cell_type": "markdown",
   "metadata": {},
   "source": "**Level :** Medium"
  },
  {
   "cell_type": "markdown",
   "metadata": {},
   "source": "**Input format :**\n\nfloat"
  },
  {
   "cell_type": "markdown",
   "metadata": {},
   "source": "**Output format :**\n\nfloat"
  },
  {
   "cell_type": "markdown",
   "metadata": {},
   "source": "**Sample input :**\n\ntf.Variable(10. 0)"
  },
  {
   "cell_type": "markdown",
   "metadata": {},
   "source": "**Sample output :**\n\ny = 10000.0, x1 = 10.0\n\ny = 9606.0, x1 = 9.9\n\ny = 9338.5, x1 = 9.8"
  },
  {
   "cell_type": "code",
   "execution_count": 1,
   "metadata": {},
   "outputs": [
    {
     "name": "stdout",
     "output_type": "stream",
     "text": "y = 10000.0, x1 = 10.0\ny = 9606.0, x1 = 9.9\ny = 9338.5, x1 = 9.8\ny = 9126.3, x1 = 9.8\ny = 8946.7, x1 = 9.7\ny = 8789.3, x1 = 9.7\ny = 8648.1, x1 = 9.6\ny = 8519.6, x1 = 9.6\ny = 8401.1, x1 = 9.6\ny = 8291.0, x1 = 9.5\ny = 8187.9, x1 = 9.5\ny = 8090.8, x1 = 9.5\ny = 7999.0, x1 = 9.5\ny = 7911.9, x1 = 9.4\ny = 7828.8, x1 = 9.4\ny = 7749.4, x1 = 9.4\ny = 7673.3, x1 = 9.4\ny = 7600.2, x1 = 9.3\ny = 7529.8, x1 = 9.3\ny = 7462.0, x1 = 9.3\ny = 7396.5, x1 = 9.3\ny = 7333.2, x1 = 9.3\ny = 7271.9, x1 = 9.2\ny = 7212.4, x1 = 9.2\ny = 7154.6, x1 = 9.2\ny = 7098.5, x1 = 9.2\ny = 7043.9, x1 = 9.2\ny = 6990.8, x1 = 9.1\ny = 6939.0, x1 = 9.1\ny = 6888.5, x1 = 9.1\ny = 6839.2, x1 = 9.1\ny = 6791.1, x1 = 9.1\ny = 6744.1, x1 = 9.1\ny = 6698.1, x1 = 9.0\ny = 6653.1, x1 = 9.0\ny = 6609.1, x1 = 9.0\ny = 6566.0, x1 = 9.0\ny = 6523.8, x1 = 9.0\ny = 6482.3, x1 = 9.0\ny = 6441.7, x1 = 9.0\ny = 6401.9, x1 = 8.9\ny = 6362.8, x1 = 8.9\ny = 6324.4, x1 = 8.9\ny = 6286.7, x1 = 8.9\ny = 6249.7, x1 = 8.9\ny = 6213.3, x1 = 8.9\ny = 6177.5, x1 = 8.9\ny = 6142.3, x1 = 8.9\ny = 6107.7, x1 = 8.8\ny = 6073.6, x1 = 8.8\n"
    }
   ],
   "source": "\nimport tensorflow as tf\n\ndef fu(x1): \n    return x1 ** 4.0 \ndef fu_minimzie():\n    return x1 ** 4.0 \ndef reset():\n    x1 = tf.Variable(10.0) \n    return x1\n\nx1 = reset()\nopt = tf.keras.optimizers.Adagrad(learning_rate=0.1)\nfor i in range(50):\n    print ('y = {:.1f}, x1 = {:.1f}'.format(fu(x1).numpy(), x1.numpy()))\n    opt.minimize(fu_minimzie, var_list=[x1])\n\n    \n    \n    "
  },
  {
   "cell_type": "code",
   "execution_count": null,
   "metadata": {},
   "outputs": [],
   "source": ""
  },
  {
   "cell_type": "code",
   "execution_count": null,
   "metadata": {},
   "outputs": [],
   "source": ""
  }
 ],
 "metadata": {
  "kernelspec": {
   "display_name": "Python 3",
   "language": "python",
   "name": "python3"
  },
  "language_info": {
   "codemirror_mode": {
    "name": "ipython",
    "version": 2
   },
   "file_extension": ".py",
   "mimetype": "text/x-python",
   "name": "python",
   "nbconvert_exporter": "python",
   "pygments_lexer": "ipython2",
   "version": "2.7.15+"
  }
 },
 "nbformat": 4,
 "nbformat_minor": 4
}

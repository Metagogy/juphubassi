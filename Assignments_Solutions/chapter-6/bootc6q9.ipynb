{
 "cells": [
  {
   "cell_type": "markdown",
   "metadata": {},
   "source": "**Question :** Given a function fn = 100-(x1**2), find the global optima using tf.keras and Adam optimizer?"
  },
  {
   "cell_type": "markdown",
   "metadata": {},
   "source": "**Level :** Medium"
  },
  {
   "cell_type": "markdown",
   "metadata": {},
   "source": "**Input format :** \n\nfloat"
  },
  {
   "cell_type": "markdown",
   "metadata": {},
   "source": "**Output format :**\n\nfloat"
  },
  {
   "cell_type": "markdown",
   "metadata": {},
   "source": "**Sample input :**\n\nfunction fn = 100-(x1**2) , x1 = 4.0"
  },
  {
   "cell_type": "markdown",
   "metadata": {},
   "source": "**Sample output :**\n\ny = 84.0, x1 = 4.0\n\ny = 83.2, x1 = 4.1\n\ny = 82.4, x1 = 4.2"
  },
  {
   "cell_type": "code",
   "execution_count": 2,
   "metadata": {},
   "outputs": [
    {
     "name": "stdout",
     "output_type": "stream",
     "text": "y = 84.0, x1 = 4.0\ny = 83.2, x1 = 4.1\ny = 82.4, x1 = 4.2\ny = 81.5, x1 = 4.3\ny = 80.6, x1 = 4.4\ny = 79.7, x1 = 4.5\ny = 78.8, x1 = 4.6\ny = 77.9, x1 = 4.7\ny = 76.9, x1 = 4.8\ny = 75.9, x1 = 4.9\ny = 74.9, x1 = 5.0\ny = 73.9, x1 = 5.1\ny = 72.8, x1 = 5.2\ny = 71.8, x1 = 5.3\ny = 70.7, x1 = 5.4\ny = 69.5, x1 = 5.5\ny = 68.4, x1 = 5.6\ny = 67.2, x1 = 5.7\ny = 66.0, x1 = 5.8\ny = 64.7, x1 = 5.9\ny = 63.5, x1 = 6.0\ny = 62.2, x1 = 6.2\ny = 60.8, x1 = 6.3\ny = 59.5, x1 = 6.4\ny = 58.1, x1 = 6.5\ny = 56.7, x1 = 6.6\ny = 55.2, x1 = 6.7\ny = 53.7, x1 = 6.8\ny = 52.2, x1 = 6.9\ny = 50.7, x1 = 7.0\ny = 49.1, x1 = 7.1\ny = 47.5, x1 = 7.2\ny = 45.9, x1 = 7.4\ny = 44.2, x1 = 7.5\ny = 42.5, x1 = 7.6\ny = 40.7, x1 = 7.7\ny = 38.9, x1 = 7.8\ny = 37.1, x1 = 7.9\ny = 35.3, x1 = 8.0\ny = 33.4, x1 = 8.2\ny = 31.5, x1 = 8.3\ny = 29.5, x1 = 8.4\ny = 27.5, x1 = 8.5\ny = 25.4, x1 = 8.6\ny = 23.4, x1 = 8.8\ny = 21.3, x1 = 8.9\ny = 19.1, x1 = 9.0\ny = 16.9, x1 = 9.1\ny = 14.7, x1 = 9.2\ny = 12.4, x1 = 9.4\n"
    }
   ],
   "source": "\n\nimport tensorflow as tf\n\ndef fu(x1): \n    return 100-(x1**2)\ndef fu_minimzie():\n    return 100-(x1**2) \ndef reset():\n    x1 = tf.Variable(4.0) \n    return x1\n\nx1 = reset()\nopt = tf.keras.optimizers.Adam(learning_rate=0.1)\nfor i in range(50):\n    print ('y = {:.1f}, x1 = {:.1f}'.format(fu(x1).numpy(), x1.numpy()))\n    opt.minimize(fu_minimzie, var_list=[x1])\n"
  },
  {
   "cell_type": "code",
   "execution_count": null,
   "metadata": {},
   "outputs": [],
   "source": ""
  }
 ],
 "metadata": {
  "kernelspec": {
   "display_name": "Python 3",
   "language": "python",
   "name": "python3"
  },
  "language_info": {
   "codemirror_mode": {
    "name": "ipython",
    "version": 2
   },
   "file_extension": ".py",
   "mimetype": "text/x-python",
   "name": "python",
   "nbconvert_exporter": "python",
   "pygments_lexer": "ipython2",
   "version": "2.7.15+"
  }
 },
 "nbformat": 4,
 "nbformat_minor": 4
}

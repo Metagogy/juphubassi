{
 "cells": [
  {
   "cell_type": "markdown",
   "metadata": {},
   "source": [
    "**Question :** Given a function func = 500-(x1**2), find the global optima using tf.keras and RMSprop optimizer?"
   ]
  },
  {
   "cell_type": "markdown",
   "metadata": {},
   "source": [
    "**Level :** Medium"
   ]
  },
  {
   "cell_type": "markdown",
   "metadata": {},
   "source": [
    "**Input format :** \n",
    "\n",
    "float"
   ]
  },
  {
   "cell_type": "markdown",
   "metadata": {},
   "source": [
    "**Output format :** \n",
    "\n",
    "float"
   ]
  },
  {
   "cell_type": "markdown",
   "metadata": {},
   "source": [
    "**Sample input :** \n",
    "\n",
    "function J = 500-(x1**2) , x1 = 8.0 "
   ]
  },
  {
   "cell_type": "markdown",
   "metadata": {},
   "source": [
    "**Sample output :**\n",
    "\n",
    "y = 436.0, x1 = 8.0\n",
    "\n",
    "y = 430.8, x1 = 8.3\n",
    "\n",
    "y = 426.9, x1 = 8.5"
   ]
  },
  {
   "cell_type": "code",
   "execution_count": 1,
   "metadata": {},
   "outputs": [
    {
     "name": "stdout",
     "output_type": "stream",
     "text": [
      "y = 436.0, x1 = 8.0\n",
      "y = 430.8, x1 = 8.3\n",
      "y = 426.9, x1 = 8.5\n",
      "y = 423.5, x1 = 8.7\n",
      "y = 420.4, x1 = 8.9\n",
      "y = 417.4, x1 = 9.1\n",
      "y = 414.6, x1 = 9.2\n",
      "y = 411.9, x1 = 9.4\n",
      "y = 409.3, x1 = 9.5\n",
      "y = 406.7, x1 = 9.7\n",
      "y = 404.1, x1 = 9.8\n",
      "y = 401.6, x1 = 9.9\n",
      "y = 399.1, x1 = 10.0\n",
      "y = 396.6, x1 = 10.2\n",
      "y = 394.1, x1 = 10.3\n",
      "y = 391.6, x1 = 10.4\n",
      "y = 389.1, x1 = 10.5\n",
      "y = 386.6, x1 = 10.6\n",
      "y = 384.1, x1 = 10.8\n",
      "y = 381.6, x1 = 10.9\n",
      "y = 379.1, x1 = 11.0\n",
      "y = 376.6, x1 = 11.1\n",
      "y = 374.1, x1 = 11.2\n",
      "y = 371.5, x1 = 11.3\n",
      "y = 369.0, x1 = 11.4\n",
      "y = 366.4, x1 = 11.6\n",
      "y = 363.8, x1 = 11.7\n",
      "y = 361.2, x1 = 11.8\n",
      "y = 358.6, x1 = 11.9\n",
      "y = 356.0, x1 = 12.0\n",
      "y = 353.3, x1 = 12.1\n",
      "y = 350.6, x1 = 12.2\n",
      "y = 347.9, x1 = 12.3\n",
      "y = 345.2, x1 = 12.4\n",
      "y = 342.5, x1 = 12.5\n",
      "y = 339.8, x1 = 12.7\n",
      "y = 337.0, x1 = 12.8\n",
      "y = 334.2, x1 = 12.9\n",
      "y = 331.4, x1 = 13.0\n",
      "y = 328.6, x1 = 13.1\n",
      "y = 325.8, x1 = 13.2\n",
      "y = 322.9, x1 = 13.3\n",
      "y = 320.0, x1 = 13.4\n",
      "y = 317.1, x1 = 13.5\n",
      "y = 314.2, x1 = 13.6\n",
      "y = 311.2, x1 = 13.7\n",
      "y = 308.3, x1 = 13.8\n",
      "y = 305.3, x1 = 14.0\n",
      "y = 302.3, x1 = 14.1\n",
      "y = 299.2, x1 = 14.2\n"
     ]
    }
   ],
   "source": [
    "\n",
    "import tensorflow as tf\n",
    "\n",
    "def fu(x1): \n",
    "    return 500-(x1**2)\n",
    "def fu_minimzie():\n",
    "    return 500-(x1**2) \n",
    "def reset():\n",
    "    x1 = tf.Variable(8.0) \n",
    "    return x1\n",
    "\n",
    "x1 = reset()\n",
    "opt = tf.keras.optimizers.RMSprop(learning_rate=0.1)\n",
    "for i in range(50):\n",
    "    print ('y = {:.1f}, x1 = {:.1f}'.format(fu(x1).numpy(), x1.numpy()))\n",
    "    opt.minimize(fu_minimzie, var_list=[x1])\n"
   ]
  },
  {
   "cell_type": "code",
   "execution_count": null,
   "metadata": {},
   "outputs": [],
   "source": []
  }
 ],
 "metadata": {
  "kernelspec": {
   "display_name": "Python 3",
   "language": "python",
   "name": "python3"
  },
  "language_info": {
   "codemirror_mode": {
    "name": "ipython",
    "version": 3
   },
   "file_extension": ".py",
   "mimetype": "text/x-python",
   "name": "python",
   "nbconvert_exporter": "python",
   "pygments_lexer": "ipython3",
   "version": "3.7.6"
  }
 },
 "nbformat": 4,
 "nbformat_minor": 4
}

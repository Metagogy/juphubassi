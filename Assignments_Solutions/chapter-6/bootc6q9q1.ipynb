{
 "cells": [
  {
   "cell_type": "markdown",
   "metadata": {},
   "source": "**Question :** Given a function fn = 100-(x1**2), find the global optima using tf.keras and Adagrad optimizer?"
  },
  {
   "cell_type": "markdown",
   "metadata": {},
   "source": "**Level :** Medium"
  },
  {
   "cell_type": "markdown",
   "metadata": {},
   "source": "**Input format :**\n\nfloat"
  },
  {
   "cell_type": "markdown",
   "metadata": {},
   "source": "**Output format :**\n\nfloat"
  },
  {
   "cell_type": "markdown",
   "metadata": {},
   "source": "**Sample input :**\n\nfunction fn = 100-(x1**2) , x1 = 4.0"
  },
  {
   "cell_type": "markdown",
   "metadata": {},
   "source": "**Sample output :**\n\ny = 84.0, x1 = 4.0\n\ny = 83.2, x1 = 4.1\n\ny = 82.6, x1 = 4.2"
  },
  {
   "cell_type": "code",
   "execution_count": 1,
   "metadata": {},
   "outputs": [
    {
     "name": "stdout",
     "output_type": "stream",
     "text": "y = 84.0, x1 = 4.0\ny = 83.2, x1 = 4.1\ny = 82.6, x1 = 4.2\ny = 82.1, x1 = 4.2\ny = 81.7, x1 = 4.3\ny = 81.3, x1 = 4.3\ny = 80.9, x1 = 4.4\ny = 80.6, x1 = 4.4\ny = 80.2, x1 = 4.4\ny = 79.9, x1 = 4.5\ny = 79.6, x1 = 4.5\ny = 79.3, x1 = 4.5\ny = 79.1, x1 = 4.6\ny = 78.8, x1 = 4.6\ny = 78.5, x1 = 4.6\ny = 78.3, x1 = 4.7\ny = 78.0, x1 = 4.7\ny = 77.8, x1 = 4.7\ny = 77.6, x1 = 4.7\ny = 77.3, x1 = 4.8\ny = 77.1, x1 = 4.8\ny = 76.9, x1 = 4.8\ny = 76.7, x1 = 4.8\ny = 76.4, x1 = 4.9\ny = 76.2, x1 = 4.9\ny = 76.0, x1 = 4.9\ny = 75.8, x1 = 4.9\ny = 75.6, x1 = 4.9\ny = 75.4, x1 = 5.0\ny = 75.2, x1 = 5.0\ny = 75.0, x1 = 5.0\ny = 74.8, x1 = 5.0\ny = 74.6, x1 = 5.0\ny = 74.4, x1 = 5.1\ny = 74.2, x1 = 5.1\ny = 74.1, x1 = 5.1\ny = 73.9, x1 = 5.1\ny = 73.7, x1 = 5.1\ny = 73.5, x1 = 5.1\ny = 73.3, x1 = 5.2\ny = 73.1, x1 = 5.2\ny = 73.0, x1 = 5.2\ny = 72.8, x1 = 5.2\ny = 72.6, x1 = 5.2\ny = 72.4, x1 = 5.2\ny = 72.3, x1 = 5.3\ny = 72.1, x1 = 5.3\ny = 71.9, x1 = 5.3\ny = 71.8, x1 = 5.3\ny = 71.6, x1 = 5.3\n"
    }
   ],
   "source": "\nimport tensorflow as tf\n\ndef fu(x1): \n    return 100-(x1**2)\ndef fu_minimzie():\n    return 100-(x1**2) \ndef reset():\n    x1 = tf.Variable(4.0) \n    return x1\n\nx1 = reset()\nopt = tf.keras.optimizers.Adagrad(learning_rate=0.1)\nfor i in range(50):\n    print ('y = {:.1f}, x1 = {:.1f}'.format(fu(x1).numpy(), x1.numpy()))\n    opt.minimize(fu_minimzie, var_list=[x1])\n\n    "
  },
  {
   "cell_type": "code",
   "execution_count": null,
   "metadata": {},
   "outputs": [],
   "source": ""
  }
 ],
 "metadata": {
  "kernelspec": {
   "display_name": "Python 3",
   "language": "python",
   "name": "python3"
  },
  "language_info": {
   "codemirror_mode": {
    "name": "ipython",
    "version": 2
   },
   "file_extension": ".py",
   "mimetype": "text/x-python",
   "name": "python",
   "nbconvert_exporter": "python",
   "pygments_lexer": "ipython2",
   "version": "2.7.15+"
  }
 },
 "nbformat": 4,
 "nbformat_minor": 4
}

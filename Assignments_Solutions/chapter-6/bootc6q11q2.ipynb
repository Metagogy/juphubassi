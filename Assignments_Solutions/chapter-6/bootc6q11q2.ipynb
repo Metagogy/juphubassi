{
 "cells": [
  {
   "cell_type": "markdown",
   "metadata": {},
   "source": "**Question :** Given a function fn = 200-(x1**4), find the global optima using tf.keras and RMSprop optimizer?"
  },
  {
   "cell_type": "markdown",
   "metadata": {},
   "source": "**Level :** Medium"
  },
  {
   "cell_type": "markdown",
   "metadata": {},
   "source": "**Input format :**\n\nfloat"
  },
  {
   "cell_type": "markdown",
   "metadata": {},
   "source": "**Output format :**\n\nfloat"
  },
  {
   "cell_type": "markdown",
   "metadata": {},
   "source": "**Sample input :**\n\nfunction fn = 200-(x1**4) , x1 = 8.0"
  },
  {
   "cell_type": "markdown",
   "metadata": {},
   "source": "**Sample output :**\n\ny = -3896.0, x1 = 8.0\n\ny = -4583.1, x1 = 8.3\n\ny = -5163.6, x1 = 8.6"
  },
  {
   "cell_type": "code",
   "execution_count": 1,
   "metadata": {},
   "outputs": [
    {
     "name": "stdout",
     "output_type": "stream",
     "text": "y = -3896.0, x1 = 8.0\ny = -4583.1, x1 = 8.3\ny = -5163.6, x1 = 8.6\ny = -5705.9, x1 = 8.8\ny = -6232.8, x1 = 9.0\ny = -6755.2, x1 = 9.1\ny = -7279.3, x1 = 9.3\ny = -7809.3, x1 = 9.5\ny = -8348.0, x1 = 9.6\ny = -8897.5, x1 = 9.8\ny = -9459.6, x1 = 9.9\ny = -10035.7, x1 = 10.1\ny = -10626.9, x1 = 10.2\ny = -11234.2, x1 = 10.3\ny = -11858.7, x1 = 10.5\ny = -12501.0, x1 = 10.6\ny = -13162.1, x1 = 10.8\ny = -13842.5, x1 = 10.9\ny = -14542.9, x1 = 11.0\ny = -15264.0, x1 = 11.2\ny = -16006.4, x1 = 11.3\ny = -16770.6, x1 = 11.4\ny = -17557.2, x1 = 11.5\ny = -18366.8, x1 = 11.7\ny = -19199.9, x1 = 11.8\ny = -20057.0, x1 = 11.9\ny = -20938.6, x1 = 12.1\ny = -21845.3, x1 = 12.2\ny = -22777.5, x1 = 12.3\ny = -23735.8, x1 = 12.4\ny = -24720.6, x1 = 12.6\ny = -25732.4, x1 = 12.7\ny = -26771.7, x1 = 12.8\ny = -27839.0, x1 = 12.9\ny = -28934.8, x1 = 13.1\ny = -30059.5, x1 = 13.2\ny = -31213.7, x1 = 13.3\ny = -32397.8, x1 = 13.4\ny = -33612.3, x1 = 13.6\ny = -34857.8, x1 = 13.7\ny = -36134.6, x1 = 13.8\ny = -37443.2, x1 = 13.9\ny = -38784.2, x1 = 14.1\ny = -40158.1, x1 = 14.2\ny = -41565.2, x1 = 14.3\ny = -43006.2, x1 = 14.4\ny = -44481.5, x1 = 14.5\ny = -45991.6, x1 = 14.7\ny = -47537.0, x1 = 14.8\ny = -49118.2, x1 = 14.9\n"
    }
   ],
   "source": "\nimport tensorflow as tf\n\ndef fu(x1): \n    return 200-(x1**4)\ndef fu_minimzie():\n    return 200-(x1**4) \ndef reset():\n    x1 = tf.Variable(8.0) \n    return x1\n\nx1 = reset()\nopt = tf.keras.optimizers.RMSprop(learning_rate=0.1)\nfor i in range(50):\n    print ('y = {:.1f}, x1 = {:.1f}'.format(fu(x1).numpy(), x1.numpy()))\n    opt.minimize(fu_minimzie, var_list=[x1])\n\n    "
  },
  {
   "cell_type": "code",
   "execution_count": null,
   "metadata": {},
   "outputs": [],
   "source": ""
  }
 ],
 "metadata": {
  "kernelspec": {
   "display_name": "Python 3",
   "language": "python",
   "name": "python3"
  },
  "language_info": {
   "codemirror_mode": {
    "name": "ipython",
    "version": 2
   },
   "file_extension": ".py",
   "mimetype": "text/x-python",
   "name": "python",
   "nbconvert_exporter": "python",
   "pygments_lexer": "ipython2",
   "version": "2.7.15+"
  }
 },
 "nbformat": 4,
 "nbformat_minor": 4
}

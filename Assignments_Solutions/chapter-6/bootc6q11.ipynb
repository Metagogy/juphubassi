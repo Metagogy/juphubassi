{
 "cells": [
  {
   "cell_type": "markdown",
   "metadata": {},
   "source": "**Question :** Given a function fn = 100-(x1**2), find the global optima using tf.keras and Adagrad optimizer?"
  },
  {
   "cell_type": "markdown",
   "metadata": {},
   "source": "**Level:** Medium"
  },
  {
   "cell_type": "markdown",
   "metadata": {},
   "source": "**Input format :**\n\nfloat"
  },
  {
   "cell_type": "markdown",
   "metadata": {},
   "source": "**Output format :**\n\nfloat"
  },
  {
   "cell_type": "markdown",
   "metadata": {},
   "source": "**Sample input :**\n\nfunction fn = 100-(x1**2) , x1 = 8.0"
  },
  {
   "cell_type": "markdown",
   "metadata": {},
   "source": "**Sample output :**\n\ny = 36.0, x1 = 8.0\n\ny = 34.4, x1 = 8.1\n\ny = 33.2, x1 = 8.2"
  },
  {
   "cell_type": "code",
   "execution_count": 1,
   "metadata": {},
   "outputs": [
    {
     "name": "stdout",
     "output_type": "stream",
     "text": "y = 36.0, x1 = 8.0\ny = 34.4, x1 = 8.1\ny = 33.2, x1 = 8.2\ny = 32.3, x1 = 8.2\ny = 31.4, x1 = 8.3\ny = 30.7, x1 = 8.3\ny = 30.0, x1 = 8.4\ny = 29.3, x1 = 8.4\ny = 28.7, x1 = 8.4\ny = 28.2, x1 = 8.5\ny = 27.6, x1 = 8.5\ny = 27.1, x1 = 8.5\ny = 26.6, x1 = 8.6\ny = 26.1, x1 = 8.6\ny = 25.6, x1 = 8.6\ny = 25.2, x1 = 8.7\ny = 24.7, x1 = 8.7\ny = 24.3, x1 = 8.7\ny = 23.9, x1 = 8.7\ny = 23.4, x1 = 8.7\ny = 23.0, x1 = 8.8\ny = 22.6, x1 = 8.8\ny = 22.2, x1 = 8.8\ny = 21.9, x1 = 8.8\ny = 21.5, x1 = 8.9\ny = 21.1, x1 = 8.9\ny = 20.8, x1 = 8.9\ny = 20.4, x1 = 8.9\ny = 20.1, x1 = 8.9\ny = 19.7, x1 = 9.0\ny = 19.4, x1 = 9.0\ny = 19.0, x1 = 9.0\ny = 18.7, x1 = 9.0\ny = 18.4, x1 = 9.0\ny = 18.0, x1 = 9.1\ny = 17.7, x1 = 9.1\ny = 17.4, x1 = 9.1\ny = 17.1, x1 = 9.1\ny = 16.8, x1 = 9.1\ny = 16.5, x1 = 9.1\ny = 16.2, x1 = 9.2\ny = 15.9, x1 = 9.2\ny = 15.6, x1 = 9.2\ny = 15.3, x1 = 9.2\ny = 15.0, x1 = 9.2\ny = 14.7, x1 = 9.2\ny = 14.4, x1 = 9.3\ny = 14.1, x1 = 9.3\ny = 13.8, x1 = 9.3\ny = 13.6, x1 = 9.3\n"
    }
   ],
   "source": "\nimport tensorflow as tf\n\ndef fu(x1): \n    return 100-(x1**2)\ndef fu_minimzie():\n    return 100-(x1**2) \ndef reset():\n    x1 = tf.Variable(8.0) \n    return x1\n\nx1 = reset()\nopt = tf.keras.optimizers.Adagrad(learning_rate=0.1)\nfor i in range(50):\n    print ('y = {:.1f}, x1 = {:.1f}'.format(fu(x1).numpy(), x1.numpy()))\n    opt.minimize(fu_minimzie, var_list=[x1])\n"
  },
  {
   "cell_type": "code",
   "execution_count": null,
   "metadata": {},
   "outputs": [],
   "source": ""
  }
 ],
 "metadata": {
  "kernelspec": {
   "display_name": "Python 3",
   "language": "python",
   "name": "python3"
  },
  "language_info": {
   "codemirror_mode": {
    "name": "ipython",
    "version": 2
   },
   "file_extension": ".py",
   "mimetype": "text/x-python",
   "name": "python",
   "nbconvert_exporter": "python",
   "pygments_lexer": "ipython2",
   "version": "2.7.15+"
  }
 },
 "nbformat": 4,
 "nbformat_minor": 4
}

{
 "cells": [
  {
   "cell_type": "markdown",
   "metadata": {},
   "source": [
    "**Question :** Given a function func = 500-(x1**2), find the global optima using tf.keras and Adagrad optimizer?"
   ]
  },
  {
   "cell_type": "markdown",
   "metadata": {},
   "source": [
    "**Level :** Medium"
   ]
  },
  {
   "cell_type": "markdown",
   "metadata": {},
   "source": [
    "**Input format :**\n",
    "\n",
    "float"
   ]
  },
  {
   "cell_type": "markdown",
   "metadata": {},
   "source": [
    "**Output format :**\n",
    "\n",
    "float"
   ]
  },
  {
   "cell_type": "markdown",
   "metadata": {},
   "source": [
    "**Sample input :**\n",
    "\n",
    "function J = 500-(x1**2) , x1 = 8.0 "
   ]
  },
  {
   "cell_type": "markdown",
   "metadata": {},
   "source": [
    "**Sample output :**\n",
    "\n",
    "y = 436.0, x1 = 8.0\n",
    "\n",
    "y = 434.4, x1 = 8.1\n",
    "\n",
    "y = 433.2, x1 = 8.2"
   ]
  },
  {
   "cell_type": "code",
   "execution_count": 1,
   "metadata": {},
   "outputs": [
    {
     "name": "stdout",
     "output_type": "stream",
     "text": [
      "y = 436.0, x1 = 8.0\n",
      "y = 434.4, x1 = 8.1\n",
      "y = 433.2, x1 = 8.2\n",
      "y = 432.3, x1 = 8.2\n",
      "y = 431.4, x1 = 8.3\n",
      "y = 430.7, x1 = 8.3\n",
      "y = 430.0, x1 = 8.4\n",
      "y = 429.3, x1 = 8.4\n",
      "y = 428.7, x1 = 8.4\n",
      "y = 428.2, x1 = 8.5\n",
      "y = 427.6, x1 = 8.5\n",
      "y = 427.1, x1 = 8.5\n",
      "y = 426.6, x1 = 8.6\n",
      "y = 426.1, x1 = 8.6\n",
      "y = 425.6, x1 = 8.6\n",
      "y = 425.2, x1 = 8.7\n",
      "y = 424.7, x1 = 8.7\n",
      "y = 424.3, x1 = 8.7\n",
      "y = 423.9, x1 = 8.7\n",
      "y = 423.4, x1 = 8.7\n",
      "y = 423.0, x1 = 8.8\n",
      "y = 422.6, x1 = 8.8\n",
      "y = 422.2, x1 = 8.8\n",
      "y = 421.9, x1 = 8.8\n",
      "y = 421.5, x1 = 8.9\n",
      "y = 421.1, x1 = 8.9\n",
      "y = 420.8, x1 = 8.9\n",
      "y = 420.4, x1 = 8.9\n",
      "y = 420.1, x1 = 8.9\n",
      "y = 419.7, x1 = 9.0\n",
      "y = 419.4, x1 = 9.0\n",
      "y = 419.0, x1 = 9.0\n",
      "y = 418.7, x1 = 9.0\n",
      "y = 418.4, x1 = 9.0\n",
      "y = 418.0, x1 = 9.1\n",
      "y = 417.7, x1 = 9.1\n",
      "y = 417.4, x1 = 9.1\n",
      "y = 417.1, x1 = 9.1\n",
      "y = 416.8, x1 = 9.1\n",
      "y = 416.5, x1 = 9.1\n",
      "y = 416.2, x1 = 9.2\n",
      "y = 415.9, x1 = 9.2\n",
      "y = 415.6, x1 = 9.2\n",
      "y = 415.3, x1 = 9.2\n",
      "y = 415.0, x1 = 9.2\n",
      "y = 414.7, x1 = 9.2\n",
      "y = 414.4, x1 = 9.3\n",
      "y = 414.1, x1 = 9.3\n",
      "y = 413.8, x1 = 9.3\n",
      "y = 413.6, x1 = 9.3\n"
     ]
    }
   ],
   "source": [
    "\n",
    "import tensorflow as tf\n",
    "\n",
    "def fu(x1): \n",
    "    return 500-(x1**2)\n",
    "def fu_minimzie():\n",
    "    return 500-(x1**2) \n",
    "def reset():\n",
    "    x1 = tf.Variable(8.0) \n",
    "    return x1\n",
    "\n",
    "x1 = reset()\n",
    "opt = tf.keras.optimizers.Adagrad(learning_rate=0.1)\n",
    "for i in range(50):\n",
    "    print ('y = {:.1f}, x1 = {:.1f}'.format(fu(x1).numpy(), x1.numpy()))\n",
    "    opt.minimize(fu_minimzie, var_list=[x1])\n",
    "\n",
    "\n",
    "    \n",
    "    "
   ]
  },
  {
   "cell_type": "code",
   "execution_count": null,
   "metadata": {},
   "outputs": [],
   "source": []
  }
 ],
 "metadata": {
  "kernelspec": {
   "display_name": "Python 3",
   "language": "python",
   "name": "python3"
  },
  "language_info": {
   "codemirror_mode": {
    "name": "ipython",
    "version": 3
   },
   "file_extension": ".py",
   "mimetype": "text/x-python",
   "name": "python",
   "nbconvert_exporter": "python",
   "pygments_lexer": "ipython3",
   "version": "3.7.6"
  }
 },
 "nbformat": 4,
 "nbformat_minor": 4
}

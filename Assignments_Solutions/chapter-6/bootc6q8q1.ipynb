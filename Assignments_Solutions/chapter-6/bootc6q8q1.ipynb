{
 "cells": [
  {
   "cell_type": "markdown",
   "metadata": {},
   "source": "**Question :** Given a function func = 600-(x1**2), find the global optima using tf.keras and Adagrad optimizer?"
  },
  {
   "cell_type": "markdown",
   "metadata": {},
   "source": "**Level:** Medium"
  },
  {
   "cell_type": "markdown",
   "metadata": {},
   "source": "**Input format :**\n\nfloat"
  },
  {
   "cell_type": "markdown",
   "metadata": {},
   "source": "**Output format :**\n\nfloat"
  },
  {
   "cell_type": "markdown",
   "metadata": {},
   "source": "**Sample input :**\n\nfunction fu = 600-(x1**2) , x1 = 10 "
  },
  {
   "cell_type": "markdown",
   "metadata": {},
   "source": "**Sample output :**\n\ny = 500.0, x1 = 10.0\n\ny = 498.0, x1 = 10.1\n\ny = 496.5, x1 = 10.2"
  },
  {
   "cell_type": "code",
   "execution_count": 1,
   "metadata": {},
   "outputs": [
    {
     "name": "stdout",
     "output_type": "stream",
     "text": "y = 500.0, x1 = 10.0\ny = 498.0, x1 = 10.1\ny = 496.5, x1 = 10.2\ny = 495.4, x1 = 10.2\ny = 494.3, x1 = 10.3\ny = 493.4, x1 = 10.3\ny = 492.5, x1 = 10.4\ny = 491.7, x1 = 10.4\ny = 491.0, x1 = 10.4\ny = 490.3, x1 = 10.5\ny = 489.6, x1 = 10.5\ny = 489.0, x1 = 10.5\ny = 488.3, x1 = 10.6\ny = 487.7, x1 = 10.6\ny = 487.2, x1 = 10.6\ny = 486.6, x1 = 10.6\ny = 486.0, x1 = 10.7\ny = 485.5, x1 = 10.7\ny = 485.0, x1 = 10.7\ny = 484.5, x1 = 10.7\ny = 484.0, x1 = 10.8\ny = 483.5, x1 = 10.8\ny = 483.0, x1 = 10.8\ny = 482.6, x1 = 10.8\ny = 482.1, x1 = 10.9\ny = 481.7, x1 = 10.9\ny = 481.2, x1 = 10.9\ny = 480.8, x1 = 10.9\ny = 480.4, x1 = 10.9\ny = 480.0, x1 = 11.0\ny = 479.5, x1 = 11.0\ny = 479.1, x1 = 11.0\ny = 478.7, x1 = 11.0\ny = 478.3, x1 = 11.0\ny = 477.9, x1 = 11.0\ny = 477.5, x1 = 11.1\ny = 477.2, x1 = 11.1\ny = 476.8, x1 = 11.1\ny = 476.4, x1 = 11.1\ny = 476.0, x1 = 11.1\ny = 475.7, x1 = 11.2\ny = 475.3, x1 = 11.2\ny = 475.0, x1 = 11.2\ny = 474.6, x1 = 11.2\ny = 474.2, x1 = 11.2\ny = 473.9, x1 = 11.2\ny = 473.6, x1 = 11.2\ny = 473.2, x1 = 11.3\ny = 472.9, x1 = 11.3\ny = 472.5, x1 = 11.3\n"
    }
   ],
   "source": "import tensorflow as tf\n\ndef fu(x1): \n    return 600-(x1**2)\ndef fu_minimzie():\n    return 600-(x1**2) \ndef reset():\n    x1 = tf.Variable(10.0)\n    return x1\n\nx1 = reset()\nopt = tf.keras.optimizers.Adagrad(learning_rate=0.1)\nfor i in range(50):\n    print ('y = {:.1f}, x1 = {:.1f}'.format(fu(x1).numpy(), x1.numpy()))\n    opt.minimize(fu_minimzie, var_list=[x1])\n    "
  },
  {
   "cell_type": "code",
   "execution_count": null,
   "metadata": {},
   "outputs": [],
   "source": ""
  },
  {
   "cell_type": "code",
   "execution_count": null,
   "metadata": {},
   "outputs": [],
   "source": ""
  }
 ],
 "metadata": {
  "kernelspec": {
   "display_name": "Python 3",
   "language": "python",
   "name": "python3"
  },
  "language_info": {
   "codemirror_mode": {
    "name": "ipython",
    "version": 2
   },
   "file_extension": ".py",
   "mimetype": "text/x-python",
   "name": "python",
   "nbconvert_exporter": "python",
   "pygments_lexer": "ipython2",
   "version": "2.7.15+"
  }
 },
 "nbformat": 4,
 "nbformat_minor": 4
}

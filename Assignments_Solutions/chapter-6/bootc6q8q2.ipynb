{
 "cells": [
  {
   "cell_type": "markdown",
   "metadata": {},
   "source": "**Question :** Given a function func = 600-(x1**2), find the global optima using tf.keras and Adam optimizer?"
  },
  {
   "cell_type": "markdown",
   "metadata": {},
   "source": "**Level :** Medium"
  },
  {
   "cell_type": "markdown",
   "metadata": {},
   "source": "**Input format :** \n\nfloat"
  },
  {
   "cell_type": "markdown",
   "metadata": {},
   "source": "**Output format :** \n\nfloat"
  },
  {
   "cell_type": "markdown",
   "metadata": {},
   "source": "**Sample input :**\n\nfunction fu = 600-(x1**2) , x1 = 10 "
  },
  {
   "cell_type": "markdown",
   "metadata": {},
   "source": "**Sample output :**\n\ny = 500.0, x1 = 10.0\n\ny = 498.0, x1 = 10.1\n\ny = 496.0, x1 = 10.2"
  },
  {
   "cell_type": "code",
   "execution_count": 1,
   "metadata": {},
   "outputs": [
    {
     "name": "stdout",
     "output_type": "stream",
     "text": "y = 500.0, x1 = 10.0\ny = 498.0, x1 = 10.1\ny = 496.0, x1 = 10.2\ny = 493.9, x1 = 10.3\ny = 491.8, x1 = 10.4\ny = 489.7, x1 = 10.5\ny = 487.6, x1 = 10.6\ny = 485.5, x1 = 10.7\ny = 483.3, x1 = 10.8\ny = 481.1, x1 = 10.9\ny = 478.9, x1 = 11.0\ny = 476.7, x1 = 11.1\ny = 474.4, x1 = 11.2\ny = 472.2, x1 = 11.3\ny = 469.9, x1 = 11.4\ny = 467.5, x1 = 11.5\ny = 465.2, x1 = 11.6\ny = 462.8, x1 = 11.7\ny = 460.4, x1 = 11.8\ny = 458.0, x1 = 11.9\ny = 455.5, x1 = 12.0\ny = 453.0, x1 = 12.1\ny = 450.5, x1 = 12.2\ny = 447.9, x1 = 12.3\ny = 445.4, x1 = 12.4\ny = 442.8, x1 = 12.5\ny = 440.1, x1 = 12.6\ny = 437.5, x1 = 12.7\ny = 434.8, x1 = 12.9\ny = 432.1, x1 = 13.0\ny = 429.3, x1 = 13.1\ny = 426.5, x1 = 13.2\ny = 423.7, x1 = 13.3\ny = 420.9, x1 = 13.4\ny = 418.0, x1 = 13.5\ny = 415.1, x1 = 13.6\ny = 412.2, x1 = 13.7\ny = 409.2, x1 = 13.8\ny = 406.2, x1 = 13.9\ny = 403.1, x1 = 14.0\ny = 400.1, x1 = 14.1\ny = 397.0, x1 = 14.2\ny = 393.8, x1 = 14.4\ny = 390.7, x1 = 14.5\ny = 387.5, x1 = 14.6\ny = 384.2, x1 = 14.7\ny = 381.0, x1 = 14.8\ny = 377.6, x1 = 14.9\ny = 374.3, x1 = 15.0\ny = 370.9, x1 = 15.1\n"
    }
   ],
   "source": "\nimport tensorflow as tf\n\ndef fu(x1): \n    return 600-(x1**2)\ndef fu_minimzie():\n    return 600-(x1**2) \ndef reset():\n    x1 = tf.Variable(10.0)\n    return x1\n\nx1 = reset()\nopt = tf.keras.optimizers.Adam(learning_rate=0.1)\nfor i in range(50):\n    print ('y = {:.1f}, x1 = {:.1f}'.format(fu(x1).numpy(), x1.numpy()))\n    opt.minimize(fu_minimzie, var_list=[x1])\n\n    \n    "
  },
  {
   "cell_type": "code",
   "execution_count": null,
   "metadata": {},
   "outputs": [],
   "source": ""
  }
 ],
 "metadata": {
  "kernelspec": {
   "display_name": "Python 3",
   "language": "python",
   "name": "python3"
  },
  "language_info": {
   "codemirror_mode": {
    "name": "ipython",
    "version": 2
   },
   "file_extension": ".py",
   "mimetype": "text/x-python",
   "name": "python",
   "nbconvert_exporter": "python",
   "pygments_lexer": "ipython2",
   "version": "2.7.15+"
  }
 },
 "nbformat": 4,
 "nbformat_minor": 4
}

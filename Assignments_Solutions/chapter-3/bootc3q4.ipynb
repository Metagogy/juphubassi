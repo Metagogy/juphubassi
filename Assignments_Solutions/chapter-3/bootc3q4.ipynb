{
 "cells": [
  {
   "cell_type": "markdown",
   "metadata": {},
   "source": [
    "**Question** : Write a program to demonstrate all the possible ways any particular string can be permuted.\n"
   ]
  },
  {
   "cell_type": "markdown",
   "metadata": {},
   "source": [
    "**Level** : Hard\n"
   ]
  },
  {
   "cell_type": "markdown",
   "metadata": {},
   "source": [
    "**Input Format**: Any string\n"
   ]
  },
  {
   "cell_type": "markdown",
   "metadata": {},
   "source": [
    "**Output Format** : All the permutations of the given string should be displayed"
   ]
  },
  {
   "cell_type": "markdown",
   "metadata": {},
   "source": [
    "**Sample Input**  : abc"
   ]
  },
  {
   "cell_type": "markdown",
   "metadata": {},
   "source": [
    "**Sample Output**  :\n",
    "    \n",
    "Initial string abc\n",
    "\n",
    "Resultant permutations ['abc', 'acb', 'bac', 'bca', 'cba', 'cab']\n"
   ]
  },
  {
   "cell_type": "code",
   "execution_count": 1,
   "metadata": {},
   "outputs": [
    {
     "name": "stdin",
     "output_type": "stream",
     "text": [
      " abc\n"
     ]
    },
    {
     "name": "stdout",
     "output_type": "stream",
     "text": [
      "Initial string abc\n",
      "Resultant permutations ['abc', 'acb', 'bac', 'bca', 'cba', 'cab']\n"
     ]
    }
   ],
   "source": [
    "ini_str = input()\n",
    " \n",
    "print(\"Initial string\", ini_str)\n",
    "result = []\n",
    "def permute(data, i, length):\n",
    "    if i == length:\n",
    "        result.append(''.join(data) )\n",
    "    else:\n",
    "        for j in range(i, length):\n",
    "            data[i], data[j] = data[j], data[i]\n",
    "            permute(data, i + 1, length)\n",
    "            data[i], data[j] = data[j], data[i] \n",
    "permute(list(ini_str), 0, len(ini_str))\n",
    "print(\"Resultant permutations\", str(result))"
   ]
  },
  {
   "cell_type": "code",
   "execution_count": null,
   "metadata": {},
   "outputs": [],
   "source": []
  }
 ],
 "metadata": {
  "kernelspec": {
   "display_name": "Python 3",
   "language": "python",
   "name": "python3"
  },
  "language_info": {
   "codemirror_mode": {
    "name": "ipython",
    "version": 3
   },
   "file_extension": ".py",
   "mimetype": "text/x-python",
   "name": "python",
   "nbconvert_exporter": "python",
   "pygments_lexer": "ipython3",
   "version": "3.7.4"
  }
 },
 "nbformat": 4,
 "nbformat_minor": 4
}

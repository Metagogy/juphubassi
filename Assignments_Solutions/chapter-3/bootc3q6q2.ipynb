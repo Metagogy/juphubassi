{
 "cells": [
  {
   "cell_type": "markdown",
   "metadata": {},
   "source": [
    "**Question :** Write a python function that returns a string with the first letter capitalized and all other characters lowercase."
   ]
  },
  {
   "cell_type": "markdown",
   "metadata": {},
   "source": [
    "**Level:** Easy"
   ]
  },
  {
   "cell_type": "markdown",
   "metadata": {},
   "source": [
    "**Input Format:**  \n",
    "\n",
    "function that returns a string with the first letter capitalized and all other characters lowercase. It doesn't modify the original string."
   ]
  },
  {
   "cell_type": "markdown",
   "metadata": {},
   "source": [
    "**Output Format:** \n",
    "\n",
    "The corresponding output be displayed."
   ]
  },
  {
   "cell_type": "markdown",
   "metadata": {},
   "source": [
    "**Sample Input :** \n",
    "\n",
    "string = \"heLLo metagogy.\""
   ]
  },
  {
   "cell_type": "markdown",
   "metadata": {},
   "source": [
    "**Sample Output :**\n",
    "\n",
    "('Old String: ', 'heLLo metagogy.')\n",
    "\n",
    "('Capitalized String:', 'Hello metagogy.')"
   ]
  },
  {
   "cell_type": "code",
   "execution_count": 1,
   "metadata": {},
   "outputs": [
    {
     "name": "stdout",
     "output_type": "stream",
     "text": [
      "Old String:  heLLo metagogy.\n",
      "Capitalized String: Hello metagogy.\n"
     ]
    }
   ],
   "source": [
    "string = \"heLLo metagogy.\"\n",
    "\n",
    "capitalized_string = string.capitalize()\n",
    "\n",
    "print('Old String: ', string)\n",
    "print('Capitalized String:', capitalized_string)"
   ]
  },
  {
   "cell_type": "code",
   "execution_count": null,
   "metadata": {},
   "outputs": [],
   "source": []
  }
 ],
 "metadata": {
  "kernelspec": {
   "display_name": "Python 3",
   "language": "python",
   "name": "python3"
  },
  "language_info": {
   "codemirror_mode": {
    "name": "ipython",
    "version": 3
   },
   "file_extension": ".py",
   "mimetype": "text/x-python",
   "name": "python",
   "nbconvert_exporter": "python",
   "pygments_lexer": "ipython3",
   "version": "3.7.4"
  }
 },
 "nbformat": 4,
 "nbformat_minor": 4
}

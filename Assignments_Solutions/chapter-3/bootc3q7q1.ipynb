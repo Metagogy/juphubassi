{
 "cells": [
  {
   "cell_type": "markdown",
   "metadata": {},
   "source": [
    "**Question :**  Write a program to check if two strings are same or not"
   ]
  },
  {
   "cell_type": "markdown",
   "metadata": {},
   "source": [
    "**Level:** Hard"
   ]
  },
  {
   "cell_type": "markdown",
   "metadata": {},
   "source": [
    "**Input Format:** \n",
    "\n",
    "Python program to check if two strings are identical "
   ]
  },
  {
   "cell_type": "markdown",
   "metadata": {},
   "source": [
    "**Output Format :**\n",
    "\n",
    "Strings represents the yes or no"
   ]
  },
  {
   "cell_type": "markdown",
   "metadata": {},
   "source": [
    "**Sample Input :**\n",
    "\n",
    "aieducator\n",
    "\n",
    "aieducator"
   ]
  },
  {
   "cell_type": "markdown",
   "metadata": {},
   "source": [
    "**Sample Output :**\n",
    "\n",
    "Yes"
   ]
  },
  {
   "cell_type": "code",
   "execution_count": 1,
   "metadata": {},
   "outputs": [
    {
     "name": "stdin",
     "output_type": "stream",
     "text": [
      "Enter the first string:  aieducator\n"
     ]
    },
    {
     "name": "stdout",
     "output_type": "stream",
     "text": [
      "aieducator\n"
     ]
    },
    {
     "name": "stdin",
     "output_type": "stream",
     "text": [
      "Enter the second string:  aieducator\n"
     ]
    },
    {
     "name": "stdout",
     "output_type": "stream",
     "text": [
      "aieducator\n",
      "Are both strings same:  Yes\n"
     ]
    }
   ],
   "source": [
    "if __name__ == \"__main__\" : \n",
    "\n",
    "    string1 = input(\"Enter the first string: \") \n",
    "    print(string1, end = \"\\n\") \n",
    "\n",
    "    string2 = input(\"Enter the second string: \") \n",
    "    print(string2, end =\"\\n\") \n",
    "\n",
    "    print(\"Are both strings same: \", end = \" \") \n",
    "\n",
    "    if (string1 == string2) : \n",
    "        print(\"Yes\") \n",
    "\n",
    "    else : \n",
    "        print(\"No\") "
   ]
  },
  {
   "cell_type": "code",
   "execution_count": null,
   "metadata": {},
   "outputs": [],
   "source": []
  }
 ],
 "metadata": {
  "kernelspec": {
   "display_name": "Python 3",
   "language": "python",
   "name": "python3"
  },
  "language_info": {
   "codemirror_mode": {
    "name": "ipython",
    "version": 3
   },
   "file_extension": ".py",
   "mimetype": "text/x-python",
   "name": "python",
   "nbconvert_exporter": "python",
   "pygments_lexer": "ipython3",
   "version": "3.7.4"
  }
 },
 "nbformat": 4,
 "nbformat_minor": 4
}

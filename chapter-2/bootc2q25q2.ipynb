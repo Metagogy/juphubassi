{
 "cells": [
  {
   "cell_type": "markdown",
   "metadata": {},
   "source": "**Question** : write a Python program to print even length words in a string"
  },
  {
   "cell_type": "markdown",
   "metadata": {},
   "source": "**Level** : Hard\n"
  },
  {
   "cell_type": "markdown",
   "metadata": {},
   "source": "**Input format** : A String should be given as input. "
  },
  {
   "cell_type": "markdown",
   "metadata": {},
   "source": "**Output format** : Middle element of a string should be printed."
  },
  {
   "cell_type": "markdown",
   "metadata": {},
   "source": "**Sample Input** : \n    \ndef printWords(s): \n    \ns = s.split(' ') \n"
  },
  {
   "cell_type": "markdown",
   "metadata": {},
   "source": "**Sample Output** : \n    \nai\n\neducator\n"
  },
  {
   "cell_type": "code",
   "execution_count": null,
   "metadata": {},
   "outputs": [],
   "source": "# complete the function to print even length words in a string below."
  },
  {
   "cell_type": "code",
   "execution_count": null,
   "metadata": {},
   "outputs": [],
   "source": "def printWords(s): \n    #\n    #Write your code here.\n    #\n    #"
  }
 ],
 "metadata": {
  "kernelspec": {
   "display_name": "Python 3",
   "language": "python",
   "name": "python3"
  },
  "language_info": {
   "codemirror_mode": {
    "name": "ipython",
    "version": 2
   },
   "file_extension": ".py",
   "mimetype": "text/x-python",
   "name": "python",
   "nbconvert_exporter": "python",
   "pygments_lexer": "ipython2",
   "version": "2.7.15+"
  }
 },
 "nbformat": 4,
 "nbformat_minor": 4
}

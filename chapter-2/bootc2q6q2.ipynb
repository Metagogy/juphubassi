{
 "cells": [
  {
   "cell_type": "markdown",
   "metadata": {},
   "source": "**Question** : Write a program to display the alternate elements in a tuple?"
  },
  {
   "cell_type": "markdown",
   "metadata": {},
   "source": "**Level** : Medium\n"
  },
  {
   "cell_type": "markdown",
   "metadata": {},
   "source": "**Input Format** : Tuple\n"
  },
  {
   "cell_type": "markdown",
   "metadata": {},
   "source": "**Output Format** : Tuple\n"
  },
  {
   "cell_type": "markdown",
   "metadata": {},
   "source": "**Sample Input**  :\n    \ntuple = (1, 4, 6, 7, 9, 3, 5)\n"
  },
  {
   "cell_type": "markdown",
   "metadata": {},
   "source": "**Sample Output**  :\n    \nThe original tuple : (1, 4, 6, 7, 9, 3, 5)\n    \nThe alternate element tuple is : [4, 7, 3]\n"
  },
  {
   "cell_type": "code",
   "execution_count": 1,
   "metadata": {},
   "outputs": [],
   "source": "# Write your code here."
  },
  {
   "cell_type": "code",
   "execution_count": null,
   "metadata": {},
   "outputs": [],
   "source": ""
  }
 ],
 "metadata": {
  "kernelspec": {
   "display_name": "Python 3",
   "language": "python",
   "name": "python3"
  },
  "language_info": {
   "codemirror_mode": {
    "name": "ipython",
    "version": 2
   },
   "file_extension": ".py",
   "mimetype": "text/x-python",
   "name": "python",
   "nbconvert_exporter": "python",
   "pygments_lexer": "ipython2",
   "version": "2.7.15+"
  }
 },
 "nbformat": 4,
 "nbformat_minor": 4
}

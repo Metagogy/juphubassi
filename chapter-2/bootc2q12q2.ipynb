{
 "cells": [
  {
   "cell_type": "markdown",
   "metadata": {},
   "source": "**Question** : Write a program to print the id values of list elements?\n"
  },
  {
   "cell_type": "markdown",
   "metadata": {},
   "source": "**Level** : Hard\n"
  },
  {
   "cell_type": "markdown",
   "metadata": {},
   "source": "**Input format** : create a tuples of elements\n"
  },
  {
   "cell_type": "markdown",
   "metadata": {},
   "source": "**Output format**  : Id values\n"
  },
  {
   "cell_type": "markdown",
   "metadata": {},
   "source": "**Sample Input** :\n    \nstr1 = \"aieducator\"\n\nprint(id(str1)) \n\nstr2 = \"aieducator\"\n\nprint(id(str2)) \n\n\nprint(id(str1) == id(str2)) \n"
  },
  {
   "cell_type": "markdown",
   "metadata": {},
   "source": "**Sample Output** :\n    \n140674822285136\n\n140674822285136\n\nTrue\n\n140674822284368\n\n140674822284464\n\nFalse\n"
  },
  {
   "cell_type": "code",
   "execution_count": 1,
   "metadata": {},
   "outputs": [],
   "source": "# Write your code here."
  },
  {
   "cell_type": "code",
   "execution_count": null,
   "metadata": {},
   "outputs": [],
   "source": ""
  }
 ],
 "metadata": {
  "kernelspec": {
   "display_name": "Python 3",
   "language": "python",
   "name": "python3"
  },
  "language_info": {
   "codemirror_mode": {
    "name": "ipython",
    "version": 2
   },
   "file_extension": ".py",
   "mimetype": "text/x-python",
   "name": "python",
   "nbconvert_exporter": "python",
   "pygments_lexer": "ipython2",
   "version": "2.7.15+"
  }
 },
 "nbformat": 4,
 "nbformat_minor": 4
}

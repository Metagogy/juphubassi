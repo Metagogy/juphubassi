{
 "cells": [
  {
   "cell_type": "markdown",
   "metadata": {},
   "source": "**Question** : Write a python program to display dictionary elements."
  },
  {
   "cell_type": "markdown",
   "metadata": {},
   "source": "**Level** : Medium\n"
  },
  {
   "cell_type": "markdown",
   "metadata": {},
   "source": "**Input format** :\n    \ninteger[no. of elements to be inserted]\n\nn lines contains keys,values[keys,values can be any type]\n"
  },
  {
   "cell_type": "markdown",
   "metadata": {},
   "source": "**Output format** :\n    \nkeys,values\n"
  },
  {
   "cell_type": "markdown",
   "metadata": {},
   "source": "**Sample Input** :\n    \n3\n\n1 a\n\n2 b\n\n3 c\n"
  },
  {
   "cell_type": "markdown",
   "metadata": {},
   "source": "**Sample Output** :\n    \n{'1': 'a', '2': 'b' , '3' : 'c'}\n"
  },
  {
   "cell_type": "code",
   "execution_count": 1,
   "metadata": {},
   "outputs": [],
   "source": "# Write your code here."
  },
  {
   "cell_type": "code",
   "execution_count": null,
   "metadata": {},
   "outputs": [],
   "source": ""
  }
 ],
 "metadata": {
  "kernelspec": {
   "display_name": "Python 3",
   "language": "python",
   "name": "python3"
  },
  "language_info": {
   "codemirror_mode": {
    "name": "ipython",
    "version": 2
   },
   "file_extension": ".py",
   "mimetype": "text/x-python",
   "name": "python",
   "nbconvert_exporter": "python",
   "pygments_lexer": "ipython2",
   "version": "2.7.15+"
  }
 },
 "nbformat": 4,
 "nbformat_minor": 4
}

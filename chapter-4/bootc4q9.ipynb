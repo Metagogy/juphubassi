{
 "cells": [
  {
   "cell_type": "markdown",
   "metadata": {},
   "source": [
    "**Question :**\n",
    "\n",
    "Perform element wise mathematical operations such as add, power, remainder, reciprocal, sign, ceil, round for array1 = array([[10, 20, 30], [40, 50, 60]]),\n",
    "array2 = array([[2, 3, 4], [4, 6, 8]]), array3 = array([[-2, 3.5, -4], [4.05, -6, 8]])."
   ]
  },
  {
   "cell_type": "markdown",
   "metadata": {},
   "source": [
    "**Level :** Hard"
   ]
  },
  {
   "cell_type": "markdown",
   "metadata": {},
   "source": [
    "**Input format :**\n",
    "\n",
    "array"
   ]
  },
  {
   "cell_type": "markdown",
   "metadata": {},
   "source": [
    "**Output format :**\n",
    "\n",
    "array"
   ]
  },
  {
   "cell_type": "markdown",
   "metadata": {},
   "source": [
    "**Sample input :**\n",
    "\n",
    "First array is [[10, 20, 30], [40, 50, 60]]\n",
    "\n",
    "Second array is [[2, 3, 4], [4, 6, 8]]\n",
    "\n",
    "Third array is [[-2, 3.5, -4], [4.05, -6, 8]]\n"
   ]
  },
  {
   "cell_type": "markdown",
   "metadata": {},
   "source": [
    "**Sample output :**\n",
    "\n",
    "[[12 23 34]\n",
    " [44 56 68]]\n",
    "\n",
    "[[            100            8000          810000]\n",
    " [        2560000     15625000000 167961600000000]]\n",
    "\n",
    "[[2 3 4]\n",
    " [4 1 3]]\n",
    "\n",
    "[[-0.5         0.28571429 -0.25      ]\n",
    " [ 0.24691358 -0.16666667  0.125     ]]\n",
    "\n",
    "[[-1.  1. -1.]\n",
    " [ 1. -1.  1.]]\n",
    "\n",
    "[[-2.  4. -4.]\n",
    " [ 5. -6.  8.]]\n",
    "\n",
    "[[-2.  4. -4.]\n",
    " [ 4. -6.  8.]]"
   ]
  },
  {
   "cell_type": "code",
   "execution_count": null,
   "metadata": {},
   "outputs": [],
   "source": [
    "import numpy as np\n",
    "\n",
    "# write your code here\n",
    "\n"
   ]
  },
  {
   "cell_type": "code",
   "execution_count": null,
   "metadata": {},
   "outputs": [],
   "source": []
  }
 ],
 "metadata": {
  "kernelspec": {
   "display_name": "Python 3",
   "language": "python",
   "name": "python3"
  },
  "language_info": {
   "codemirror_mode": {
    "name": "ipython",
    "version": 3
   },
   "file_extension": ".py",
   "mimetype": "text/x-python",
   "name": "python",
   "nbconvert_exporter": "python",
   "pygments_lexer": "ipython3",
   "version": "3.7.4"
  }
 },
 "nbformat": 4,
 "nbformat_minor": 4
}

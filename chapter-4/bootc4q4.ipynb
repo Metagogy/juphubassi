{
 "cells": [
  {
   "cell_type": "markdown",
   "metadata": {},
   "source": [
    "**Question :**\n",
    "\n",
    "Create a 2d array ‘x’ with values [[1,2,3] ,[10,11,12]] and array ‘y’ with values [[4,5,6],[7,8,9]]. Combine ‘x’ and ‘y’ using hstack"
   ]
  },
  {
   "cell_type": "markdown",
   "metadata": {},
   "source": [
    "**Level :** Easy"
   ]
  },
  {
   "cell_type": "markdown",
   "metadata": {},
   "source": [
    "**Input format :**\n",
    "\n",
    "input as integer values\n",
    "\n",
    "input as integer values\n",
    "\n",
    "input as arrays"
   ]
  },
  {
   "cell_type": "markdown",
   "metadata": {},
   "source": [
    "**Output format :**\n",
    "\n",
    "output as 2D arrays\n",
    "\n",
    "output as 2D arrays\n",
    "\n",
    "output as numpy array"
   ]
  },
  {
   "cell_type": "markdown",
   "metadata": {},
   "source": [
    "**Sample input :**\n",
    "\n",
    "Create two different input as integer values and combine both arrays by using hstack() function\n",
    "\n",
    "First array is [[1,2,3],[10,11,12]]\n",
    "\n",
    "Second array is [[4,5,6],[7,8,9]]\n"
   ]
  },
  {
   "cell_type": "markdown",
   "metadata": {},
   "source": [
    "**Sample output :**\n",
    "\n",
    "[[1,2,3],[10,11,12]]\n",
    "\n",
    "[[4,5,6],[7,8,9]]\n",
    "\n",
    "[[ 1,  2,  3,  4,  5,  6],\n",
    "       [10, 11, 12,  7,  8,  9]]"
   ]
  },
  {
   "cell_type": "code",
   "execution_count": null,
   "metadata": {},
   "outputs": [],
   "source": [
    "import numpy as np\n",
    "\n",
    "#write your code here\n"
   ]
  },
  {
   "cell_type": "code",
   "execution_count": null,
   "metadata": {},
   "outputs": [],
   "source": []
  }
 ],
 "metadata": {
  "kernelspec": {
   "display_name": "Python 3",
   "language": "python",
   "name": "python3"
  },
  "language_info": {
   "codemirror_mode": {
    "name": "ipython",
    "version": 3
   },
   "file_extension": ".py",
   "mimetype": "text/x-python",
   "name": "python",
   "nbconvert_exporter": "python",
   "pygments_lexer": "ipython3",
   "version": "3.7.4"
  }
 },
 "nbformat": 4,
 "nbformat_minor": 4
}

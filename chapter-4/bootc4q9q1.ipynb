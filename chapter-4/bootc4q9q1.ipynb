{
 "cells": [
  {
   "cell_type": "markdown",
   "metadata": {},
   "source": [
    "**Question :** Perform element wise mathematical operations such as add, power for array1 = array([[40, 50, 60], [70, 80, 90]]), array2 = array([[4, 6, 8], [8, 10, 12]])."
   ]
  },
  {
   "cell_type": "markdown",
   "metadata": {},
   "source": [
    "**Level:** Medium"
   ]
  },
  {
   "cell_type": "markdown",
   "metadata": {},
   "source": [
    "**Input format :**\n",
    "\n",
    "array"
   ]
  },
  {
   "cell_type": "markdown",
   "metadata": {},
   "source": [
    "**Output format :** \n",
    "\n",
    "array"
   ]
  },
  {
   "cell_type": "markdown",
   "metadata": {},
   "source": [
    "**Sample input :**\n",
    "\n",
    "First array is [[40, 50, 60], [70, 80, 90]]\n",
    "\n",
    "Second array is [[4, 6, 8], [8, 10, 12]]\n"
   ]
  },
  {
   "cell_type": "markdown",
   "metadata": {},
   "source": [
    "**Sample output :**\n",
    "\n",
    "    [[ 44  56  68]\n",
    "\n",
    "      [ 78  90 102]]\n",
    "\n",
    "    [[             2560000          15625000000      167961600000000]\n",
    " \n",
    "      [     576480100000000 -7709325833709551616 -8562031566944792576]]"
   ]
  },
  {
   "cell_type": "code",
   "execution_count": null,
   "metadata": {},
   "outputs": [],
   "source": [
    "import numpy as np\n",
    "\n",
    "# write your code here\n",
    "\n"
   ]
  },
  {
   "cell_type": "code",
   "execution_count": null,
   "metadata": {},
   "outputs": [],
   "source": []
  }
 ],
 "metadata": {
  "kernelspec": {
   "display_name": "Python 3",
   "language": "python",
   "name": "python3"
  },
  "language_info": {
   "codemirror_mode": {
    "name": "ipython",
    "version": 3
   },
   "file_extension": ".py",
   "mimetype": "text/x-python",
   "name": "python",
   "nbconvert_exporter": "python",
   "pygments_lexer": "ipython3",
   "version": "3.7.4"
  }
 },
 "nbformat": 4,
 "nbformat_minor": 4
}

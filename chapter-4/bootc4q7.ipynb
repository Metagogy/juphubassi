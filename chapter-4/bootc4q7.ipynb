{
 "cells": [
  {
   "cell_type": "markdown",
   "metadata": {},
   "source": [
    "**Question** :  Perform single dimensional slicing on 1d array [0, 1, 2, 3, 4, 5, 6, 7, 8, 9] \n"
   ]
  },
  {
   "cell_type": "markdown",
   "metadata": {},
   "source": [
    "**Description :**\n",
    "\n",
    "Perform single dimensional slicing on 1d array [0, 1, 2, 3, 4, 5, 6, 7, 8, 9] where, slice \n",
    "\n",
    "From index 4 to last index \n",
    "\n",
    "From index 0 to 4 index\n",
    "\n",
    "From index 4(included) up to index 7(excluded)\n",
    "\n",
    "Exclude last element\n",
    "\n",
    "Up to second last index(negative index)\n",
    "\n",
    "From last to first in reverse order(negative step)\n",
    "\n",
    "All odd numbers in reversed order\n",
    "\n",
    "All even numbers in reversed order\n",
    "\n",
    "All elements"
   ]
  },
  {
   "cell_type": "markdown",
   "metadata": {},
   "source": [
    "**Level :** Hard"
   ]
  },
  {
   "cell_type": "markdown",
   "metadata": {},
   "source": [
    "**Input format :**\n",
    "\n",
    "array"
   ]
  },
  {
   "cell_type": "markdown",
   "metadata": {},
   "source": [
    "**Output format :**\n",
    "\n",
    "integer"
   ]
  },
  {
   "cell_type": "markdown",
   "metadata": {},
   "source": [
    "**Sample input :**\n",
    "\n",
    "[0, 1, 2, 3, 4, 5, 6, 7, 8, 9]"
   ]
  },
  {
   "cell_type": "markdown",
   "metadata": {},
   "source": [
    "**Sample output  :**\n",
    "\n",
    "[4 5 6 7 8 9]\n",
    "\n",
    "[0 1 2 3]\n",
    "\n",
    "[4 5 6]\n",
    "\n",
    "[0 1 2 3 4 5 6 7 8]\n",
    "\n",
    "[0 1 2 3 4 5 6 7]\n",
    "\n",
    "[9 8 7 6 5 4 3 2 1 0]\n",
    "\n",
    "[9 7 5 3 1]\n",
    "\n",
    "[8 6 4 2 0]\n",
    "\n",
    "[0 1 2 3 4 5 6 7 8 9]"
   ]
  },
  {
   "cell_type": "code",
   "execution_count": null,
   "metadata": {},
   "outputs": [],
   "source": [
    "import numpy as np\n",
    "\n",
    "# write your code here\n",
    "\n"
   ]
  },
  {
   "cell_type": "code",
   "execution_count": null,
   "metadata": {},
   "outputs": [],
   "source": []
  }
 ],
 "metadata": {
  "kernelspec": {
   "display_name": "Python 3",
   "language": "python",
   "name": "python3"
  },
  "language_info": {
   "codemirror_mode": {
    "name": "ipython",
    "version": 3
   },
   "file_extension": ".py",
   "mimetype": "text/x-python",
   "name": "python",
   "nbconvert_exporter": "python",
   "pygments_lexer": "ipython3",
   "version": "3.7.4"
  }
 },
 "nbformat": 4,
 "nbformat_minor": 4
}

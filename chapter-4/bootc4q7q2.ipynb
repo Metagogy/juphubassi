{
 "cells": [
  {
   "cell_type": "markdown",
   "metadata": {},
   "source": [
    "**Question**: Perform single dimensional slicing on 1d array [ 6, 7, 8, 9, 0, 1, 2, 3, 4, 5]"
   ]
  },
  {
   "cell_type": "markdown",
   "metadata": {},
   "source": [
    "**Description :**  Perform single dimensional slicing on 1d array [ 6, 7, 8, 9, 0, 1, 2, 3, 4, 5] where, slice \n",
    "\n",
    "Up to second last index(negative index)\n",
    "\n",
    "From last to first in reverse order(negative step)\n",
    "\n",
    "All odd numbers in reversed order\n",
    "\n",
    "All even numbers in reversed order\n",
    "\n",
    "All elements"
   ]
  },
  {
   "cell_type": "markdown",
   "metadata": {},
   "source": [
    "**Level:** Medium"
   ]
  },
  {
   "cell_type": "markdown",
   "metadata": {},
   "source": [
    "**Input format :**\n",
    "\n",
    "array"
   ]
  },
  {
   "cell_type": "markdown",
   "metadata": {},
   "source": [
    "**Output format :**\n",
    "\n",
    "integer"
   ]
  },
  {
   "cell_type": "markdown",
   "metadata": {},
   "source": [
    "**Sample input :**\n",
    "\n",
    "[ 6, 7, 8, 9, 0, 1, 2, 3, 4, 5] "
   ]
  },
  {
   "cell_type": "markdown",
   "metadata": {},
   "source": [
    "**Sample output  :**\n",
    "\n",
    "[6 7 8 9 0 1 2 3]\n",
    "\n",
    "[5 4 3 2 1 0 9 8 7 6]\n",
    "\n",
    "[5 3 1 9 7]\n",
    "\n",
    "[4 2 0 8 6]\n",
    "\n",
    "[6 7 8 9 0 1 2 3 4 5]"
   ]
  },
  {
   "cell_type": "code",
   "execution_count": null,
   "metadata": {},
   "outputs": [],
   "source": [
    "import numpy as np\n",
    "\n",
    "# write your code here\n"
   ]
  },
  {
   "cell_type": "code",
   "execution_count": null,
   "metadata": {},
   "outputs": [],
   "source": []
  }
 ],
 "metadata": {
  "kernelspec": {
   "display_name": "Python 3",
   "language": "python",
   "name": "python3"
  },
  "language_info": {
   "codemirror_mode": {
    "name": "ipython",
    "version": 3
   },
   "file_extension": ".py",
   "mimetype": "text/x-python",
   "name": "python",
   "nbconvert_exporter": "python",
   "pygments_lexer": "ipython3",
   "version": "3.7.4"
  }
 },
 "nbformat": 4,
 "nbformat_minor": 4
}

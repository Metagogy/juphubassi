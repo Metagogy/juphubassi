{
 "cells": [
  {
   "cell_type": "markdown",
   "metadata": {},
   "source": "**Question** : Write a program that returns the number of prime numbers that exist upto given number. \n"
  },
  {
   "cell_type": "markdown",
   "metadata": {},
   "source": "**Level** = Hard\n"
  },
  {
   "cell_type": "markdown",
   "metadata": {},
   "source": "**Input Format** : The given vector be displayed."
  },
  {
   "cell_type": "markdown",
   "metadata": {},
   "source": "**Output Format** : The output to test all odd factors upto x-1"
  },
  {
   "cell_type": "markdown",
   "metadata": {},
   "source": "**Sample Input** :\n    \n10\n"
  },
  {
   "cell_type": "markdown",
   "metadata": {},
   "source": "**Sample Output** :\n    \n4\n"
  },
  {
   "cell_type": "code",
   "execution_count": null,
   "metadata": {},
   "outputs": [],
   "source": "#Complete the function that returns the number of prime numbers that exist upto given number."
  },
  {
   "cell_type": "code",
   "execution_count": null,
   "metadata": {},
   "outputs": [],
   "source": "def countmyprime(num):\n    #\n    #Write your code here\n    #\n    #\n"
  }
 ],
 "metadata": {
  "kernelspec": {
   "display_name": "Python 3",
   "language": "python",
   "name": "python3"
  },
  "language_info": {
   "codemirror_mode": {
    "name": "ipython",
    "version": 2
   },
   "file_extension": ".py",
   "mimetype": "text/x-python",
   "name": "python",
   "nbconvert_exporter": "python",
   "pygments_lexer": "ipython2",
   "version": "2.7.15+"
  }
 },
 "nbformat": 4,
 "nbformat_minor": 4
}

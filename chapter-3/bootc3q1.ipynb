{
 "cells": [
  {
   "cell_type": "markdown",
   "metadata": {},
   "source": "**Question** :Define a function that can convert a string into an integer and print it in console."
  },
  {
   "cell_type": "markdown",
   "metadata": {},
   "source": "**Level** = Easy\n"
  },
  {
   "cell_type": "markdown",
   "metadata": {},
   "source": "**Input Format** : integer to string\n"
  },
  {
   "cell_type": "markdown",
   "metadata": {},
   "source": "**Output Format** : String\n"
  },
  {
   "cell_type": "markdown",
   "metadata": {},
   "source": "**Sample Input** : '1'\n"
  },
  {
   "cell_type": "markdown",
   "metadata": {},
   "source": "**Sample Output**: 1\n"
  },
  {
   "cell_type": "code",
   "execution_count": null,
   "metadata": {},
   "outputs": [],
   "source": "#Complete the function that convert string into an integer"
  },
  {
   "cell_type": "code",
   "execution_count": null,
   "metadata": {},
   "outputs": [],
   "source": "def printValue(n):\n    #\n    #Write your code here.\n    #\n    #"
  },
  {
   "cell_type": "code",
   "execution_count": null,
   "metadata": {},
   "outputs": [],
   "source": ""
  }
 ],
 "metadata": {
  "kernelspec": {
   "display_name": "Python 2",
   "language": "python",
   "name": "python2"
  },
  "language_info": {
   "codemirror_mode": {
    "name": "ipython",
    "version": 2
   },
   "file_extension": ".py",
   "mimetype": "text/x-python",
   "name": "python",
   "nbconvert_exporter": "python",
   "pygments_lexer": "ipython2",
   "version": "2.7.15+"
  }
 },
 "nbformat": 4,
 "nbformat_minor": 4
}

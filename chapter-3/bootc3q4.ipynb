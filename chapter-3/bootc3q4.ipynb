{
 "cells": [
  {
   "cell_type": "markdown",
   "metadata": {},
   "source": "**Question** : Write a program to demonstrate all the possible ways any particular string can be permuted.\n"
  },
  {
   "cell_type": "markdown",
   "metadata": {},
   "source": "**Level** = Hard\n"
  },
  {
   "cell_type": "markdown",
   "metadata": {},
   "source": "**Input Format**: Any string\n"
  },
  {
   "cell_type": "markdown",
   "metadata": {},
   "source": "**Output Format** : All the permutations of the given string should be displayed"
  },
  {
   "cell_type": "markdown",
   "metadata": {},
   "source": "**Sample Input**  : abc"
  },
  {
   "cell_type": "markdown",
   "metadata": {},
   "source": "**Sample Output**  :\n    \nInitial string abc\n\nResultant permutations ['abc', 'acb', 'bac', 'bca', 'cba', 'cab']\n"
  },
  {
   "cell_type": "code",
   "execution_count": null,
   "metadata": {},
   "outputs": [],
   "source": "#Write your code here."
  }
 ],
 "metadata": {
  "kernelspec": {
   "display_name": "Python 3",
   "language": "python",
   "name": "python3"
  },
  "language_info": {
   "codemirror_mode": {
    "name": "ipython",
    "version": 2
   },
   "file_extension": ".py",
   "mimetype": "text/x-python",
   "name": "python",
   "nbconvert_exporter": "python",
   "pygments_lexer": "ipython2",
   "version": "2.7.15+"
  }
 },
 "nbformat": 4,
 "nbformat_minor": 4
}

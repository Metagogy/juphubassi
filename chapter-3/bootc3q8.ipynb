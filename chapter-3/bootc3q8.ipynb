{
 "cells": [
  {
   "cell_type": "markdown",
   "metadata": {},
   "source": "**Question** : Write a program to demonstrate the filter function"
  },
  {
   "cell_type": "markdown",
   "metadata": {},
   "source": "**Level** = Medium"
  },
  {
   "cell_type": "markdown",
   "metadata": {},
   "source": "**Input Format** : List of characters"
  },
  {
   "cell_type": "markdown",
   "metadata": {},
   "source": "**Output Format** : The output should display only the filtered characters"
  },
  {
   "cell_type": "markdown",
   "metadata": {},
   "source": "**Sample Input**   : \n\nletters = ['a', 'e', 'i', 'o', 'u']\n\nsequence = ['g', 'e', 'e', 'j', 'k', 's', 'p', 'r']\n"
  },
  {
   "cell_type": "markdown",
   "metadata": {},
   "source": "**Sample Output**  :\n    \nThe filtered letters are: e e\n"
  },
  {
   "cell_type": "code",
   "execution_count": null,
   "metadata": {},
   "outputs": [],
   "source": "#Complete the variable defining function below, to demonstrate the filter function"
  },
  {
   "cell_type": "code",
   "execution_count": null,
   "metadata": {},
   "outputs": [],
   "source": "def fun(variable):\n    #\n    #Write your code here:\n    #\n    #"
  }
 ],
 "metadata": {
  "kernelspec": {
   "display_name": "Python 3",
   "language": "python",
   "name": "python3"
  },
  "language_info": {
   "codemirror_mode": {
    "name": "ipython",
    "version": 2
   },
   "file_extension": ".py",
   "mimetype": "text/x-python",
   "name": "python",
   "nbconvert_exporter": "python",
   "pygments_lexer": "ipython2",
   "version": "2.7.15+"
  }
 },
 "nbformat": 4,
 "nbformat_minor": 4
}

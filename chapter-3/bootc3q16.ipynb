{
 "cells": [
  {
   "cell_type": "markdown",
   "metadata": {},
   "source": "**Question** : Define a lambda function which should compute the sum of the given two numbers."
  },
  {
   "cell_type": "markdown",
   "metadata": {},
   "source": "**Level** : Easy\n"
  },
  {
   "cell_type": "markdown",
   "metadata": {},
   "source": "**Input Format** : \n    \nany 2 numbers should be given as input\n"
  },
  {
   "cell_type": "markdown",
   "metadata": {},
   "source": "**Output Format** : \n    \nInteger displaying the sum of the given 2 numbers\n"
  },
  {
   "cell_type": "markdown",
   "metadata": {},
   "source": "**Sample Input** : \n    \n1\n\n2\n"
  },
  {
   "cell_type": "markdown",
   "metadata": {},
   "source": "**Sample Output** : 3\n"
  },
  {
   "cell_type": "code",
   "execution_count": null,
   "metadata": {},
   "outputs": [],
   "source": "#Write your code here"
  }
 ],
 "metadata": {
  "kernelspec": {
   "display_name": "Python 3",
   "language": "python",
   "name": "python3"
  },
  "language_info": {
   "codemirror_mode": {
    "name": "ipython",
    "version": 2
   },
   "file_extension": ".py",
   "mimetype": "text/x-python",
   "name": "python",
   "nbconvert_exporter": "python",
   "pygments_lexer": "ipython2",
   "version": "2.7.15+"
  }
 },
 "nbformat": 4,
 "nbformat_minor": 4
}

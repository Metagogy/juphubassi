{
 "cells": [
  {
   "cell_type": "markdown",
   "metadata": {},
   "source": "**Question** : Define a function which accepts 2 strings as input and prints the string with minimum length. If 2 strings have the same length, then the function should print all strings line by line.\n"
  },
  {
   "cell_type": "markdown",
   "metadata": {},
   "source": "**Level** = Medium\n"
  },
  {
   "cell_type": "markdown",
   "metadata": {},
   "source": "**Input Format** : any phrase in string format"
  },
  {
   "cell_type": "markdown",
   "metadata": {},
   "source": "**Output Format** : shorter string should be displayed"
  },
  {
   "cell_type": "markdown",
   "metadata": {},
   "source": "**Sample Input**  : hi everyone"
  },
  {
   "cell_type": "markdown",
   "metadata": {},
   "source": "**Sample Output**  : hi"
  },
  {
   "cell_type": "code",
   "execution_count": null,
   "metadata": {},
   "outputs": [],
   "source": "#Complete the function below"
  },
  {
   "cell_type": "code",
   "execution_count": null,
   "metadata": {},
   "outputs": [],
   "source": "def printVal(s1,s2):\n    #\n    #Write your code here\n    #\n    #"
  }
 ],
 "metadata": {
  "kernelspec": {
   "display_name": "Python 3",
   "language": "python",
   "name": "python3"
  },
  "language_info": {
   "codemirror_mode": {
    "name": "ipython",
    "version": 2
   },
   "file_extension": ".py",
   "mimetype": "text/x-python",
   "name": "python",
   "nbconvert_exporter": "python",
   "pygments_lexer": "ipython2",
   "version": "2.7.15+"
  }
 },
 "nbformat": 4,
 "nbformat_minor": 4
}

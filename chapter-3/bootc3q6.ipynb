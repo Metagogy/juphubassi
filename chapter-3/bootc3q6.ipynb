{
 "cells": [
  {
   "cell_type": "markdown",
   "metadata": {},
   "source": "**Question** : Write a function that capitalizes the first and fourth letters of a name."
  },
  {
   "cell_type": "markdown",
   "metadata": {},
   "source": "**Level** = Easy"
  },
  {
   "cell_type": "markdown",
   "metadata": {},
   "source": "**Input Format** : The given string be displayed."
  },
  {
   "cell_type": "markdown",
   "metadata": {},
   "source": "**Output Format** : The corresponding output be displayed."
  },
  {
   "cell_type": "markdown",
   "metadata": {},
   "source": "**Sample Input** : python"
  },
  {
   "cell_type": "markdown",
   "metadata": {},
   "source": "**Sample Output** : PytHon"
  },
  {
   "cell_type": "code",
   "execution_count": null,
   "metadata": {},
   "outputs": [],
   "source": "#Complete the  Cap_Name function below."
  },
  {
   "cell_type": "code",
   "execution_count": null,
   "metadata": {},
   "outputs": [],
   "source": "def Cap_Name(name):\n    #\n    #Write your code here\n    #\n    #\n"
  }
 ],
 "metadata": {
  "kernelspec": {
   "display_name": "Python 3",
   "language": "python",
   "name": "python3"
  },
  "language_info": {
   "codemirror_mode": {
    "name": "ipython",
    "version": 2
   },
   "file_extension": ".py",
   "mimetype": "text/x-python",
   "name": "python",
   "nbconvert_exporter": "python",
   "pygments_lexer": "ipython2",
   "version": "2.7.15+"
  }
 },
 "nbformat": 4,
 "nbformat_minor": 4
}

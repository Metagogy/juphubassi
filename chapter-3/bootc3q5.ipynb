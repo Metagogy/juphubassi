{
 "cells": [
  {
   "cell_type": "markdown",
   "metadata": {},
   "source": "**Question** : Given a number, find the sum of its factors."
  },
  {
   "cell_type": "markdown",
   "metadata": {},
   "source": "**Level** = Hard"
  },
  {
   "cell_type": "markdown",
   "metadata": {},
   "source": "**Input Format** : Given vector of a particular size."
  },
  {
   "cell_type": "markdown",
   "metadata": {},
   "source": "**Output Format** : Given output be displayed."
  },
  {
   "cell_type": "markdown",
   "metadata": {},
   "source": "**Sample Input**  : 12"
  },
  {
   "cell_type": "markdown",
   "metadata": {},
   "source": "**Sample Output**  : 7"
  },
  {
   "cell_type": "code",
   "execution_count": 1,
   "metadata": {},
   "outputs": [],
   "source": "#Complete the function for giving a number and find its sum."
  },
  {
   "cell_type": "code",
   "execution_count": null,
   "metadata": {},
   "outputs": [],
   "source": "def findMinSum(num):\n    #\n    #Write your code here\n    #\n    #"
  }
 ],
 "metadata": {
  "kernelspec": {
   "display_name": "Python 3",
   "language": "python",
   "name": "python3"
  },
  "language_info": {
   "codemirror_mode": {
    "name": "ipython",
    "version": 2
   },
   "file_extension": ".py",
   "mimetype": "text/x-python",
   "name": "python",
   "nbconvert_exporter": "python",
   "pygments_lexer": "ipython2",
   "version": "2.7.15+"
  }
 },
 "nbformat": 4,
 "nbformat_minor": 4
}

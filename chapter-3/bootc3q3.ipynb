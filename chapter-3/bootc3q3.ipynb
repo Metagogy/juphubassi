{
 "cells": [
  {
   "cell_type": "markdown",
   "metadata": {},
   "source": "**Question**  : Define a function that can accept two strings as input and concatenate them and then print it in console.\n"
  },
  {
   "cell_type": "markdown",
   "metadata": {},
   "source": "**Level** = Medium\n"
  },
  {
   "cell_type": "markdown",
   "metadata": {},
   "source": "**Input Format** : function\n"
  },
  {
   "cell_type": "markdown",
   "metadata": {},
   "source": "**Output Format** : strings\n"
  },
  {
   "cell_type": "markdown",
   "metadata": {},
   "source": "**Sample Input** :\n    \n\"Hello\"\n\n\"World\"\n"
  },
  {
   "cell_type": "markdown",
   "metadata": {},
   "source": "**Sample Output**  :\n    \n\"HelloWorld\"\n"
  },
  {
   "cell_type": "code",
   "execution_count": null,
   "metadata": {},
   "outputs": [],
   "source": "#Complete the function that  accept two strings as input and concatenate them\n\n"
  },
  {
   "cell_type": "code",
   "execution_count": null,
   "metadata": {},
   "outputs": [],
   "source": "def printValue(s1,s2):\n    #\n    #Write your code here\n    #\n    #\n"
  }
 ],
 "metadata": {
  "kernelspec": {
   "display_name": "Python 3",
   "language": "python",
   "name": "python3"
  },
  "language_info": {
   "codemirror_mode": {
    "name": "ipython",
    "version": 2
   },
   "file_extension": ".py",
   "mimetype": "text/x-python",
   "name": "python",
   "nbconvert_exporter": "python",
   "pygments_lexer": "ipython2",
   "version": "2.7.15+"
  }
 },
 "nbformat": 4,
 "nbformat_minor": 4
}

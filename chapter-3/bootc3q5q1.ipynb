{
 "cells": [
  {
   "cell_type": "markdown",
   "metadata": {},
   "source": [
    "**Question :** Write a Python Program to find the factors of a number"
   ]
  },
  {
   "cell_type": "markdown",
   "metadata": {},
   "source": [
    "**Level:** Medium"
   ]
  },
  {
   "cell_type": "markdown",
   "metadata": {},
   "source": [
    "**Input Format:** \n",
    "\n",
    "This function computes the factor of the argument passed"
   ]
  },
  {
   "cell_type": "markdown",
   "metadata": {},
   "source": [
    "**Output Format:** \n",
    "\n",
    "Given output be displayed."
   ]
  },
  {
   "cell_type": "markdown",
   "metadata": {},
   "source": [
    "**Sample Input  :**\n",
    "\n",
    "def print_factors(x):\n",
    "\n",
    "   print(\"The factors of\",x,\"are:\")\n",
    "     \n",
    "   for i in range(1, x + 1):\n",
    "       \n",
    "       if x % i == 0:\n",
    "       \n",
    "          print(i)"
   ]
  },
  {
   "cell_type": "markdown",
   "metadata": {},
   "source": [
    "**Sample Output  :**\n",
    "\n",
    "('The factors of', 320, 'are:')\n",
    "\n",
    "1\n",
    "\n",
    "2\n",
    "\n",
    "4\n",
    "\n",
    "5\n",
    "\n",
    "8\n",
    "\n",
    "10\n",
    "\n",
    "16\n",
    "\n",
    "20\n",
    "\n",
    "32\n",
    "\n",
    "40\n",
    "\n",
    "64\n",
    "\n",
    "80\n",
    "\n",
    "160\n",
    "\n",
    "320"
   ]
  },
  {
   "cell_type": "code",
   "execution_count": null,
   "metadata": {},
   "outputs": [],
   "source": [
    "def print_factors(x):\n",
    "    \n",
    "    # write your code here\n",
    "    \n",
    "    "
   ]
  },
  {
   "cell_type": "code",
   "execution_count": null,
   "metadata": {},
   "outputs": [],
   "source": []
  }
 ],
 "metadata": {
  "kernelspec": {
   "display_name": "Python 3",
   "language": "python",
   "name": "python3"
  },
  "language_info": {
   "codemirror_mode": {
    "name": "ipython",
    "version": 3
   },
   "file_extension": ".py",
   "mimetype": "text/x-python",
   "name": "python",
   "nbconvert_exporter": "python",
   "pygments_lexer": "ipython3",
   "version": "3.7.4"
  }
 },
 "nbformat": 4,
 "nbformat_minor": 4
}

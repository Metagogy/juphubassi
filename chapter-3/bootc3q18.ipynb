{
 "cells": [
  {
   "cell_type": "markdown",
   "metadata": {},
   "source": "**Question** : Write a program to define a function that can receive two integer numbers in string form and compute their product.\n"
  },
  {
   "cell_type": "markdown",
   "metadata": {},
   "source": "**Level** : Medium\n"
  },
  {
   "cell_type": "markdown",
   "metadata": {},
   "source": "**Input Format** : \n    \nany 2 numbers should be given in string format\n"
  },
  {
   "cell_type": "markdown",
   "metadata": {},
   "source": "**Output Format** : \n    \nAn integer number which is the sum of the given numbers\n"
  },
  {
   "cell_type": "markdown",
   "metadata": {},
   "source": "**Sample Input** : \n    \n\"10\"\n\n\"15\"\n"
  },
  {
   "cell_type": "markdown",
   "metadata": {},
   "source": "**Sample Output** : 150\n"
  },
  {
   "cell_type": "code",
   "execution_count": 2,
   "metadata": {},
   "outputs": [],
   "source": "#Write your code here"
  },
  {
   "cell_type": "code",
   "execution_count": null,
   "metadata": {},
   "outputs": [],
   "source": ""
  }
 ],
 "metadata": {
  "kernelspec": {
   "display_name": "Python 3",
   "language": "python",
   "name": "python3"
  },
  "language_info": {
   "codemirror_mode": {
    "name": "ipython",
    "version": 2
   },
   "file_extension": ".py",
   "mimetype": "text/x-python",
   "name": "python",
   "nbconvert_exporter": "python",
   "pygments_lexer": "ipython2",
   "version": "2.7.15+"
  }
 },
 "nbformat": 4,
 "nbformat_minor": 4
}

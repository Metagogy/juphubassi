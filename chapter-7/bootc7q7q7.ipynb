{
 "cells": [
  {
   "cell_type": "markdown",
   "metadata": {},
   "source": [
    "**Question**: Build and compile the Iris feed forward neural network model using Binary cross entropy as loss function and Adam as optimizer.\n"
   ]
  },
  {
   "cell_type": "markdown",
   "metadata": {},
   "source": [
    "**Description :** \n",
    "\n",
    "* Load the iris.csv dataset and Drop “Id” variable(column) , axis = 1 \n",
    "* Split into training and testing with test size = 0.1 and random state = 0\n",
    "* Build the model by using Sequential model and adding first activation function as Relu layer having 8 neurons and next three activation functions as Relu layer having 10 neurons each and last activation function as Softmax layer has 3 neurons\n",
    "* Compile the model by using loss function as Binary cross entropy  and Optimizer as adam\n"
   ]
  },
  {
   "cell_type": "markdown",
   "metadata": {},
   "source": [
    "**Level:** Hard"
   ]
  },
  {
   "cell_type": "markdown",
   "metadata": {},
   "source": [
    "**Input format :** \n",
    "\n",
    "Dataset"
   ]
  },
  {
   "cell_type": "markdown",
   "metadata": {},
   "source": [
    "**Output format :**\n",
    "\n",
    "Neural networks model"
   ]
  },
  {
   "cell_type": "markdown",
   "metadata": {},
   "source": [
    "**Sample Input :**\n",
    "\n",
    "model = tf.keras.Sequential()\n",
    "\n",
    "model.add(tf.keras.layers.Dense(8, input_dim = input_dim , activation = 'relu'))\n",
    "\n",
    "model.add(tf.keras.layers.Dense(10, activation = 'relu'))\n",
    "\n",
    "model.add(tf.keras.layers.Dense(10, activation = 'relu'))\n",
    "\n",
    "model.add(tf.keras.layers.Dense(10, activation = 'relu'))\n",
    "\n",
    "model.add(tf.keras.layers.Dense(3, activation = 'softmax'))\n",
    "\n",
    "model.summary()"
   ]
  },
  {
   "cell_type": "markdown",
   "metadata": {},
   "source": [
    "**Sample Output :** \n",
    "\n",
    "Integers with float values"
   ]
  },
  {
   "cell_type": "code",
   "execution_count": null,
   "metadata": {},
   "outputs": [],
   "source": [
    "import pandas as pd\n",
    "import tensorflow as tf\n",
    "\n",
    "#write your code here\n"
   ]
  },
  {
   "cell_type": "code",
   "execution_count": null,
   "metadata": {},
   "outputs": [],
   "source": []
  }
 ],
 "metadata": {
  "kernelspec": {
   "display_name": "Python 3",
   "language": "python",
   "name": "python3"
  },
  "language_info": {
   "codemirror_mode": {
    "name": "ipython",
    "version": 3
   },
   "file_extension": ".py",
   "mimetype": "text/x-python",
   "name": "python",
   "nbconvert_exporter": "python",
   "pygments_lexer": "ipython3",
   "version": "3.7.4"
  }
 },
 "nbformat": 4,
 "nbformat_minor": 4
}

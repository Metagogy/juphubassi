{
 "cells": [
  {
   "cell_type": "markdown",
   "metadata": {},
   "source": [
    "**Question** : Load mnist dataset using inbuilt function and split into training and testing. Normalize mnist train images. Print normalized train images. "
   ]
  },
  {
   "cell_type": "markdown",
   "metadata": {},
   "source": [
    "**Level** : Easy\n"
   ]
  },
  {
   "cell_type": "markdown",
   "metadata": {},
   "source": [
    "**input format** :\n",
    "    \n",
    "Dataset\n"
   ]
  },
  {
   "cell_type": "markdown",
   "metadata": {},
   "source": [
    "**output format** :\n",
    "    \n",
    "array\n"
   ]
  },
  {
   "cell_type": "markdown",
   "metadata": {},
   "source": [
    "**Sample input** :\n",
    "    \n",
    "Load the dataset using inbuilt function"
   ]
  },
  {
   "cell_type": "markdown",
   "metadata": {},
   "source": [
    "**Sample output** : <br/>\n",
    "[[[-0.5 -0.5 -0.5 ... -0.5 -0.5 -0.5] <br/>\n",
    "  [-0.5 -0.5 -0.5 ... -0.5 -0.5 -0.5] <br/>\n",
    "  [-0.5 -0.5 -0.5 ... -0.5 -0.5 -0.5] <br/>\n",
    "  ...\n",
    "  [-0.5 -0.5 -0.5 ... -0.5 -0.5 -0.5]  <br/>\n",
    "  [-0.5 -0.5 -0.5 ... -0.5 -0.5 -0.5]  <br/>\n",
    "  [-0.5 -0.5 -0.5 ... -0.5 -0.5 -0.5]]  <br/>\n"
   ]
  },
  {
   "cell_type": "code",
   "execution_count": 1,
   "metadata": {},
   "outputs": [],
   "source": [
    "import tensorflow as tf"
   ]
  },
  {
   "cell_type": "code",
   "execution_count": 2,
   "metadata": {},
   "outputs": [],
   "source": [
    "# Write your code here."
   ]
  },
  {
   "cell_type": "code",
   "execution_count": null,
   "metadata": {},
   "outputs": [],
   "source": []
  }
 ],
 "metadata": {
  "kernelspec": {
   "display_name": "Python 3",
   "language": "python",
   "name": "python3"
  },
  "language_info": {
   "codemirror_mode": {
    "name": "ipython",
    "version": 3
   },
   "file_extension": ".py",
   "mimetype": "text/x-python",
   "name": "python",
   "nbconvert_exporter": "python",
   "pygments_lexer": "ipython3",
   "version": "3.7.4"
  }
 },
 "nbformat": 4,
 "nbformat_minor": 4
}

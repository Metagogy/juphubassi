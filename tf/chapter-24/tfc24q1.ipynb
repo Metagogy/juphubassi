{
 "cells": [
  {
   "cell_type": "markdown",
   "metadata": {},
   "source": [
    "**Task**: Build, compile, train, and evaluate cats vs dogs dataset using the sequential model and data augmentation "
   ]
  },
  {
   "cell_type": "markdown",
   "metadata": {},
   "source": [
    "**Description**:\n",
    "\n",
    "Load the cats vs dogs training and testing datasets in respective paths \n",
    "\n",
    "The data set already splitted into 2000 training and 1000 validation sets\n",
    "\n",
    "Using Image data generators preprocess train and validation sets by including augmentation in training data generator. Make sure to use (224,224) as image size or shape\n",
    "\n",
    "Build a sequential model with 2 layers as 32 neurons and 1 layer as 64 neurons with relu activation function. Flatten the images and use the sigmoid function in the last dense layer with a dropout as 0.5\n",
    "\n",
    "Compile the model with loss as binary cross-entropy and optimizer as adam with learning rate 0.001\n",
    "\n",
    "Train the model with 5 epochs, 20 as a batch size\n",
    "\n",
    "Finally, evaluate the model and print the validation accuracy"
   ]
  },
  {
   "cell_type": "markdown",
   "metadata": {},
   "source": [
    "**Level**: Hard"
   ]
  },
  {
   "cell_type": "markdown",
   "metadata": {},
   "source": [
    "**Input format**: \n",
    "\n",
    "Dataset"
   ]
  },
  {
   "cell_type": "markdown",
   "metadata": {},
   "source": [
    "**Output format**: \n",
    "\n",
    "Accuracy"
   ]
  },
  {
   "cell_type": "markdown",
   "metadata": {},
   "source": [
    "**Sample input**: \n",
    "\n",
    "Cats vs Dogs dataset"
   ]
  },
  {
   "cell_type": "markdown",
   "metadata": {},
   "source": [
    "**Sample output**: \n",
    "\n",
    "Accuracy: 0.5230000019073486"
   ]
  },
  {
   "cell_type": "code",
   "execution_count": null,
   "metadata": {},
   "outputs": [],
   "source": [
    "# Write your code here"
   ]
  },
  {
   "cell_type": "code",
   "execution_count": null,
   "metadata": {},
   "outputs": [],
   "source": []
  },
  {
   "cell_type": "code",
   "execution_count": null,
   "metadata": {},
   "outputs": [],
   "source": []
  },
  {
   "cell_type": "code",
   "execution_count": null,
   "metadata": {},
   "outputs": [],
   "source": []
  }
 ],
 "metadata": {
  "kernelspec": {
   "display_name": "Python 3",
   "language": "python",
   "name": "python3"
  },
  "language_info": {
   "codemirror_mode": {
    "name": "ipython",
    "version": 3
   },
   "file_extension": ".py",
   "mimetype": "text/x-python",
   "name": "python",
   "nbconvert_exporter": "python",
   "pygments_lexer": "ipython3",
   "version": "3.7.4"
  }
 },
 "nbformat": 4,
 "nbformat_minor": 4
}

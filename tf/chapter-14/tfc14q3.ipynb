{
 "cells": [
  {
   "cell_type": "markdown",
   "metadata": {},
   "source": [
    "**Question** : Construct a sequential model to demonstrate the Maximum Pooling Layer."
   ]
  },
  {
   "cell_type": "markdown",
   "metadata": {},
   "source": [
    "**Description** :\n",
    "\n",
    "Define a single input sample that has one channel and is an 8 pixel by 8 pixel square with all 0 values and a two-pixel wide horizontal line in the center.\n",
    "\n",
    "Define a sequential model with the shape (8, 8, 1) and a single hidden convolutional layer with a single filter with the shape of (3x3) pixels having ‘relu’ activation\n",
    "\n",
    "Define MaxPooling2D layer\n",
    "\n",
    "Define our own 3×3 filter that will detect horizontal lines. \n",
    "\n",
    "Apply the filter to our input sample by using the predict() function on the model.\n",
    "\n",
    "Print the result i.e., four-dimensional output with one batch, number of rows and columns, and one filter\n"
   ]
  },
  {
   "cell_type": "markdown",
   "metadata": {},
   "source": [
    "**Level** : Medium"
   ]
  },
  {
   "cell_type": "markdown",
   "metadata": {},
   "source": [
    "**Input format** : Array\n"
   ]
  },
  {
   "cell_type": "markdown",
   "metadata": {},
   "source": [
    "**Output format** : Array\n"
   ]
  },
  {
   "cell_type": "markdown",
   "metadata": {},
   "source": [
    "**Sample input** : 8 x 8 matrix\n",
    "    \n",
    "[[0, 0, 0, 0, 0, 0, 0, 0],\n",
    " \n",
    " [0, 0, 0, 0, 0, 0, 0, 0],\n",
    " \n",
    " [0, 0, 0, 0, 0, 0, 0, 0],\n",
    " \n",
    " [1, 1, 1, 1, 1, 1, 1, 1],\n",
    " \n",
    " [1, 1, 1, 1, 1, 1, 1, 1],\n",
    " \n",
    " [0, 0, 0, 0, 0, 0, 0, 0],\n",
    " \n",
    " [0, 0, 0, 0, 0, 0, 0, 0],\n",
    " \n",
    " [0, 0, 0, 0, 0, 0, 0, 0]]\n"
   ]
  },
  {
   "cell_type": "markdown",
   "metadata": {},
   "source": [
    "**Sample output** : 3 x 3 matrix\n",
    "    \n",
    "[0.0, 0.0, 0.0]\n",
    "\n",
    "[3.0, 3.0, 3.0]\n",
    "\n",
    "[0.0, 0.0, 0.0]\n"
   ]
  },
  {
   "cell_type": "markdown",
   "metadata": {},
   "source": [
    "**Solution** :"
   ]
  },
  {
   "cell_type": "code",
   "execution_count": null,
   "metadata": {},
   "outputs": [],
   "source": [
    "from tensorflow import keras\n",
    "from numpy import asarray\n",
    "from tensorflow.keras.models import Sequential\n",
    "from tensorflow.keras.layers import Conv2D,MaxPooling2D "
   ]
  },
  {
   "cell_type": "code",
   "execution_count": null,
   "metadata": {},
   "outputs": [],
   "source": [
    "#Write your Code Here"
   ]
  }
 ],
 "metadata": {
  "kernelspec": {
   "display_name": "Python 3",
   "language": "python",
   "name": "python3"
  },
  "language_info": {
   "codemirror_mode": {
    "name": "ipython",
    "version": 3
   },
   "file_extension": ".py",
   "mimetype": "text/x-python",
   "name": "python",
   "nbconvert_exporter": "python",
   "pygments_lexer": "ipython3",
   "version": "3.9.0"
  }
 },
 "nbformat": 4,
 "nbformat_minor": 4
}

{
 "cells": [
  {
   "cell_type": "markdown",
   "metadata": {},
   "source": [
    "**Question** : Load and normalize the mnist dataset. Evaluate the model using SGD optimizer, loss as \"categorical_crossentropy\" with layer as Dropout.\n"
   ]
  },
  {
   "cell_type": "markdown",
   "metadata": {},
   "source": [
    "**Description** : \n",
    "\n",
    "Load the mnist dataset using inbuilt dataset function and split into training and testing images.\n",
    "\n",
    "Flatten the dataset images by using reshape. \n",
    "\n",
    "Normalize the dataset images by dividing it with 255 \n",
    "\n",
    "Transform class labels into binary class matrices\n",
    "\n",
    "Build the mnist dataset model by using a sequential layer and adding the first layer as dense with 128 neurons and input_shape as 784 and next activation functions as Relu. Add third layers having 0.3 neurons in dropout layer and fourth layer having 128 neurons in dense layer and next activation function as relu. Add a sixth layer having 0.3 neurons in the dropout layer and the next layer as Dense with 10 neurons and the next activation function as Softmax.\n",
    "\n",
    "Compile the model using SGD optimizer, loss as \"categorical_crossentropy\" \n",
    "\n",
    "Train the model using 10 epochs, 128 as batch size, 1 as verbose and validation_split as 0.2\n",
    "\n",
    "Evaluate the mnist model by using test images and labels.\n"
   ]
  },
  {
   "cell_type": "markdown",
   "metadata": {},
   "source": [
    "**Level** : Hard"
   ]
  },
  {
   "cell_type": "markdown",
   "metadata": {},
   "source": [
    "**Input format** : Dataset"
   ]
  },
  {
   "cell_type": "markdown",
   "metadata": {},
   "source": [
    "**Output format** : Model Accuracy\n"
   ]
  },
  {
   "cell_type": "markdown",
   "metadata": {},
   "source": [
    "**Sample input** : Load the dataset using inbuilt function\n"
   ]
  },
  {
   "cell_type": "markdown",
   "metadata": {},
   "source": [
    "**Sample Output** : Testing dataset Accuracy \n"
   ]
  },
  {
   "cell_type": "markdown",
   "metadata": {},
   "source": [
    "**SOLUTION**"
   ]
  },
  {
   "cell_type": "code",
   "execution_count": null,
   "metadata": {},
   "outputs": [],
   "source": [
    "import tensorflow as tf"
   ]
  },
  {
   "cell_type": "code",
   "execution_count": null,
   "metadata": {},
   "outputs": [],
   "source": [
    "# Write your code here."
   ]
  },
  {
   "cell_type": "code",
   "execution_count": null,
   "metadata": {},
   "outputs": [],
   "source": []
  }
 ],
 "metadata": {
  "kernelspec": {
   "display_name": "Python 3",
   "language": "python",
   "name": "python3"
  },
  "language_info": {
   "codemirror_mode": {
    "name": "ipython",
    "version": 3
   },
   "file_extension": ".py",
   "mimetype": "text/x-python",
   "name": "python",
   "nbconvert_exporter": "python",
   "pygments_lexer": "ipython3",
   "version": "3.6.5"
  }
 },
 "nbformat": 4,
 "nbformat_minor": 4
}

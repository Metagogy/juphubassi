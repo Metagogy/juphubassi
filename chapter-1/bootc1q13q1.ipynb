{
 "cells": [
  {
   "cell_type": "markdown",
   "metadata": {},
   "source": "**Question** : Write a program that accepts a sentence and calculates the number of upper case letters and lowercase letters using isupper() and islower() function.\n"
  },
  {
   "cell_type": "markdown",
   "metadata": {},
   "source": "**Level** : Easy"
  },
  {
   "cell_type": "markdown",
   "metadata": {},
   "source": "**Input Format** : sentence as input\n"
  },
  {
   "cell_type": "markdown",
   "metadata": {},
   "source": "**Output Format** : Calculates uppercase and lowercase letters"
  },
  {
   "cell_type": "markdown",
   "metadata": {},
   "source": "**Sample Input** : Hello world!\n"
  },
  {
   "cell_type": "markdown",
   "metadata": {},
   "source": "**Sample Output** :\n    \nUPPER CASE 1\n\nLOWER CASE 9\n"
  },
  {
   "cell_type": "code",
   "execution_count": 1,
   "metadata": {},
   "outputs": [],
   "source": "# Write your code here."
  },
  {
   "cell_type": "code",
   "execution_count": null,
   "metadata": {},
   "outputs": [],
   "source": ""
  }
 ],
 "metadata": {
  "kernelspec": {
   "display_name": "Python 3",
   "language": "python",
   "name": "python3"
  },
  "language_info": {
   "codemirror_mode": {
    "name": "ipython",
    "version": 2
   },
   "file_extension": ".py",
   "mimetype": "text/x-python",
   "name": "python",
   "nbconvert_exporter": "python",
   "pygments_lexer": "ipython2",
   "version": "2.7.15+"
  }
 },
 "nbformat": 4,
 "nbformat_minor": 4
}

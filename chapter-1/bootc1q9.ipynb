{
 "cells": [
  {
   "cell_type": "markdown",
   "metadata": {},
   "source": [
    "**Question** : write a program to perform arithmetic operations like addition, subtraction, multiplication, division, floor division, power on given two numbers a and b the output should be \n",
    "\n",
    "+: 5\n",
    "\n",
    "-: 1\n",
    "\n",
    "*: 6\n",
    "\n",
    "/: 1.5\n",
    "\n",
    "//: 1\n",
    "\n",
    "**: 9"
   ]
  },
  {
   "cell_type": "markdown",
   "metadata": {},
   "source": [
    "**Level** : Easy"
   ]
  },
  {
   "cell_type": "markdown",
   "metadata": {},
   "source": [
    "**input format:**\n",
    "integer,integer"
   ]
  },
  {
   "cell_type": "markdown",
   "metadata": {},
   "source": [
    "**output format:**\n",
    "integer/float"
   ]
  },
  {
   "cell_type": "markdown",
   "metadata": {},
   "source": [
    "**Sample input :**\n",
    "3 2"
   ]
  },
  {
   "cell_type": "markdown",
   "metadata": {},
   "source": [
    "**Sample output :**\n",
    "\n",
    "+: 5\n",
    "\n",
    "-: 1\n",
    "\n",
    "*: 6\n",
    "\n",
    "/: 1.5\n",
    "\n",
    "//: 1\n",
    "\n",
    "**: 9"
   ]
  },
  {
   "cell_type": "code",
   "execution_count": null,
   "metadata": {},
   "outputs": [],
   "source": [
    "# write your code here\n",
    "\n"
   ]
  }
 ],
 "metadata": {
  "kernelspec": {
   "display_name": "Python 3",
   "language": "python",
   "name": "python3"
  },
  "language_info": {
   "name": ""
  }
 },
 "nbformat": 4,
 "nbformat_minor": 4
}
